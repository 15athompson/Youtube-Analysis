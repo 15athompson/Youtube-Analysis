{
 "cells": [
  {
   "cell_type": "markdown",
   "id": "35eef31c",
   "metadata": {
    "papermill": {
     "duration": 0.056584,
     "end_time": "2023-12-19T20:14:22.146777",
     "exception": false,
     "start_time": "2023-12-19T20:14:22.090193",
     "status": "completed"
    },
    "tags": []
   },
   "source": [
    "# Import all the libraries:"
   ]
  },
  {
   "cell_type": "code",
   "execution_count": 1,
   "id": "1e9e8e1f",
   "metadata": {
    "execution": {
     "iopub.execute_input": "2023-12-19T20:14:22.280536Z",
     "iopub.status.busy": "2023-12-19T20:14:22.279373Z",
     "iopub.status.idle": "2023-12-19T20:14:22.292810Z",
     "shell.execute_reply": "2023-12-19T20:14:22.293462Z",
     "shell.execute_reply.started": "2022-03-20T04:11:04.638049Z"
    },
    "papermill": {
     "duration": 0.079832,
     "end_time": "2023-12-19T20:14:22.293750",
     "exception": false,
     "start_time": "2023-12-19T20:14:22.213918",
     "status": "completed"
    },
    "tags": []
   },
   "outputs": [
    {
     "name": "stdout",
     "output_type": "stream",
     "text": [
      "/kaggle/input/ken-jee-youtube-data/Aggregated_Metrics_By_Country_And_Subscriber_Status.csv\n",
      "/kaggle/input/ken-jee-youtube-data/All_Comments_Final.csv\n",
      "/kaggle/input/ken-jee-youtube-data/Aggregated_Metrics_By_Video.csv\n",
      "/kaggle/input/ken-jee-youtube-data/Video_Performance_Over_Time.csv\n"
     ]
    }
   ],
   "source": [
    "import os\n",
    "for dirname, _, filenames in os.walk('/kaggle/input'):\n",
    "    for filename in filenames:\n",
    "        print(os.path.join(dirname, filename))\n"
   ]
  },
  {
   "cell_type": "code",
   "execution_count": 2,
   "id": "3034ca86",
   "metadata": {
    "execution": {
     "iopub.execute_input": "2023-12-19T20:14:22.418918Z",
     "iopub.status.busy": "2023-12-19T20:14:22.418217Z",
     "iopub.status.idle": "2023-12-19T20:14:25.196349Z",
     "shell.execute_reply": "2023-12-19T20:14:25.195902Z",
     "shell.execute_reply.started": "2022-03-20T04:11:04.651074Z"
    },
    "papermill": {
     "duration": 2.840819,
     "end_time": "2023-12-19T20:14:25.196478",
     "exception": false,
     "start_time": "2023-12-19T20:14:22.355659",
     "status": "completed"
    },
    "tags": []
   },
   "outputs": [
    {
     "name": "stderr",
     "output_type": "stream",
     "text": [
      "/opt/conda/lib/python3.7/site-packages/geopandas/_compat.py:115: UserWarning: The Shapely GEOS version (3.9.1-CAPI-1.14.2) is incompatible with the GEOS version PyGEOS was compiled with (3.10.1-CAPI-1.16.0). Conversions between both will be slow.\n",
      "  shapely_geos_version, geos_capi_version_string\n"
     ]
    }
   ],
   "source": [
    "import pandas as pd\n",
    "import numpy as np\n",
    "import plotly.express as px\n",
    "import plotly.graph_objects as go\n",
    "import plotly.figure_factory as ff"
   ]
  },
  {
   "cell_type": "markdown",
   "id": "b25d6cfd",
   "metadata": {
    "papermill": {
     "duration": 0.056804,
     "end_time": "2023-12-19T20:14:25.311300",
     "exception": false,
     "start_time": "2023-12-19T20:14:25.254496",
     "status": "completed"
    },
    "tags": []
   },
   "source": [
    "# Read the datasets:"
   ]
  },
  {
   "cell_type": "code",
   "execution_count": 3,
   "id": "4f70ac75",
   "metadata": {
    "execution": {
     "iopub.execute_input": "2023-12-19T20:14:25.429864Z",
     "iopub.status.busy": "2023-12-19T20:14:25.429275Z",
     "iopub.status.idle": "2023-12-19T20:14:25.760050Z",
     "shell.execute_reply": "2023-12-19T20:14:25.760543Z",
     "shell.execute_reply.started": "2022-03-20T04:11:04.66813Z"
    },
    "papermill": {
     "duration": 0.391947,
     "end_time": "2023-12-19T20:14:25.760690",
     "exception": false,
     "start_time": "2023-12-19T20:14:25.368743",
     "status": "completed"
    },
    "tags": []
   },
   "outputs": [],
   "source": [
    "df1=pd.read_csv(r\"/kaggle/input/ken-jee-youtube-data/Aggregated_Metrics_By_Country_And_Subscriber_Status.csv\")\n",
    "df2=pd.read_csv(r\"/kaggle/input/ken-jee-youtube-data/Aggregated_Metrics_By_Video.csv\")\n",
    "df3=pd.read_csv(r\"/kaggle/input/ken-jee-youtube-data/All_Comments_Final.csv\")"
   ]
  },
  {
   "cell_type": "markdown",
   "id": "bc704c92",
   "metadata": {
    "papermill": {
     "duration": 0.056218,
     "end_time": "2023-12-19T20:14:25.872972",
     "exception": false,
     "start_time": "2023-12-19T20:14:25.816754",
     "status": "completed"
    },
    "tags": []
   },
   "source": [
    "# Print first 5 Rows of Dataset First Data Frame Country_And_Subscriber_Status"
   ]
  },
  {
   "cell_type": "code",
   "execution_count": 4,
   "id": "bebb204f",
   "metadata": {
    "execution": {
     "iopub.execute_input": "2023-12-19T20:14:25.988161Z",
     "iopub.status.busy": "2023-12-19T20:14:25.987646Z",
     "iopub.status.idle": "2023-12-19T20:14:26.065785Z",
     "shell.execute_reply": "2023-12-19T20:14:26.066201Z",
     "shell.execute_reply.started": "2022-03-20T04:31:43.59222Z"
    },
    "papermill": {
     "duration": 0.137155,
     "end_time": "2023-12-19T20:14:26.066355",
     "exception": false,
     "start_time": "2023-12-19T20:14:25.929200",
     "status": "completed"
    },
    "tags": []
   },
   "outputs": [
    {
     "data": {
      "text/html": [
       "<style type=\"text/css\">\n",
       "#T_f6e12_row0_col0, #T_f6e12_row0_col1, #T_f6e12_row0_col2, #T_f6e12_row0_col3, #T_f6e12_row0_col4, #T_f6e12_row0_col5, #T_f6e12_row0_col6, #T_f6e12_row0_col7, #T_f6e12_row0_col8, #T_f6e12_row0_col9, #T_f6e12_row0_col10, #T_f6e12_row0_col11, #T_f6e12_row0_col12, #T_f6e12_row0_col13, #T_f6e12_row0_col14, #T_f6e12_row1_col0, #T_f6e12_row1_col1, #T_f6e12_row1_col2, #T_f6e12_row1_col3, #T_f6e12_row1_col4, #T_f6e12_row1_col5, #T_f6e12_row1_col6, #T_f6e12_row1_col7, #T_f6e12_row1_col8, #T_f6e12_row1_col9, #T_f6e12_row1_col10, #T_f6e12_row1_col11, #T_f6e12_row1_col12, #T_f6e12_row1_col13, #T_f6e12_row1_col14, #T_f6e12_row2_col0, #T_f6e12_row2_col1, #T_f6e12_row2_col2, #T_f6e12_row2_col3, #T_f6e12_row2_col4, #T_f6e12_row2_col5, #T_f6e12_row2_col6, #T_f6e12_row2_col7, #T_f6e12_row2_col8, #T_f6e12_row2_col9, #T_f6e12_row2_col10, #T_f6e12_row2_col11, #T_f6e12_row2_col12, #T_f6e12_row2_col13, #T_f6e12_row2_col14, #T_f6e12_row3_col0, #T_f6e12_row3_col1, #T_f6e12_row3_col2, #T_f6e12_row3_col3, #T_f6e12_row3_col4, #T_f6e12_row3_col5, #T_f6e12_row3_col6, #T_f6e12_row3_col7, #T_f6e12_row3_col8, #T_f6e12_row3_col9, #T_f6e12_row3_col10, #T_f6e12_row3_col11, #T_f6e12_row3_col12, #T_f6e12_row3_col13, #T_f6e12_row3_col14, #T_f6e12_row4_col0, #T_f6e12_row4_col1, #T_f6e12_row4_col2, #T_f6e12_row4_col3, #T_f6e12_row4_col4, #T_f6e12_row4_col5, #T_f6e12_row4_col6, #T_f6e12_row4_col7, #T_f6e12_row4_col8, #T_f6e12_row4_col9, #T_f6e12_row4_col10, #T_f6e12_row4_col11, #T_f6e12_row4_col12, #T_f6e12_row4_col13, #T_f6e12_row4_col14 {\n",
       "  background-color: black;\n",
       "  color: red;\n",
       "}\n",
       "</style>\n",
       "<table id=\"T_f6e12_\">\n",
       "  <thead>\n",
       "    <tr>\n",
       "      <th class=\"blank level0\" >&nbsp;</th>\n",
       "      <th class=\"col_heading level0 col0\" >Video Title</th>\n",
       "      <th class=\"col_heading level0 col1\" >External Video ID</th>\n",
       "      <th class=\"col_heading level0 col2\" >Video Length</th>\n",
       "      <th class=\"col_heading level0 col3\" >Thumbnail link</th>\n",
       "      <th class=\"col_heading level0 col4\" >Country Code</th>\n",
       "      <th class=\"col_heading level0 col5\" >Is Subscribed</th>\n",
       "      <th class=\"col_heading level0 col6\" >Views</th>\n",
       "      <th class=\"col_heading level0 col7\" >Video Likes Added</th>\n",
       "      <th class=\"col_heading level0 col8\" >Video Dislikes Added</th>\n",
       "      <th class=\"col_heading level0 col9\" >Video Likes Removed</th>\n",
       "      <th class=\"col_heading level0 col10\" >User Subscriptions Added</th>\n",
       "      <th class=\"col_heading level0 col11\" >User Subscriptions Removed</th>\n",
       "      <th class=\"col_heading level0 col12\" >Average View Percentage</th>\n",
       "      <th class=\"col_heading level0 col13\" >Average Watch Time</th>\n",
       "      <th class=\"col_heading level0 col14\" >User Comments Added</th>\n",
       "    </tr>\n",
       "  </thead>\n",
       "  <tbody>\n",
       "    <tr>\n",
       "      <th id=\"T_f6e12_level0_row0\" class=\"row_heading level0 row0\" >0</th>\n",
       "      <td id=\"T_f6e12_row0_col0\" class=\"data row0 col0\" >🌶 Hot Topics in Tech: Data Science Explained #SHORTS</td>\n",
       "      <td id=\"T_f6e12_row0_col1\" class=\"data row0 col1\" >OtqQYqRNDGI</td>\n",
       "      <td id=\"T_f6e12_row0_col2\" class=\"data row0 col2\" >59</td>\n",
       "      <td id=\"T_f6e12_row0_col3\" class=\"data row0 col3\" >https://i.ytimg.com/vi/OtqQYqRNDGI/hqdefault.jpg</td>\n",
       "      <td id=\"T_f6e12_row0_col4\" class=\"data row0 col4\" >HK</td>\n",
       "      <td id=\"T_f6e12_row0_col5\" class=\"data row0 col5\" >True</td>\n",
       "      <td id=\"T_f6e12_row0_col6\" class=\"data row0 col6\" >23</td>\n",
       "      <td id=\"T_f6e12_row0_col7\" class=\"data row0 col7\" >1</td>\n",
       "      <td id=\"T_f6e12_row0_col8\" class=\"data row0 col8\" >0</td>\n",
       "      <td id=\"T_f6e12_row0_col9\" class=\"data row0 col9\" >0</td>\n",
       "      <td id=\"T_f6e12_row0_col10\" class=\"data row0 col10\" >2</td>\n",
       "      <td id=\"T_f6e12_row0_col11\" class=\"data row0 col11\" >0</td>\n",
       "      <td id=\"T_f6e12_row0_col12\" class=\"data row0 col12\" >0.671870</td>\n",
       "      <td id=\"T_f6e12_row0_col13\" class=\"data row0 col13\" >39.640348</td>\n",
       "      <td id=\"T_f6e12_row0_col14\" class=\"data row0 col14\" >0</td>\n",
       "    </tr>\n",
       "    <tr>\n",
       "      <th id=\"T_f6e12_level0_row1\" class=\"row_heading level0 row1\" >1</th>\n",
       "      <td id=\"T_f6e12_row1_col0\" class=\"data row1 col0\" >🌶 Hot Topics in Tech: Data Science Explained #SHORTS</td>\n",
       "      <td id=\"T_f6e12_row1_col1\" class=\"data row1 col1\" >OtqQYqRNDGI</td>\n",
       "      <td id=\"T_f6e12_row1_col2\" class=\"data row1 col2\" >59</td>\n",
       "      <td id=\"T_f6e12_row1_col3\" class=\"data row1 col3\" >https://i.ytimg.com/vi/OtqQYqRNDGI/hqdefault.jpg</td>\n",
       "      <td id=\"T_f6e12_row1_col4\" class=\"data row1 col4\" >ME</td>\n",
       "      <td id=\"T_f6e12_row1_col5\" class=\"data row1 col5\" >True</td>\n",
       "      <td id=\"T_f6e12_row1_col6\" class=\"data row1 col6\" >3</td>\n",
       "      <td id=\"T_f6e12_row1_col7\" class=\"data row1 col7\" >0</td>\n",
       "      <td id=\"T_f6e12_row1_col8\" class=\"data row1 col8\" >0</td>\n",
       "      <td id=\"T_f6e12_row1_col9\" class=\"data row1 col9\" >0</td>\n",
       "      <td id=\"T_f6e12_row1_col10\" class=\"data row1 col10\" >0</td>\n",
       "      <td id=\"T_f6e12_row1_col11\" class=\"data row1 col11\" >0</td>\n",
       "      <td id=\"T_f6e12_row1_col12\" class=\"data row1 col12\" >0.498870</td>\n",
       "      <td id=\"T_f6e12_row1_col13\" class=\"data row1 col13\" >29.433333</td>\n",
       "      <td id=\"T_f6e12_row1_col14\" class=\"data row1 col14\" >0</td>\n",
       "    </tr>\n",
       "    <tr>\n",
       "      <th id=\"T_f6e12_level0_row2\" class=\"row_heading level0 row2\" >2</th>\n",
       "      <td id=\"T_f6e12_row2_col0\" class=\"data row2 col0\" >🌶 Hot Topics in Tech: Data Science Explained #SHORTS</td>\n",
       "      <td id=\"T_f6e12_row2_col1\" class=\"data row2 col1\" >OtqQYqRNDGI</td>\n",
       "      <td id=\"T_f6e12_row2_col2\" class=\"data row2 col2\" >59</td>\n",
       "      <td id=\"T_f6e12_row2_col3\" class=\"data row2 col3\" >https://i.ytimg.com/vi/OtqQYqRNDGI/hqdefault.jpg</td>\n",
       "      <td id=\"T_f6e12_row2_col4\" class=\"data row2 col4\" >RW</td>\n",
       "      <td id=\"T_f6e12_row2_col5\" class=\"data row2 col5\" >True</td>\n",
       "      <td id=\"T_f6e12_row2_col6\" class=\"data row2 col6\" >2</td>\n",
       "      <td id=\"T_f6e12_row2_col7\" class=\"data row2 col7\" >0</td>\n",
       "      <td id=\"T_f6e12_row2_col8\" class=\"data row2 col8\" >0</td>\n",
       "      <td id=\"T_f6e12_row2_col9\" class=\"data row2 col9\" >0</td>\n",
       "      <td id=\"T_f6e12_row2_col10\" class=\"data row2 col10\" >0</td>\n",
       "      <td id=\"T_f6e12_row2_col11\" class=\"data row2 col11\" >0</td>\n",
       "      <td id=\"T_f6e12_row2_col12\" class=\"data row2 col12\" >0.681780</td>\n",
       "      <td id=\"T_f6e12_row2_col13\" class=\"data row2 col13\" >40.225000</td>\n",
       "      <td id=\"T_f6e12_row2_col14\" class=\"data row2 col14\" >0</td>\n",
       "    </tr>\n",
       "    <tr>\n",
       "      <th id=\"T_f6e12_level0_row3\" class=\"row_heading level0 row3\" >3</th>\n",
       "      <td id=\"T_f6e12_row3_col0\" class=\"data row3 col0\" >🌶 Hot Topics in Tech: Data Science Explained #SHORTS</td>\n",
       "      <td id=\"T_f6e12_row3_col1\" class=\"data row3 col1\" >OtqQYqRNDGI</td>\n",
       "      <td id=\"T_f6e12_row3_col2\" class=\"data row3 col2\" >59</td>\n",
       "      <td id=\"T_f6e12_row3_col3\" class=\"data row3 col3\" >https://i.ytimg.com/vi/OtqQYqRNDGI/hqdefault.jpg</td>\n",
       "      <td id=\"T_f6e12_row3_col4\" class=\"data row3 col4\" >US</td>\n",
       "      <td id=\"T_f6e12_row3_col5\" class=\"data row3 col5\" >True</td>\n",
       "      <td id=\"T_f6e12_row3_col6\" class=\"data row3 col6\" >979</td>\n",
       "      <td id=\"T_f6e12_row3_col7\" class=\"data row3 col7\" >81</td>\n",
       "      <td id=\"T_f6e12_row3_col8\" class=\"data row3 col8\" >6</td>\n",
       "      <td id=\"T_f6e12_row3_col9\" class=\"data row3 col9\" >8</td>\n",
       "      <td id=\"T_f6e12_row3_col10\" class=\"data row3 col10\" >16</td>\n",
       "      <td id=\"T_f6e12_row3_col11\" class=\"data row3 col11\" >4</td>\n",
       "      <td id=\"T_f6e12_row3_col12\" class=\"data row3 col12\" >0.694854</td>\n",
       "      <td id=\"T_f6e12_row3_col13\" class=\"data row3 col13\" >40.996389</td>\n",
       "      <td id=\"T_f6e12_row3_col14\" class=\"data row3 col14\" >0</td>\n",
       "    </tr>\n",
       "    <tr>\n",
       "      <th id=\"T_f6e12_level0_row4\" class=\"row_heading level0 row4\" >4</th>\n",
       "      <td id=\"T_f6e12_row4_col0\" class=\"data row4 col0\" >🌶 Hot Topics in Tech: Data Science Explained #SHORTS</td>\n",
       "      <td id=\"T_f6e12_row4_col1\" class=\"data row4 col1\" >OtqQYqRNDGI</td>\n",
       "      <td id=\"T_f6e12_row4_col2\" class=\"data row4 col2\" >59</td>\n",
       "      <td id=\"T_f6e12_row4_col3\" class=\"data row4 col3\" >https://i.ytimg.com/vi/OtqQYqRNDGI/hqdefault.jpg</td>\n",
       "      <td id=\"T_f6e12_row4_col4\" class=\"data row4 col4\" >DE</td>\n",
       "      <td id=\"T_f6e12_row4_col5\" class=\"data row4 col5\" >False</td>\n",
       "      <td id=\"T_f6e12_row4_col6\" class=\"data row4 col6\" >75</td>\n",
       "      <td id=\"T_f6e12_row4_col7\" class=\"data row4 col7\" >3</td>\n",
       "      <td id=\"T_f6e12_row4_col8\" class=\"data row4 col8\" >0</td>\n",
       "      <td id=\"T_f6e12_row4_col9\" class=\"data row4 col9\" >1</td>\n",
       "      <td id=\"T_f6e12_row4_col10\" class=\"data row4 col10\" >0</td>\n",
       "      <td id=\"T_f6e12_row4_col11\" class=\"data row4 col11\" >0</td>\n",
       "      <td id=\"T_f6e12_row4_col12\" class=\"data row4 col12\" >0.661515</td>\n",
       "      <td id=\"T_f6e12_row4_col13\" class=\"data row4 col13\" >39.029373</td>\n",
       "      <td id=\"T_f6e12_row4_col14\" class=\"data row4 col14\" >0</td>\n",
       "    </tr>\n",
       "  </tbody>\n",
       "</table>\n"
      ],
      "text/plain": [
       "<pandas.io.formats.style.Styler at 0x7dd0347731d0>"
      ]
     },
     "execution_count": 4,
     "metadata": {},
     "output_type": "execute_result"
    }
   ],
   "source": [
    "df1.head().style.set_properties(**{\"background-color\":\"black\",\"color\":\"red\"})"
   ]
  },
  {
   "cell_type": "markdown",
   "id": "ae16a1a6",
   "metadata": {
    "papermill": {
     "duration": 0.057516,
     "end_time": "2023-12-19T20:14:26.181480",
     "exception": false,
     "start_time": "2023-12-19T20:14:26.123964",
     "status": "completed"
    },
    "tags": []
   },
   "source": [
    "# Show the Shape of Dataset:"
   ]
  },
  {
   "cell_type": "code",
   "execution_count": 5,
   "id": "8ee4247f",
   "metadata": {
    "execution": {
     "iopub.execute_input": "2023-12-19T20:14:26.303816Z",
     "iopub.status.busy": "2023-12-19T20:14:26.302983Z",
     "iopub.status.idle": "2023-12-19T20:14:26.306887Z",
     "shell.execute_reply": "2023-12-19T20:14:26.306467Z",
     "shell.execute_reply.started": "2022-03-20T04:11:04.953448Z"
    },
    "papermill": {
     "duration": 0.066226,
     "end_time": "2023-12-19T20:14:26.307000",
     "exception": false,
     "start_time": "2023-12-19T20:14:26.240774",
     "status": "completed"
    },
    "tags": []
   },
   "outputs": [
    {
     "name": "stdout",
     "output_type": "stream",
     "text": [
      "=============================\n",
      "Show Number of Rows: 55292\n",
      "Show Number of Columns: 15\n"
     ]
    }
   ],
   "source": [
    "print(\"=============================\")\n",
    "print(\"Show Number of Rows:\",df1.shape[0])\n",
    "print(\"Show Number of Columns:\",df1.shape[1])"
   ]
  },
  {
   "cell_type": "markdown",
   "id": "53643759",
   "metadata": {
    "papermill": {
     "duration": 0.058943,
     "end_time": "2023-12-19T20:14:26.425248",
     "exception": false,
     "start_time": "2023-12-19T20:14:26.366305",
     "status": "completed"
    },
    "tags": []
   },
   "source": [
    "# Let's see datatypes:"
   ]
  },
  {
   "cell_type": "code",
   "execution_count": 6,
   "id": "0ed3d1ca",
   "metadata": {
    "execution": {
     "iopub.execute_input": "2023-12-19T20:14:26.549003Z",
     "iopub.status.busy": "2023-12-19T20:14:26.548429Z",
     "iopub.status.idle": "2023-12-19T20:14:26.550738Z",
     "shell.execute_reply": "2023-12-19T20:14:26.551093Z",
     "shell.execute_reply.started": "2022-03-20T04:11:04.968204Z"
    },
    "papermill": {
     "duration": 0.066524,
     "end_time": "2023-12-19T20:14:26.551241",
     "exception": false,
     "start_time": "2023-12-19T20:14:26.484717",
     "status": "completed"
    },
    "tags": []
   },
   "outputs": [
    {
     "data": {
      "text/plain": [
       "Video Title                    object\n",
       "External Video ID              object\n",
       "Video Length                    int64\n",
       "Thumbnail link                 object\n",
       "Country Code                   object\n",
       "Is Subscribed                    bool\n",
       "Views                           int64\n",
       "Video Likes Added               int64\n",
       "Video Dislikes Added            int64\n",
       "Video Likes Removed             int64\n",
       "User Subscriptions Added        int64\n",
       "User Subscriptions Removed      int64\n",
       "Average View Percentage       float64\n",
       "Average Watch Time            float64\n",
       "User Comments Added             int64\n",
       "dtype: object"
      ]
     },
     "execution_count": 6,
     "metadata": {},
     "output_type": "execute_result"
    }
   ],
   "source": [
    "df1.dtypes"
   ]
  },
  {
   "cell_type": "markdown",
   "id": "527c91fe",
   "metadata": {
    "papermill": {
     "duration": 0.05816,
     "end_time": "2023-12-19T20:14:26.668539",
     "exception": false,
     "start_time": "2023-12-19T20:14:26.610379",
     "status": "completed"
    },
    "tags": []
   },
   "source": [
    "# Show the information in this dataset"
   ]
  },
  {
   "cell_type": "code",
   "execution_count": 7,
   "id": "ecc9b12d",
   "metadata": {
    "execution": {
     "iopub.execute_input": "2023-12-19T20:14:26.788560Z",
     "iopub.status.busy": "2023-12-19T20:14:26.788030Z",
     "iopub.status.idle": "2023-12-19T20:14:26.813476Z",
     "shell.execute_reply": "2023-12-19T20:14:26.812890Z",
     "shell.execute_reply.started": "2022-03-20T04:11:04.986426Z"
    },
    "papermill": {
     "duration": 0.086206,
     "end_time": "2023-12-19T20:14:26.813609",
     "exception": false,
     "start_time": "2023-12-19T20:14:26.727403",
     "status": "completed"
    },
    "tags": []
   },
   "outputs": [
    {
     "name": "stdout",
     "output_type": "stream",
     "text": [
      "<class 'pandas.core.frame.DataFrame'>\n",
      "RangeIndex: 55292 entries, 0 to 55291\n",
      "Data columns (total 15 columns):\n",
      " #   Column                      Non-Null Count  Dtype  \n",
      "---  ------                      --------------  -----  \n",
      " 0   Video Title                 55292 non-null  object \n",
      " 1   External Video ID           55292 non-null  object \n",
      " 2   Video Length                55292 non-null  int64  \n",
      " 3   Thumbnail link              55292 non-null  object \n",
      " 4   Country Code                54906 non-null  object \n",
      " 5   Is Subscribed               55292 non-null  bool   \n",
      " 6   Views                       55292 non-null  int64  \n",
      " 7   Video Likes Added           55292 non-null  int64  \n",
      " 8   Video Dislikes Added        55292 non-null  int64  \n",
      " 9   Video Likes Removed         55292 non-null  int64  \n",
      " 10  User Subscriptions Added    55292 non-null  int64  \n",
      " 11  User Subscriptions Removed  55292 non-null  int64  \n",
      " 12  Average View Percentage     53854 non-null  float64\n",
      " 13  Average Watch Time          53854 non-null  float64\n",
      " 14  User Comments Added         55292 non-null  int64  \n",
      "dtypes: bool(1), float64(2), int64(8), object(4)\n",
      "memory usage: 6.0+ MB\n"
     ]
    }
   ],
   "source": [
    "df1.info()"
   ]
  },
  {
   "cell_type": "markdown",
   "id": "e05bb5a2",
   "metadata": {
    "papermill": {
     "duration": 0.058054,
     "end_time": "2023-12-19T20:14:26.930545",
     "exception": false,
     "start_time": "2023-12-19T20:14:26.872491",
     "status": "completed"
    },
    "tags": []
   },
   "source": [
    "# Describe the data;\n"
   ]
  },
  {
   "cell_type": "code",
   "execution_count": 8,
   "id": "31903db9",
   "metadata": {
    "execution": {
     "iopub.execute_input": "2023-12-19T20:14:27.055863Z",
     "iopub.status.busy": "2023-12-19T20:14:27.055377Z",
     "iopub.status.idle": "2023-12-19T20:14:27.097920Z",
     "shell.execute_reply": "2023-12-19T20:14:27.097431Z",
     "shell.execute_reply.started": "2022-03-20T04:31:55.454613Z"
    },
    "papermill": {
     "duration": 0.109256,
     "end_time": "2023-12-19T20:14:27.098033",
     "exception": false,
     "start_time": "2023-12-19T20:14:26.988777",
     "status": "completed"
    },
    "tags": []
   },
   "outputs": [
    {
     "data": {
      "text/html": [
       "<style type=\"text/css\">\n",
       "#T_53fb4_row0_col0, #T_53fb4_row0_col1, #T_53fb4_row0_col2, #T_53fb4_row0_col3, #T_53fb4_row0_col4, #T_53fb4_row0_col5, #T_53fb4_row0_col6, #T_53fb4_row0_col7, #T_53fb4_row0_col8, #T_53fb4_row0_col9, #T_53fb4_row1_col0, #T_53fb4_row1_col1, #T_53fb4_row1_col2, #T_53fb4_row1_col3, #T_53fb4_row1_col4, #T_53fb4_row1_col5, #T_53fb4_row1_col6, #T_53fb4_row1_col7, #T_53fb4_row1_col8, #T_53fb4_row1_col9, #T_53fb4_row2_col0, #T_53fb4_row2_col1, #T_53fb4_row2_col2, #T_53fb4_row2_col3, #T_53fb4_row2_col4, #T_53fb4_row2_col5, #T_53fb4_row2_col6, #T_53fb4_row2_col7, #T_53fb4_row2_col8, #T_53fb4_row2_col9, #T_53fb4_row3_col0, #T_53fb4_row3_col1, #T_53fb4_row3_col2, #T_53fb4_row3_col3, #T_53fb4_row3_col4, #T_53fb4_row3_col5, #T_53fb4_row3_col6, #T_53fb4_row3_col7, #T_53fb4_row3_col8, #T_53fb4_row3_col9, #T_53fb4_row4_col0, #T_53fb4_row4_col1, #T_53fb4_row4_col2, #T_53fb4_row4_col3, #T_53fb4_row4_col4, #T_53fb4_row4_col5, #T_53fb4_row4_col6, #T_53fb4_row4_col7, #T_53fb4_row4_col8, #T_53fb4_row4_col9, #T_53fb4_row5_col0, #T_53fb4_row5_col1, #T_53fb4_row5_col2, #T_53fb4_row5_col3, #T_53fb4_row5_col4, #T_53fb4_row5_col5, #T_53fb4_row5_col6, #T_53fb4_row5_col7, #T_53fb4_row5_col8, #T_53fb4_row5_col9, #T_53fb4_row6_col0, #T_53fb4_row6_col1, #T_53fb4_row6_col2, #T_53fb4_row6_col3, #T_53fb4_row6_col4, #T_53fb4_row6_col5, #T_53fb4_row6_col6, #T_53fb4_row6_col7, #T_53fb4_row6_col8, #T_53fb4_row6_col9, #T_53fb4_row7_col0, #T_53fb4_row7_col1, #T_53fb4_row7_col2, #T_53fb4_row7_col3, #T_53fb4_row7_col4, #T_53fb4_row7_col5, #T_53fb4_row7_col6, #T_53fb4_row7_col7, #T_53fb4_row7_col8, #T_53fb4_row7_col9 {\n",
       "  background-color: black;\n",
       "  color: red;\n",
       "}\n",
       "</style>\n",
       "<table id=\"T_53fb4_\">\n",
       "  <thead>\n",
       "    <tr>\n",
       "      <th class=\"blank level0\" >&nbsp;</th>\n",
       "      <th class=\"col_heading level0 col0\" >Video Length</th>\n",
       "      <th class=\"col_heading level0 col1\" >Views</th>\n",
       "      <th class=\"col_heading level0 col2\" >Video Likes Added</th>\n",
       "      <th class=\"col_heading level0 col3\" >Video Dislikes Added</th>\n",
       "      <th class=\"col_heading level0 col4\" >Video Likes Removed</th>\n",
       "      <th class=\"col_heading level0 col5\" >User Subscriptions Added</th>\n",
       "      <th class=\"col_heading level0 col6\" >User Subscriptions Removed</th>\n",
       "      <th class=\"col_heading level0 col7\" >Average View Percentage</th>\n",
       "      <th class=\"col_heading level0 col8\" >Average Watch Time</th>\n",
       "      <th class=\"col_heading level0 col9\" >User Comments Added</th>\n",
       "    </tr>\n",
       "  </thead>\n",
       "  <tbody>\n",
       "    <tr>\n",
       "      <th id=\"T_53fb4_level0_row0\" class=\"row_heading level0 row0\" >count</th>\n",
       "      <td id=\"T_53fb4_row0_col0\" class=\"data row0 col0\" >55292.000000</td>\n",
       "      <td id=\"T_53fb4_row0_col1\" class=\"data row0 col1\" >55292.000000</td>\n",
       "      <td id=\"T_53fb4_row0_col2\" class=\"data row0 col2\" >55292.000000</td>\n",
       "      <td id=\"T_53fb4_row0_col3\" class=\"data row0 col3\" >55292.000000</td>\n",
       "      <td id=\"T_53fb4_row0_col4\" class=\"data row0 col4\" >55292.000000</td>\n",
       "      <td id=\"T_53fb4_row0_col5\" class=\"data row0 col5\" >55292.000000</td>\n",
       "      <td id=\"T_53fb4_row0_col6\" class=\"data row0 col6\" >55292.000000</td>\n",
       "      <td id=\"T_53fb4_row0_col7\" class=\"data row0 col7\" >53854.000000</td>\n",
       "      <td id=\"T_53fb4_row0_col8\" class=\"data row0 col8\" >53854.000000</td>\n",
       "      <td id=\"T_53fb4_row0_col9\" class=\"data row0 col9\" >55292.000000</td>\n",
       "    </tr>\n",
       "    <tr>\n",
       "      <th id=\"T_53fb4_level0_row1\" class=\"row_heading level0 row1\" >mean</th>\n",
       "      <td id=\"T_53fb4_row1_col0\" class=\"data row1 col0\" >896.678073</td>\n",
       "      <td id=\"T_53fb4_row1_col1\" class=\"data row1 col1\" >100.573157</td>\n",
       "      <td id=\"T_53fb4_row1_col2\" class=\"data row1 col2\" >4.239311</td>\n",
       "      <td id=\"T_53fb4_row1_col3\" class=\"data row1 col3\" >0.106055</td>\n",
       "      <td id=\"T_53fb4_row1_col4\" class=\"data row1 col4\" >0.175577</td>\n",
       "      <td id=\"T_53fb4_row1_col5\" class=\"data row1 col5\" >2.365279</td>\n",
       "      <td id=\"T_53fb4_row1_col6\" class=\"data row1 col6\" >0.053389</td>\n",
       "      <td id=\"T_53fb4_row1_col7\" class=\"data row1 col7\" >0.347821</td>\n",
       "      <td id=\"T_53fb4_row1_col8\" class=\"data row1 col8\" >205.297156</td>\n",
       "      <td id=\"T_53fb4_row1_col9\" class=\"data row1 col9\" >0.000000</td>\n",
       "    </tr>\n",
       "    <tr>\n",
       "      <th id=\"T_53fb4_level0_row2\" class=\"row_heading level0 row2\" >std</th>\n",
       "      <td id=\"T_53fb4_row2_col0\" class=\"data row2 col0\" >927.380801</td>\n",
       "      <td id=\"T_53fb4_row2_col1\" class=\"data row2 col1\" >1704.966002</td>\n",
       "      <td id=\"T_53fb4_row2_col2\" class=\"data row2 col2\" >65.291451</td>\n",
       "      <td id=\"T_53fb4_row2_col3\" class=\"data row2 col3\" >2.507351</td>\n",
       "      <td id=\"T_53fb4_row2_col4\" class=\"data row2 col4\" >3.601171</td>\n",
       "      <td id=\"T_53fb4_row2_col5\" class=\"data row2 col5\" >65.889539</td>\n",
       "      <td id=\"T_53fb4_row2_col6\" class=\"data row2 col6\" >0.766945</td>\n",
       "      <td id=\"T_53fb4_row2_col7\" class=\"data row2 col7\" >0.259734</td>\n",
       "      <td id=\"T_53fb4_row2_col8\" class=\"data row2 col8\" >206.542106</td>\n",
       "      <td id=\"T_53fb4_row2_col9\" class=\"data row2 col9\" >0.000000</td>\n",
       "    </tr>\n",
       "    <tr>\n",
       "      <th id=\"T_53fb4_level0_row3\" class=\"row_heading level0 row3\" >min</th>\n",
       "      <td id=\"T_53fb4_row3_col0\" class=\"data row3 col0\" >47.000000</td>\n",
       "      <td id=\"T_53fb4_row3_col1\" class=\"data row3 col1\" >0.000000</td>\n",
       "      <td id=\"T_53fb4_row3_col2\" class=\"data row3 col2\" >0.000000</td>\n",
       "      <td id=\"T_53fb4_row3_col3\" class=\"data row3 col3\" >0.000000</td>\n",
       "      <td id=\"T_53fb4_row3_col4\" class=\"data row3 col4\" >0.000000</td>\n",
       "      <td id=\"T_53fb4_row3_col5\" class=\"data row3 col5\" >0.000000</td>\n",
       "      <td id=\"T_53fb4_row3_col6\" class=\"data row3 col6\" >0.000000</td>\n",
       "      <td id=\"T_53fb4_row3_col7\" class=\"data row3 col7\" >0.000000</td>\n",
       "      <td id=\"T_53fb4_row3_col8\" class=\"data row3 col8\" >0.000000</td>\n",
       "      <td id=\"T_53fb4_row3_col9\" class=\"data row3 col9\" >0.000000</td>\n",
       "    </tr>\n",
       "    <tr>\n",
       "      <th id=\"T_53fb4_level0_row4\" class=\"row_heading level0 row4\" >25%</th>\n",
       "      <td id=\"T_53fb4_row4_col0\" class=\"data row4 col0\" >375.000000</td>\n",
       "      <td id=\"T_53fb4_row4_col1\" class=\"data row4 col1\" >2.000000</td>\n",
       "      <td id=\"T_53fb4_row4_col2\" class=\"data row4 col2\" >0.000000</td>\n",
       "      <td id=\"T_53fb4_row4_col3\" class=\"data row4 col3\" >0.000000</td>\n",
       "      <td id=\"T_53fb4_row4_col4\" class=\"data row4 col4\" >0.000000</td>\n",
       "      <td id=\"T_53fb4_row4_col5\" class=\"data row4 col5\" >0.000000</td>\n",
       "      <td id=\"T_53fb4_row4_col6\" class=\"data row4 col6\" >0.000000</td>\n",
       "      <td id=\"T_53fb4_row4_col7\" class=\"data row4 col7\" >0.145948</td>\n",
       "      <td id=\"T_53fb4_row4_col8\" class=\"data row4 col8\" >85.442891</td>\n",
       "      <td id=\"T_53fb4_row4_col9\" class=\"data row4 col9\" >0.000000</td>\n",
       "    </tr>\n",
       "    <tr>\n",
       "      <th id=\"T_53fb4_level0_row5\" class=\"row_heading level0 row5\" >50%</th>\n",
       "      <td id=\"T_53fb4_row5_col0\" class=\"data row5 col0\" >545.000000</td>\n",
       "      <td id=\"T_53fb4_row5_col1\" class=\"data row5 col1\" >7.000000</td>\n",
       "      <td id=\"T_53fb4_row5_col2\" class=\"data row5 col2\" >0.000000</td>\n",
       "      <td id=\"T_53fb4_row5_col3\" class=\"data row5 col3\" >0.000000</td>\n",
       "      <td id=\"T_53fb4_row5_col4\" class=\"data row5 col4\" >0.000000</td>\n",
       "      <td id=\"T_53fb4_row5_col5\" class=\"data row5 col5\" >0.000000</td>\n",
       "      <td id=\"T_53fb4_row5_col6\" class=\"data row5 col6\" >0.000000</td>\n",
       "      <td id=\"T_53fb4_row5_col7\" class=\"data row5 col7\" >0.320983</td>\n",
       "      <td id=\"T_53fb4_row5_col8\" class=\"data row5 col8\" >170.139725</td>\n",
       "      <td id=\"T_53fb4_row5_col9\" class=\"data row5 col9\" >0.000000</td>\n",
       "    </tr>\n",
       "    <tr>\n",
       "      <th id=\"T_53fb4_level0_row6\" class=\"row_heading level0 row6\" >75%</th>\n",
       "      <td id=\"T_53fb4_row6_col0\" class=\"data row6 col0\" >934.000000</td>\n",
       "      <td id=\"T_53fb4_row6_col1\" class=\"data row6 col1\" >27.000000</td>\n",
       "      <td id=\"T_53fb4_row6_col2\" class=\"data row6 col2\" >1.000000</td>\n",
       "      <td id=\"T_53fb4_row6_col3\" class=\"data row6 col3\" >0.000000</td>\n",
       "      <td id=\"T_53fb4_row6_col4\" class=\"data row6 col4\" >0.000000</td>\n",
       "      <td id=\"T_53fb4_row6_col5\" class=\"data row6 col5\" >0.000000</td>\n",
       "      <td id=\"T_53fb4_row6_col6\" class=\"data row6 col6\" >0.000000</td>\n",
       "      <td id=\"T_53fb4_row6_col7\" class=\"data row6 col7\" >0.486153</td>\n",
       "      <td id=\"T_53fb4_row6_col8\" class=\"data row6 col8\" >259.449958</td>\n",
       "      <td id=\"T_53fb4_row6_col9\" class=\"data row6 col9\" >0.000000</td>\n",
       "    </tr>\n",
       "    <tr>\n",
       "      <th id=\"T_53fb4_level0_row7\" class=\"row_heading level0 row7\" >max</th>\n",
       "      <td id=\"T_53fb4_row7_col0\" class=\"data row7 col0\" >5029.000000</td>\n",
       "      <td id=\"T_53fb4_row7_col1\" class=\"data row7 col1\" >285593.000000</td>\n",
       "      <td id=\"T_53fb4_row7_col2\" class=\"data row7 col2\" >9165.000000</td>\n",
       "      <td id=\"T_53fb4_row7_col3\" class=\"data row7 col3\" >399.000000</td>\n",
       "      <td id=\"T_53fb4_row7_col4\" class=\"data row7 col4\" >436.000000</td>\n",
       "      <td id=\"T_53fb4_row7_col5\" class=\"data row7 col5\" >9599.000000</td>\n",
       "      <td id=\"T_53fb4_row7_col6\" class=\"data row7 col6\" >103.000000</td>\n",
       "      <td id=\"T_53fb4_row7_col7\" class=\"data row7 col7\" >4.967797</td>\n",
       "      <td id=\"T_53fb4_row7_col8\" class=\"data row7 col8\" >5027.660000</td>\n",
       "      <td id=\"T_53fb4_row7_col9\" class=\"data row7 col9\" >0.000000</td>\n",
       "    </tr>\n",
       "  </tbody>\n",
       "</table>\n"
      ],
      "text/plain": [
       "<pandas.io.formats.style.Styler at 0x7dd037ca9810>"
      ]
     },
     "execution_count": 8,
     "metadata": {},
     "output_type": "execute_result"
    }
   ],
   "source": [
    "df1.describe().style.set_properties(**{\"background-color\":\"black\",\"color\":\"red\"})"
   ]
  },
  {
   "cell_type": "markdown",
   "id": "0b561a77",
   "metadata": {
    "papermill": {
     "duration": 0.058541,
     "end_time": "2023-12-19T20:14:27.215019",
     "exception": false,
     "start_time": "2023-12-19T20:14:27.156478",
     "status": "completed"
    },
    "tags": []
   },
   "source": [
    "# Describe the data only Categorical variables:\n"
   ]
  },
  {
   "cell_type": "code",
   "execution_count": 9,
   "id": "b83d2835",
   "metadata": {
    "execution": {
     "iopub.execute_input": "2023-12-19T20:14:27.334462Z",
     "iopub.status.busy": "2023-12-19T20:14:27.333877Z",
     "iopub.status.idle": "2023-12-19T20:14:27.366830Z",
     "shell.execute_reply": "2023-12-19T20:14:27.367302Z",
     "shell.execute_reply.started": "2022-03-20T04:32:02.989958Z"
    },
    "papermill": {
     "duration": 0.094085,
     "end_time": "2023-12-19T20:14:27.367436",
     "exception": false,
     "start_time": "2023-12-19T20:14:27.273351",
     "status": "completed"
    },
    "tags": []
   },
   "outputs": [
    {
     "data": {
      "text/html": [
       "<style type=\"text/css\">\n",
       "#T_c5ad1_row0_col0, #T_c5ad1_row0_col1, #T_c5ad1_row0_col2, #T_c5ad1_row0_col3, #T_c5ad1_row1_col0, #T_c5ad1_row1_col1, #T_c5ad1_row1_col2, #T_c5ad1_row1_col3, #T_c5ad1_row2_col0, #T_c5ad1_row2_col1, #T_c5ad1_row2_col2, #T_c5ad1_row2_col3, #T_c5ad1_row3_col0, #T_c5ad1_row3_col1, #T_c5ad1_row3_col2, #T_c5ad1_row3_col3 {\n",
       "  background-color: black;\n",
       "  color: red;\n",
       "}\n",
       "</style>\n",
       "<table id=\"T_c5ad1_\">\n",
       "  <thead>\n",
       "    <tr>\n",
       "      <th class=\"blank level0\" >&nbsp;</th>\n",
       "      <th class=\"col_heading level0 col0\" >Video Title</th>\n",
       "      <th class=\"col_heading level0 col1\" >External Video ID</th>\n",
       "      <th class=\"col_heading level0 col2\" >Thumbnail link</th>\n",
       "      <th class=\"col_heading level0 col3\" >Country Code</th>\n",
       "    </tr>\n",
       "  </thead>\n",
       "  <tbody>\n",
       "    <tr>\n",
       "      <th id=\"T_c5ad1_level0_row0\" class=\"row_heading level0 row0\" >count</th>\n",
       "      <td id=\"T_c5ad1_row0_col0\" class=\"data row0 col0\" >55292</td>\n",
       "      <td id=\"T_c5ad1_row0_col1\" class=\"data row0 col1\" >55292</td>\n",
       "      <td id=\"T_c5ad1_row0_col2\" class=\"data row0 col2\" >55292</td>\n",
       "      <td id=\"T_c5ad1_row0_col3\" class=\"data row0 col3\" >54906</td>\n",
       "    </tr>\n",
       "    <tr>\n",
       "      <th id=\"T_c5ad1_level0_row1\" class=\"row_heading level0 row1\" >unique</th>\n",
       "      <td id=\"T_c5ad1_row1_col0\" class=\"data row1 col0\" >223</td>\n",
       "      <td id=\"T_c5ad1_row1_col1\" class=\"data row1 col1\" >223</td>\n",
       "      <td id=\"T_c5ad1_row1_col2\" class=\"data row1 col2\" >223</td>\n",
       "      <td id=\"T_c5ad1_row1_col3\" class=\"data row1 col3\" >233</td>\n",
       "    </tr>\n",
       "    <tr>\n",
       "      <th id=\"T_c5ad1_level0_row2\" class=\"row_heading level0 row2\" >top</th>\n",
       "      <td id=\"T_c5ad1_row2_col0\" class=\"data row2 col0\" >How I Would Learn Data Science (If I Had to Start Over)</td>\n",
       "      <td id=\"T_c5ad1_row2_col1\" class=\"data row2 col1\" >4OZip0cgOho</td>\n",
       "      <td id=\"T_c5ad1_row2_col2\" class=\"data row2 col2\" >https://i.ytimg.com/vi/4OZip0cgOho/hqdefault.jpg</td>\n",
       "      <td id=\"T_c5ad1_row2_col3\" class=\"data row2 col3\" >NL</td>\n",
       "    </tr>\n",
       "    <tr>\n",
       "      <th id=\"T_c5ad1_level0_row3\" class=\"row_heading level0 row3\" >freq</th>\n",
       "      <td id=\"T_c5ad1_row3_col0\" class=\"data row3 col0\" >428</td>\n",
       "      <td id=\"T_c5ad1_row3_col1\" class=\"data row3 col1\" >428</td>\n",
       "      <td id=\"T_c5ad1_row3_col2\" class=\"data row3 col2\" >428</td>\n",
       "      <td id=\"T_c5ad1_row3_col3\" class=\"data row3 col3\" >445</td>\n",
       "    </tr>\n",
       "  </tbody>\n",
       "</table>\n"
      ],
      "text/plain": [
       "<pandas.io.formats.style.Styler at 0x7dd05ec8fbd0>"
      ]
     },
     "execution_count": 9,
     "metadata": {},
     "output_type": "execute_result"
    }
   ],
   "source": [
    "df1.describe(include=\"object\").style.set_properties(**{\"background-color\":\"black\",\"color\":\"red\"})"
   ]
  },
  {
   "cell_type": "markdown",
   "id": "c1113cdd",
   "metadata": {
    "papermill": {
     "duration": 0.061345,
     "end_time": "2023-12-19T20:14:27.488954",
     "exception": false,
     "start_time": "2023-12-19T20:14:27.427609",
     "status": "completed"
    },
    "tags": []
   },
   "source": [
    "# Check null values in this dataset:"
   ]
  },
  {
   "cell_type": "code",
   "execution_count": 10,
   "id": "a659ca8c",
   "metadata": {
    "execution": {
     "iopub.execute_input": "2023-12-19T20:14:27.612614Z",
     "iopub.status.busy": "2023-12-19T20:14:27.611639Z",
     "iopub.status.idle": "2023-12-19T20:14:27.626534Z",
     "shell.execute_reply": "2023-12-19T20:14:27.627020Z",
     "shell.execute_reply.started": "2022-03-20T04:11:05.193063Z"
    },
    "papermill": {
     "duration": 0.078132,
     "end_time": "2023-12-19T20:14:27.627163",
     "exception": false,
     "start_time": "2023-12-19T20:14:27.549031",
     "status": "completed"
    },
    "tags": []
   },
   "outputs": [
    {
     "data": {
      "text/plain": [
       "Video Title                      0\n",
       "External Video ID                0\n",
       "Video Length                     0\n",
       "Thumbnail link                   0\n",
       "Country Code                   386\n",
       "Is Subscribed                    0\n",
       "Views                            0\n",
       "Video Likes Added                0\n",
       "Video Dislikes Added             0\n",
       "Video Likes Removed              0\n",
       "User Subscriptions Added         0\n",
       "User Subscriptions Removed       0\n",
       "Average View Percentage       1438\n",
       "Average Watch Time            1438\n",
       "User Comments Added              0\n",
       "dtype: int64"
      ]
     },
     "execution_count": 10,
     "metadata": {},
     "output_type": "execute_result"
    }
   ],
   "source": [
    "df1.isnull().sum()"
   ]
  },
  {
   "cell_type": "markdown",
   "id": "44404f2b",
   "metadata": {
    "papermill": {
     "duration": 0.060925,
     "end_time": "2023-12-19T20:14:27.749609",
     "exception": false,
     "start_time": "2023-12-19T20:14:27.688684",
     "status": "completed"
    },
    "tags": []
   },
   "source": [
    "# fill missing value in Average watch time column:"
   ]
  },
  {
   "cell_type": "code",
   "execution_count": 11,
   "id": "fdfd97e9",
   "metadata": {
    "execution": {
     "iopub.execute_input": "2023-12-19T20:14:27.878580Z",
     "iopub.status.busy": "2023-12-19T20:14:27.877939Z",
     "iopub.status.idle": "2023-12-19T20:14:27.880792Z",
     "shell.execute_reply": "2023-12-19T20:14:27.880323Z",
     "shell.execute_reply.started": "2022-03-20T04:11:05.23165Z"
    },
    "papermill": {
     "duration": 0.069484,
     "end_time": "2023-12-19T20:14:27.880918",
     "exception": false,
     "start_time": "2023-12-19T20:14:27.811434",
     "status": "completed"
    },
    "tags": []
   },
   "outputs": [],
   "source": [
    "mean=df1[\"Average Watch Time\"].mean()"
   ]
  },
  {
   "cell_type": "code",
   "execution_count": 12,
   "id": "05fd97b4",
   "metadata": {
    "execution": {
     "iopub.execute_input": "2023-12-19T20:14:28.005877Z",
     "iopub.status.busy": "2023-12-19T20:14:28.005363Z",
     "iopub.status.idle": "2023-12-19T20:14:28.008384Z",
     "shell.execute_reply": "2023-12-19T20:14:28.008853Z",
     "shell.execute_reply.started": "2022-03-20T04:11:05.239402Z"
    },
    "papermill": {
     "duration": 0.066585,
     "end_time": "2023-12-19T20:14:28.008981",
     "exception": false,
     "start_time": "2023-12-19T20:14:27.942396",
     "status": "completed"
    },
    "tags": []
   },
   "outputs": [],
   "source": [
    "df1[\"Average Watch Time\"].fillna(value=mean,inplace=True)"
   ]
  },
  {
   "cell_type": "markdown",
   "id": "77243132",
   "metadata": {
    "papermill": {
     "duration": 0.05985,
     "end_time": "2023-12-19T20:14:28.128828",
     "exception": false,
     "start_time": "2023-12-19T20:14:28.068978",
     "status": "completed"
    },
    "tags": []
   },
   "source": [
    "# Fill missing value in Average View Percentage"
   ]
  },
  {
   "cell_type": "code",
   "execution_count": 13,
   "id": "2cb75ff3",
   "metadata": {
    "execution": {
     "iopub.execute_input": "2023-12-19T20:14:28.253894Z",
     "iopub.status.busy": "2023-12-19T20:14:28.253311Z",
     "iopub.status.idle": "2023-12-19T20:14:28.257209Z",
     "shell.execute_reply": "2023-12-19T20:14:28.257694Z",
     "shell.execute_reply.started": "2022-03-20T04:11:05.253963Z"
    },
    "papermill": {
     "duration": 0.068057,
     "end_time": "2023-12-19T20:14:28.257845",
     "exception": false,
     "start_time": "2023-12-19T20:14:28.189788",
     "status": "completed"
    },
    "tags": []
   },
   "outputs": [],
   "source": [
    "mean_p=df1[\"Average View Percentage\"].mean()\n",
    "\n",
    "df1[\"Average View Percentage\"].fillna(value=mean_p,inplace=True)"
   ]
  },
  {
   "cell_type": "code",
   "execution_count": 14,
   "id": "60c6cebd",
   "metadata": {
    "execution": {
     "iopub.execute_input": "2023-12-19T20:14:28.380092Z",
     "iopub.status.busy": "2023-12-19T20:14:28.379549Z",
     "iopub.status.idle": "2023-12-19T20:14:28.392971Z",
     "shell.execute_reply": "2023-12-19T20:14:28.393386Z",
     "shell.execute_reply.started": "2022-03-20T04:11:05.265926Z"
    },
    "papermill": {
     "duration": 0.075564,
     "end_time": "2023-12-19T20:14:28.393519",
     "exception": false,
     "start_time": "2023-12-19T20:14:28.317955",
     "status": "completed"
    },
    "tags": []
   },
   "outputs": [
    {
     "data": {
      "text/plain": [
       "Video Title                     0\n",
       "External Video ID               0\n",
       "Video Length                    0\n",
       "Thumbnail link                  0\n",
       "Country Code                  386\n",
       "Is Subscribed                   0\n",
       "Views                           0\n",
       "Video Likes Added               0\n",
       "Video Dislikes Added            0\n",
       "Video Likes Removed             0\n",
       "User Subscriptions Added        0\n",
       "User Subscriptions Removed      0\n",
       "Average View Percentage         0\n",
       "Average Watch Time              0\n",
       "User Comments Added             0\n",
       "dtype: int64"
      ]
     },
     "execution_count": 14,
     "metadata": {},
     "output_type": "execute_result"
    }
   ],
   "source": [
    "df1.isnull().sum()"
   ]
  },
  {
   "cell_type": "markdown",
   "id": "a6e12b6f",
   "metadata": {
    "papermill": {
     "duration": 0.060861,
     "end_time": "2023-12-19T20:14:28.515698",
     "exception": false,
     "start_time": "2023-12-19T20:14:28.454837",
     "status": "completed"
    },
    "tags": []
   },
   "source": [
    "# Drop nan value because there is missing value in Country Code:\n"
   ]
  },
  {
   "cell_type": "code",
   "execution_count": 15,
   "id": "e2200e57",
   "metadata": {
    "execution": {
     "iopub.execute_input": "2023-12-19T20:14:28.639217Z",
     "iopub.status.busy": "2023-12-19T20:14:28.638709Z",
     "iopub.status.idle": "2023-12-19T20:14:28.659326Z",
     "shell.execute_reply": "2023-12-19T20:14:28.659813Z",
     "shell.execute_reply.started": "2022-03-20T04:11:05.309247Z"
    },
    "papermill": {
     "duration": 0.083628,
     "end_time": "2023-12-19T20:14:28.660009",
     "exception": false,
     "start_time": "2023-12-19T20:14:28.576381",
     "status": "completed"
    },
    "tags": []
   },
   "outputs": [],
   "source": [
    "new_df=df1.dropna()"
   ]
  },
  {
   "cell_type": "markdown",
   "id": "c266b746",
   "metadata": {
    "papermill": {
     "duration": 0.062047,
     "end_time": "2023-12-19T20:14:28.784840",
     "exception": false,
     "start_time": "2023-12-19T20:14:28.722793",
     "status": "completed"
    },
    "tags": []
   },
   "source": [
    "# Let's show how many percentage % Subscrib"
   ]
  },
  {
   "cell_type": "code",
   "execution_count": 16,
   "id": "9b4e4bb3",
   "metadata": {
    "execution": {
     "iopub.execute_input": "2023-12-19T20:14:28.918925Z",
     "iopub.status.busy": "2023-12-19T20:14:28.918324Z",
     "iopub.status.idle": "2023-12-19T20:14:29.702564Z",
     "shell.execute_reply": "2023-12-19T20:14:29.702953Z",
     "shell.execute_reply.started": "2022-03-20T04:11:05.353465Z"
    },
    "papermill": {
     "duration": 0.857564,
     "end_time": "2023-12-19T20:14:29.703100",
     "exception": false,
     "start_time": "2023-12-19T20:14:28.845536",
     "status": "completed"
    },
    "tags": []
   },
   "outputs": [
    {
     "data": {
      "text/html": [
       "        <script type=\"text/javascript\">\n",
       "        window.PlotlyConfig = {MathJaxConfig: 'local'};\n",
       "        if (window.MathJax) {MathJax.Hub.Config({SVG: {font: \"STIX-Web\"}});}\n",
       "        if (typeof require !== 'undefined') {\n",
       "        require.undef(\"plotly\");\n",
       "        requirejs.config({\n",
       "            paths: {\n",
       "                'plotly': ['https://cdn.plot.ly/plotly-2.9.0.min']\n",
       "            }\n",
       "        });\n",
       "        require(['plotly'], function(Plotly) {\n",
       "            window._Plotly = Plotly;\n",
       "        });\n",
       "        }\n",
       "        </script>\n",
       "        "
      ]
     },
     "metadata": {},
     "output_type": "display_data"
    },
    {
     "data": {
      "text/html": [
       "<div>                            <div id=\"4c16b2e1-c876-4a47-8adc-88a297e69c23\" class=\"plotly-graph-div\" style=\"height:300px; width:100%;\"></div>            <script type=\"text/javascript\">                require([\"plotly\"], function(Plotly) {                    window.PLOTLYENV=window.PLOTLYENV || {};                                    if (document.getElementById(\"4c16b2e1-c876-4a47-8adc-88a297e69c23\")) {                    Plotly.newPlot(                        \"4c16b2e1-c876-4a47-8adc-88a297e69c23\",                        [{\"domain\":{\"x\":[0.0,1.0],\"y\":[0.0,1.0]},\"labels\":[false,true],\"legendgroup\":\"\",\"name\":\"\",\"showlegend\":true,\"values\":[28287,26619],\"type\":\"pie\",\"marker\":{\"line\":{\"width\":0}}}],                        {\"template\":{\"data\":{\"bar\":[{\"error_x\":{\"color\":\"#2a3f5f\"},\"error_y\":{\"color\":\"#2a3f5f\"},\"marker\":{\"line\":{\"color\":\"#E5ECF6\",\"width\":0.5},\"pattern\":{\"fillmode\":\"overlay\",\"size\":10,\"solidity\":0.2}},\"type\":\"bar\"}],\"barpolar\":[{\"marker\":{\"line\":{\"color\":\"#E5ECF6\",\"width\":0.5},\"pattern\":{\"fillmode\":\"overlay\",\"size\":10,\"solidity\":0.2}},\"type\":\"barpolar\"}],\"carpet\":[{\"aaxis\":{\"endlinecolor\":\"#2a3f5f\",\"gridcolor\":\"white\",\"linecolor\":\"white\",\"minorgridcolor\":\"white\",\"startlinecolor\":\"#2a3f5f\"},\"baxis\":{\"endlinecolor\":\"#2a3f5f\",\"gridcolor\":\"white\",\"linecolor\":\"white\",\"minorgridcolor\":\"white\",\"startlinecolor\":\"#2a3f5f\"},\"type\":\"carpet\"}],\"choropleth\":[{\"colorbar\":{\"outlinewidth\":0,\"ticks\":\"\"},\"type\":\"choropleth\"}],\"contour\":[{\"colorbar\":{\"outlinewidth\":0,\"ticks\":\"\"},\"colorscale\":[[0.0,\"#0d0887\"],[0.1111111111111111,\"#46039f\"],[0.2222222222222222,\"#7201a8\"],[0.3333333333333333,\"#9c179e\"],[0.4444444444444444,\"#bd3786\"],[0.5555555555555556,\"#d8576b\"],[0.6666666666666666,\"#ed7953\"],[0.7777777777777778,\"#fb9f3a\"],[0.8888888888888888,\"#fdca26\"],[1.0,\"#f0f921\"]],\"type\":\"contour\"}],\"contourcarpet\":[{\"colorbar\":{\"outlinewidth\":0,\"ticks\":\"\"},\"type\":\"contourcarpet\"}],\"heatmap\":[{\"colorbar\":{\"outlinewidth\":0,\"ticks\":\"\"},\"colorscale\":[[0.0,\"#0d0887\"],[0.1111111111111111,\"#46039f\"],[0.2222222222222222,\"#7201a8\"],[0.3333333333333333,\"#9c179e\"],[0.4444444444444444,\"#bd3786\"],[0.5555555555555556,\"#d8576b\"],[0.6666666666666666,\"#ed7953\"],[0.7777777777777778,\"#fb9f3a\"],[0.8888888888888888,\"#fdca26\"],[1.0,\"#f0f921\"]],\"type\":\"heatmap\"}],\"heatmapgl\":[{\"colorbar\":{\"outlinewidth\":0,\"ticks\":\"\"},\"colorscale\":[[0.0,\"#0d0887\"],[0.1111111111111111,\"#46039f\"],[0.2222222222222222,\"#7201a8\"],[0.3333333333333333,\"#9c179e\"],[0.4444444444444444,\"#bd3786\"],[0.5555555555555556,\"#d8576b\"],[0.6666666666666666,\"#ed7953\"],[0.7777777777777778,\"#fb9f3a\"],[0.8888888888888888,\"#fdca26\"],[1.0,\"#f0f921\"]],\"type\":\"heatmapgl\"}],\"histogram\":[{\"marker\":{\"pattern\":{\"fillmode\":\"overlay\",\"size\":10,\"solidity\":0.2}},\"type\":\"histogram\"}],\"histogram2d\":[{\"colorbar\":{\"outlinewidth\":0,\"ticks\":\"\"},\"colorscale\":[[0.0,\"#0d0887\"],[0.1111111111111111,\"#46039f\"],[0.2222222222222222,\"#7201a8\"],[0.3333333333333333,\"#9c179e\"],[0.4444444444444444,\"#bd3786\"],[0.5555555555555556,\"#d8576b\"],[0.6666666666666666,\"#ed7953\"],[0.7777777777777778,\"#fb9f3a\"],[0.8888888888888888,\"#fdca26\"],[1.0,\"#f0f921\"]],\"type\":\"histogram2d\"}],\"histogram2dcontour\":[{\"colorbar\":{\"outlinewidth\":0,\"ticks\":\"\"},\"colorscale\":[[0.0,\"#0d0887\"],[0.1111111111111111,\"#46039f\"],[0.2222222222222222,\"#7201a8\"],[0.3333333333333333,\"#9c179e\"],[0.4444444444444444,\"#bd3786\"],[0.5555555555555556,\"#d8576b\"],[0.6666666666666666,\"#ed7953\"],[0.7777777777777778,\"#fb9f3a\"],[0.8888888888888888,\"#fdca26\"],[1.0,\"#f0f921\"]],\"type\":\"histogram2dcontour\"}],\"mesh3d\":[{\"colorbar\":{\"outlinewidth\":0,\"ticks\":\"\"},\"type\":\"mesh3d\"}],\"parcoords\":[{\"line\":{\"colorbar\":{\"outlinewidth\":0,\"ticks\":\"\"}},\"type\":\"parcoords\"}],\"pie\":[{\"automargin\":true,\"type\":\"pie\"}],\"scatter\":[{\"marker\":{\"colorbar\":{\"outlinewidth\":0,\"ticks\":\"\"}},\"type\":\"scatter\"}],\"scatter3d\":[{\"line\":{\"colorbar\":{\"outlinewidth\":0,\"ticks\":\"\"}},\"marker\":{\"colorbar\":{\"outlinewidth\":0,\"ticks\":\"\"}},\"type\":\"scatter3d\"}],\"scattercarpet\":[{\"marker\":{\"colorbar\":{\"outlinewidth\":0,\"ticks\":\"\"}},\"type\":\"scattercarpet\"}],\"scattergeo\":[{\"marker\":{\"colorbar\":{\"outlinewidth\":0,\"ticks\":\"\"}},\"type\":\"scattergeo\"}],\"scattergl\":[{\"marker\":{\"colorbar\":{\"outlinewidth\":0,\"ticks\":\"\"}},\"type\":\"scattergl\"}],\"scattermapbox\":[{\"marker\":{\"colorbar\":{\"outlinewidth\":0,\"ticks\":\"\"}},\"type\":\"scattermapbox\"}],\"scatterpolar\":[{\"marker\":{\"colorbar\":{\"outlinewidth\":0,\"ticks\":\"\"}},\"type\":\"scatterpolar\"}],\"scatterpolargl\":[{\"marker\":{\"colorbar\":{\"outlinewidth\":0,\"ticks\":\"\"}},\"type\":\"scatterpolargl\"}],\"scatterternary\":[{\"marker\":{\"colorbar\":{\"outlinewidth\":0,\"ticks\":\"\"}},\"type\":\"scatterternary\"}],\"surface\":[{\"colorbar\":{\"outlinewidth\":0,\"ticks\":\"\"},\"colorscale\":[[0.0,\"#0d0887\"],[0.1111111111111111,\"#46039f\"],[0.2222222222222222,\"#7201a8\"],[0.3333333333333333,\"#9c179e\"],[0.4444444444444444,\"#bd3786\"],[0.5555555555555556,\"#d8576b\"],[0.6666666666666666,\"#ed7953\"],[0.7777777777777778,\"#fb9f3a\"],[0.8888888888888888,\"#fdca26\"],[1.0,\"#f0f921\"]],\"type\":\"surface\"}],\"table\":[{\"cells\":{\"fill\":{\"color\":\"#EBF0F8\"},\"line\":{\"color\":\"white\"}},\"header\":{\"fill\":{\"color\":\"#C8D4E3\"},\"line\":{\"color\":\"white\"}},\"type\":\"table\"}]},\"layout\":{\"annotationdefaults\":{\"arrowcolor\":\"#2a3f5f\",\"arrowhead\":0,\"arrowwidth\":1},\"autotypenumbers\":\"strict\",\"coloraxis\":{\"colorbar\":{\"outlinewidth\":0,\"ticks\":\"\"}},\"colorscale\":{\"diverging\":[[0,\"#8e0152\"],[0.1,\"#c51b7d\"],[0.2,\"#de77ae\"],[0.3,\"#f1b6da\"],[0.4,\"#fde0ef\"],[0.5,\"#f7f7f7\"],[0.6,\"#e6f5d0\"],[0.7,\"#b8e186\"],[0.8,\"#7fbc41\"],[0.9,\"#4d9221\"],[1,\"#276419\"]],\"sequential\":[[0.0,\"#0d0887\"],[0.1111111111111111,\"#46039f\"],[0.2222222222222222,\"#7201a8\"],[0.3333333333333333,\"#9c179e\"],[0.4444444444444444,\"#bd3786\"],[0.5555555555555556,\"#d8576b\"],[0.6666666666666666,\"#ed7953\"],[0.7777777777777778,\"#fb9f3a\"],[0.8888888888888888,\"#fdca26\"],[1.0,\"#f0f921\"]],\"sequentialminus\":[[0.0,\"#0d0887\"],[0.1111111111111111,\"#46039f\"],[0.2222222222222222,\"#7201a8\"],[0.3333333333333333,\"#9c179e\"],[0.4444444444444444,\"#bd3786\"],[0.5555555555555556,\"#d8576b\"],[0.6666666666666666,\"#ed7953\"],[0.7777777777777778,\"#fb9f3a\"],[0.8888888888888888,\"#fdca26\"],[1.0,\"#f0f921\"]]},\"colorway\":[\"#636efa\",\"#EF553B\",\"#00cc96\",\"#ab63fa\",\"#FFA15A\",\"#19d3f3\",\"#FF6692\",\"#B6E880\",\"#FF97FF\",\"#FECB52\"],\"font\":{\"color\":\"#2a3f5f\"},\"geo\":{\"bgcolor\":\"white\",\"lakecolor\":\"white\",\"landcolor\":\"#E5ECF6\",\"showlakes\":true,\"showland\":true,\"subunitcolor\":\"white\"},\"hoverlabel\":{\"align\":\"left\"},\"hovermode\":\"closest\",\"mapbox\":{\"style\":\"light\"},\"paper_bgcolor\":\"white\",\"plot_bgcolor\":\"#E5ECF6\",\"polar\":{\"angularaxis\":{\"gridcolor\":\"white\",\"linecolor\":\"white\",\"ticks\":\"\"},\"bgcolor\":\"#E5ECF6\",\"radialaxis\":{\"gridcolor\":\"white\",\"linecolor\":\"white\",\"ticks\":\"\"}},\"scene\":{\"xaxis\":{\"backgroundcolor\":\"#E5ECF6\",\"gridcolor\":\"white\",\"gridwidth\":2,\"linecolor\":\"white\",\"showbackground\":true,\"ticks\":\"\",\"zerolinecolor\":\"white\"},\"yaxis\":{\"backgroundcolor\":\"#E5ECF6\",\"gridcolor\":\"white\",\"gridwidth\":2,\"linecolor\":\"white\",\"showbackground\":true,\"ticks\":\"\",\"zerolinecolor\":\"white\"},\"zaxis\":{\"backgroundcolor\":\"#E5ECF6\",\"gridcolor\":\"white\",\"gridwidth\":2,\"linecolor\":\"white\",\"showbackground\":true,\"ticks\":\"\",\"zerolinecolor\":\"white\"}},\"shapedefaults\":{\"line\":{\"color\":\"#2a3f5f\"}},\"ternary\":{\"aaxis\":{\"gridcolor\":\"white\",\"linecolor\":\"white\",\"ticks\":\"\"},\"baxis\":{\"gridcolor\":\"white\",\"linecolor\":\"white\",\"ticks\":\"\"},\"bgcolor\":\"#E5ECF6\",\"caxis\":{\"gridcolor\":\"white\",\"linecolor\":\"white\",\"ticks\":\"\"}},\"title\":{\"x\":0.05},\"xaxis\":{\"automargin\":true,\"gridcolor\":\"white\",\"linecolor\":\"white\",\"ticks\":\"\",\"title\":{\"standoff\":15},\"zerolinecolor\":\"white\",\"zerolinewidth\":2},\"yaxis\":{\"automargin\":true,\"gridcolor\":\"white\",\"linecolor\":\"white\",\"ticks\":\"\",\"title\":{\"standoff\":15},\"zerolinecolor\":\"white\",\"zerolinewidth\":2}}},\"legend\":{\"tracegroupgap\":0,\"orientation\":\"h\",\"yanchor\":\"bottom\",\"y\":1,\"xanchor\":\"right\",\"x\":0.5},\"title\":{\"text\":\"Number of Subscribers\",\"font\":{\"size\":25,\"color\":\"#8a8d93\",\"family\":\"Lato, sans-serif\"}},\"piecolorway\":[\"maroon\",\"lightblue\"],\"xaxis\":{\"showgrid\":false,\"title\":{\"text\":\" \"}},\"yaxis\":{\"showgrid\":false,\"categoryorder\":\"total ascending\",\"ticksuffix\":\" \",\"showline\":false,\"title\":{\"text\":\" \"}},\"margin\":{\"t\":80,\"b\":0,\"l\":70,\"r\":40},\"font\":{\"color\":\"#8a8d93\"},\"hoverlabel\":{\"font\":{\"size\":13,\"family\":\"Lato, sans-serif\"},\"bgcolor\":\"black\"},\"hovermode\":\"y unified\",\"height\":300,\"plot_bgcolor\":\"#333\",\"paper_bgcolor\":\"#333\"},                        {\"responsive\": true}                    ).then(function(){\n",
       "                            \n",
       "var gd = document.getElementById('4c16b2e1-c876-4a47-8adc-88a297e69c23');\n",
       "var x = new MutationObserver(function (mutations, observer) {{\n",
       "        var display = window.getComputedStyle(gd).display;\n",
       "        if (!display || display === 'none') {{\n",
       "            console.log([gd, 'removed!']);\n",
       "            Plotly.purge(gd);\n",
       "            observer.disconnect();\n",
       "        }}\n",
       "}});\n",
       "\n",
       "// Listen for the removal of the full notebook cells\n",
       "var notebookContainer = gd.closest('#notebook-container');\n",
       "if (notebookContainer) {{\n",
       "    x.observe(notebookContainer, {childList: true});\n",
       "}}\n",
       "\n",
       "// Listen for the clearing of the current output cell\n",
       "var outputEl = gd.closest('.output');\n",
       "if (outputEl) {{\n",
       "    x.observe(outputEl, {childList: true});\n",
       "}}\n",
       "\n",
       "                        })                };                });            </script>        </div>"
      ]
     },
     "metadata": {},
     "output_type": "display_data"
    }
   ],
   "source": [
    "sub=pd.DataFrame(new_df[\"Is Subscribed\"].value_counts().sort_values(ascending=False).reset_index().rename(columns={\"index\":\"Subscribed\",\"Is Subscribed\":\"Counts\"}))\n",
    "\n",
    "\n",
    "fig=px.pie(sub,values='Counts',names=\"Subscribed\",title='Number of Subscribers',\n",
    "          color_discrete_sequence=[\"maroon\",\"lightblue\"])\n",
    "\n",
    "fig.update_xaxes(showgrid=False)\n",
    "\n",
    "fig.update_yaxes(showgrid=False, categoryorder='total ascending', ticksuffix=' ', showline=False)\n",
    "\n",
    "fig.update_traces(hovertemplate=None, marker=dict(line=dict(width=0)))\n",
    "\n",
    "fig.update_layout(margin=dict(t=80, b=0, l=70, r=40),hovermode=\"y unified\",\n",
    "                  xaxis_title=' ', yaxis_title=\" \", height=300,plot_bgcolor='#333', paper_bgcolor='#333',\n",
    "title_font=dict(size=25, color='#8a8d93', family=\"Lato, sans-serif\"),\n",
    " font=dict(color='#8a8d93'),\n",
    "                  legend=dict(orientation=\"h\", yanchor=\"bottom\", y=1, xanchor=\"right\", x=0.5),\n",
    "                  hoverlabel=dict(bgcolor=\"black\", font_size=13, font_family=\"Lato, sans-serif\"))\n",
    "                 \n",
    "                  "
   ]
  },
  {
   "cell_type": "markdown",
   "id": "1c00a152",
   "metadata": {
    "papermill": {
     "duration": 0.062329,
     "end_time": "2023-12-19T20:14:29.828720",
     "exception": false,
     "start_time": "2023-12-19T20:14:29.766391",
     "status": "completed"
    },
    "tags": []
   },
   "source": [
    "# Show Top 10 Video Most Views:\n"
   ]
  },
  {
   "cell_type": "code",
   "execution_count": 17,
   "id": "0c96a2e5",
   "metadata": {
    "execution": {
     "iopub.execute_input": "2023-12-19T20:14:29.954469Z",
     "iopub.status.busy": "2023-12-19T20:14:29.953756Z",
     "iopub.status.idle": "2023-12-19T20:14:29.967977Z",
     "shell.execute_reply": "2023-12-19T20:14:29.967473Z",
     "shell.execute_reply.started": "2022-03-20T04:11:06.387361Z"
    },
    "papermill": {
     "duration": 0.077928,
     "end_time": "2023-12-19T20:14:29.968096",
     "exception": false,
     "start_time": "2023-12-19T20:14:29.890168",
     "status": "completed"
    },
    "tags": []
   },
   "outputs": [],
   "source": [
    "title=new_df.groupby([\"Video Title\"])[\"Views\"].sum().sort_values(ascending=False).reset_index().head(10)"
   ]
  },
  {
   "cell_type": "code",
   "execution_count": 18,
   "id": "49c79abe",
   "metadata": {
    "execution": {
     "iopub.execute_input": "2023-12-19T20:14:30.091185Z",
     "iopub.status.busy": "2023-12-19T20:14:30.090667Z",
     "iopub.status.idle": "2023-12-19T20:14:30.184496Z",
     "shell.execute_reply": "2023-12-19T20:14:30.183945Z",
     "shell.execute_reply.started": "2022-03-20T04:11:06.407765Z"
    },
    "papermill": {
     "duration": 0.156254,
     "end_time": "2023-12-19T20:14:30.184614",
     "exception": false,
     "start_time": "2023-12-19T20:14:30.028360",
     "status": "completed"
    },
    "tags": []
   },
   "outputs": [
    {
     "data": {
      "text/html": [
       "<div>                            <div id=\"8997d1ce-6a15-4b57-b38e-cdd650aa0cc1\" class=\"plotly-graph-div\" style=\"height:400px; width:100%;\"></div>            <script type=\"text/javascript\">                require([\"plotly\"], function(Plotly) {                    window.PLOTLYENV=window.PLOTLYENV || {};                                    if (document.getElementById(\"8997d1ce-6a15-4b57-b38e-cdd650aa0cc1\")) {                    Plotly.newPlot(                        \"8997d1ce-6a15-4b57-b38e-cdd650aa0cc1\",                        [{\"alignmentgroup\":\"True\",\"legendgroup\":\"\",\"marker\":{\"color\":\"#636efa\",\"pattern\":{\"shape\":\"\"},\"line\":{\"width\":0}},\"name\":\"\",\"offsetgroup\":\"\",\"orientation\":\"v\",\"showlegend\":false,\"text\":[1252615.0,296944.0,237140.0,167854.0,131556.0,123454.0,108003.0,102690.0,98740.0,93260.0],\"textposition\":\"auto\",\"x\":[\"How I Would Learn Data Science (If I Had to Start Over)\",\"The Best Free Data Science Courses Nobody is Talking About\",\"3 Proven Data Science Projects for Beginners (Kaggle)\",\"Beginner Kaggle Data Science Project Walk-Through (Titanic)\",\"The Projects You Should Do To Get A Data Science Job\",\"How I Would Learn Data Science in 2021 (What Has Changed?)\",\"Why You Probably Won't Become a Data Scientist\",\"Data Science Project from Scratch - Part 1 (Project Planning)\",\"Why I Quit Data Science\",\"3 Reasons You Should NOT Become a Data Scientist\"],\"xaxis\":\"x\",\"y\":[1252615,296944,237140,167854,131556,123454,108003,102690,98740,93260],\"yaxis\":\"y\",\"type\":\"bar\"}],                        {\"template\":{\"data\":{\"bar\":[{\"error_x\":{\"color\":\"#2a3f5f\"},\"error_y\":{\"color\":\"#2a3f5f\"},\"marker\":{\"line\":{\"color\":\"#E5ECF6\",\"width\":0.5},\"pattern\":{\"fillmode\":\"overlay\",\"size\":10,\"solidity\":0.2}},\"type\":\"bar\"}],\"barpolar\":[{\"marker\":{\"line\":{\"color\":\"#E5ECF6\",\"width\":0.5},\"pattern\":{\"fillmode\":\"overlay\",\"size\":10,\"solidity\":0.2}},\"type\":\"barpolar\"}],\"carpet\":[{\"aaxis\":{\"endlinecolor\":\"#2a3f5f\",\"gridcolor\":\"white\",\"linecolor\":\"white\",\"minorgridcolor\":\"white\",\"startlinecolor\":\"#2a3f5f\"},\"baxis\":{\"endlinecolor\":\"#2a3f5f\",\"gridcolor\":\"white\",\"linecolor\":\"white\",\"minorgridcolor\":\"white\",\"startlinecolor\":\"#2a3f5f\"},\"type\":\"carpet\"}],\"choropleth\":[{\"colorbar\":{\"outlinewidth\":0,\"ticks\":\"\"},\"type\":\"choropleth\"}],\"contour\":[{\"colorbar\":{\"outlinewidth\":0,\"ticks\":\"\"},\"colorscale\":[[0.0,\"#0d0887\"],[0.1111111111111111,\"#46039f\"],[0.2222222222222222,\"#7201a8\"],[0.3333333333333333,\"#9c179e\"],[0.4444444444444444,\"#bd3786\"],[0.5555555555555556,\"#d8576b\"],[0.6666666666666666,\"#ed7953\"],[0.7777777777777778,\"#fb9f3a\"],[0.8888888888888888,\"#fdca26\"],[1.0,\"#f0f921\"]],\"type\":\"contour\"}],\"contourcarpet\":[{\"colorbar\":{\"outlinewidth\":0,\"ticks\":\"\"},\"type\":\"contourcarpet\"}],\"heatmap\":[{\"colorbar\":{\"outlinewidth\":0,\"ticks\":\"\"},\"colorscale\":[[0.0,\"#0d0887\"],[0.1111111111111111,\"#46039f\"],[0.2222222222222222,\"#7201a8\"],[0.3333333333333333,\"#9c179e\"],[0.4444444444444444,\"#bd3786\"],[0.5555555555555556,\"#d8576b\"],[0.6666666666666666,\"#ed7953\"],[0.7777777777777778,\"#fb9f3a\"],[0.8888888888888888,\"#fdca26\"],[1.0,\"#f0f921\"]],\"type\":\"heatmap\"}],\"heatmapgl\":[{\"colorbar\":{\"outlinewidth\":0,\"ticks\":\"\"},\"colorscale\":[[0.0,\"#0d0887\"],[0.1111111111111111,\"#46039f\"],[0.2222222222222222,\"#7201a8\"],[0.3333333333333333,\"#9c179e\"],[0.4444444444444444,\"#bd3786\"],[0.5555555555555556,\"#d8576b\"],[0.6666666666666666,\"#ed7953\"],[0.7777777777777778,\"#fb9f3a\"],[0.8888888888888888,\"#fdca26\"],[1.0,\"#f0f921\"]],\"type\":\"heatmapgl\"}],\"histogram\":[{\"marker\":{\"pattern\":{\"fillmode\":\"overlay\",\"size\":10,\"solidity\":0.2}},\"type\":\"histogram\"}],\"histogram2d\":[{\"colorbar\":{\"outlinewidth\":0,\"ticks\":\"\"},\"colorscale\":[[0.0,\"#0d0887\"],[0.1111111111111111,\"#46039f\"],[0.2222222222222222,\"#7201a8\"],[0.3333333333333333,\"#9c179e\"],[0.4444444444444444,\"#bd3786\"],[0.5555555555555556,\"#d8576b\"],[0.6666666666666666,\"#ed7953\"],[0.7777777777777778,\"#fb9f3a\"],[0.8888888888888888,\"#fdca26\"],[1.0,\"#f0f921\"]],\"type\":\"histogram2d\"}],\"histogram2dcontour\":[{\"colorbar\":{\"outlinewidth\":0,\"ticks\":\"\"},\"colorscale\":[[0.0,\"#0d0887\"],[0.1111111111111111,\"#46039f\"],[0.2222222222222222,\"#7201a8\"],[0.3333333333333333,\"#9c179e\"],[0.4444444444444444,\"#bd3786\"],[0.5555555555555556,\"#d8576b\"],[0.6666666666666666,\"#ed7953\"],[0.7777777777777778,\"#fb9f3a\"],[0.8888888888888888,\"#fdca26\"],[1.0,\"#f0f921\"]],\"type\":\"histogram2dcontour\"}],\"mesh3d\":[{\"colorbar\":{\"outlinewidth\":0,\"ticks\":\"\"},\"type\":\"mesh3d\"}],\"parcoords\":[{\"line\":{\"colorbar\":{\"outlinewidth\":0,\"ticks\":\"\"}},\"type\":\"parcoords\"}],\"pie\":[{\"automargin\":true,\"type\":\"pie\"}],\"scatter\":[{\"marker\":{\"colorbar\":{\"outlinewidth\":0,\"ticks\":\"\"}},\"type\":\"scatter\"}],\"scatter3d\":[{\"line\":{\"colorbar\":{\"outlinewidth\":0,\"ticks\":\"\"}},\"marker\":{\"colorbar\":{\"outlinewidth\":0,\"ticks\":\"\"}},\"type\":\"scatter3d\"}],\"scattercarpet\":[{\"marker\":{\"colorbar\":{\"outlinewidth\":0,\"ticks\":\"\"}},\"type\":\"scattercarpet\"}],\"scattergeo\":[{\"marker\":{\"colorbar\":{\"outlinewidth\":0,\"ticks\":\"\"}},\"type\":\"scattergeo\"}],\"scattergl\":[{\"marker\":{\"colorbar\":{\"outlinewidth\":0,\"ticks\":\"\"}},\"type\":\"scattergl\"}],\"scattermapbox\":[{\"marker\":{\"colorbar\":{\"outlinewidth\":0,\"ticks\":\"\"}},\"type\":\"scattermapbox\"}],\"scatterpolar\":[{\"marker\":{\"colorbar\":{\"outlinewidth\":0,\"ticks\":\"\"}},\"type\":\"scatterpolar\"}],\"scatterpolargl\":[{\"marker\":{\"colorbar\":{\"outlinewidth\":0,\"ticks\":\"\"}},\"type\":\"scatterpolargl\"}],\"scatterternary\":[{\"marker\":{\"colorbar\":{\"outlinewidth\":0,\"ticks\":\"\"}},\"type\":\"scatterternary\"}],\"surface\":[{\"colorbar\":{\"outlinewidth\":0,\"ticks\":\"\"},\"colorscale\":[[0.0,\"#0d0887\"],[0.1111111111111111,\"#46039f\"],[0.2222222222222222,\"#7201a8\"],[0.3333333333333333,\"#9c179e\"],[0.4444444444444444,\"#bd3786\"],[0.5555555555555556,\"#d8576b\"],[0.6666666666666666,\"#ed7953\"],[0.7777777777777778,\"#fb9f3a\"],[0.8888888888888888,\"#fdca26\"],[1.0,\"#f0f921\"]],\"type\":\"surface\"}],\"table\":[{\"cells\":{\"fill\":{\"color\":\"#EBF0F8\"},\"line\":{\"color\":\"white\"}},\"header\":{\"fill\":{\"color\":\"#C8D4E3\"},\"line\":{\"color\":\"white\"}},\"type\":\"table\"}]},\"layout\":{\"annotationdefaults\":{\"arrowcolor\":\"#2a3f5f\",\"arrowhead\":0,\"arrowwidth\":1},\"autotypenumbers\":\"strict\",\"coloraxis\":{\"colorbar\":{\"outlinewidth\":0,\"ticks\":\"\"}},\"colorscale\":{\"diverging\":[[0,\"#8e0152\"],[0.1,\"#c51b7d\"],[0.2,\"#de77ae\"],[0.3,\"#f1b6da\"],[0.4,\"#fde0ef\"],[0.5,\"#f7f7f7\"],[0.6,\"#e6f5d0\"],[0.7,\"#b8e186\"],[0.8,\"#7fbc41\"],[0.9,\"#4d9221\"],[1,\"#276419\"]],\"sequential\":[[0.0,\"#0d0887\"],[0.1111111111111111,\"#46039f\"],[0.2222222222222222,\"#7201a8\"],[0.3333333333333333,\"#9c179e\"],[0.4444444444444444,\"#bd3786\"],[0.5555555555555556,\"#d8576b\"],[0.6666666666666666,\"#ed7953\"],[0.7777777777777778,\"#fb9f3a\"],[0.8888888888888888,\"#fdca26\"],[1.0,\"#f0f921\"]],\"sequentialminus\":[[0.0,\"#0d0887\"],[0.1111111111111111,\"#46039f\"],[0.2222222222222222,\"#7201a8\"],[0.3333333333333333,\"#9c179e\"],[0.4444444444444444,\"#bd3786\"],[0.5555555555555556,\"#d8576b\"],[0.6666666666666666,\"#ed7953\"],[0.7777777777777778,\"#fb9f3a\"],[0.8888888888888888,\"#fdca26\"],[1.0,\"#f0f921\"]]},\"colorway\":[\"#636efa\",\"#EF553B\",\"#00cc96\",\"#ab63fa\",\"#FFA15A\",\"#19d3f3\",\"#FF6692\",\"#B6E880\",\"#FF97FF\",\"#FECB52\"],\"font\":{\"color\":\"#2a3f5f\"},\"geo\":{\"bgcolor\":\"white\",\"lakecolor\":\"white\",\"landcolor\":\"#E5ECF6\",\"showlakes\":true,\"showland\":true,\"subunitcolor\":\"white\"},\"hoverlabel\":{\"align\":\"left\"},\"hovermode\":\"closest\",\"mapbox\":{\"style\":\"light\"},\"paper_bgcolor\":\"white\",\"plot_bgcolor\":\"#E5ECF6\",\"polar\":{\"angularaxis\":{\"gridcolor\":\"white\",\"linecolor\":\"white\",\"ticks\":\"\"},\"bgcolor\":\"#E5ECF6\",\"radialaxis\":{\"gridcolor\":\"white\",\"linecolor\":\"white\",\"ticks\":\"\"}},\"scene\":{\"xaxis\":{\"backgroundcolor\":\"#E5ECF6\",\"gridcolor\":\"white\",\"gridwidth\":2,\"linecolor\":\"white\",\"showbackground\":true,\"ticks\":\"\",\"zerolinecolor\":\"white\"},\"yaxis\":{\"backgroundcolor\":\"#E5ECF6\",\"gridcolor\":\"white\",\"gridwidth\":2,\"linecolor\":\"white\",\"showbackground\":true,\"ticks\":\"\",\"zerolinecolor\":\"white\"},\"zaxis\":{\"backgroundcolor\":\"#E5ECF6\",\"gridcolor\":\"white\",\"gridwidth\":2,\"linecolor\":\"white\",\"showbackground\":true,\"ticks\":\"\",\"zerolinecolor\":\"white\"}},\"shapedefaults\":{\"line\":{\"color\":\"#2a3f5f\"}},\"ternary\":{\"aaxis\":{\"gridcolor\":\"white\",\"linecolor\":\"white\",\"ticks\":\"\"},\"baxis\":{\"gridcolor\":\"white\",\"linecolor\":\"white\",\"ticks\":\"\"},\"bgcolor\":\"#E5ECF6\",\"caxis\":{\"gridcolor\":\"white\",\"linecolor\":\"white\",\"ticks\":\"\"}},\"title\":{\"x\":0.05},\"xaxis\":{\"automargin\":true,\"gridcolor\":\"white\",\"linecolor\":\"white\",\"ticks\":\"\",\"title\":{\"standoff\":15},\"zerolinecolor\":\"white\",\"zerolinewidth\":2},\"yaxis\":{\"automargin\":true,\"gridcolor\":\"white\",\"linecolor\":\"white\",\"ticks\":\"\",\"title\":{\"standoff\":15},\"zerolinecolor\":\"white\",\"zerolinewidth\":2}}},\"xaxis\":{\"anchor\":\"y\",\"domain\":[0.0,1.0],\"title\":{\"text\":\" \"},\"showgrid\":false},\"yaxis\":{\"anchor\":\"x\",\"domain\":[0.0,1.0],\"title\":{\"text\":\" \"},\"showgrid\":false,\"categoryorder\":\"total ascending\",\"ticksuffix\":\" \",\"showline\":false},\"legend\":{\"tracegroupgap\":0,\"orientation\":\"h\",\"yanchor\":\"bottom\",\"y\":1,\"xanchor\":\"center\",\"x\":0.5},\"title\":{\"text\":\"Show the Top 10 Video Most Views\",\"font\":{\"size\":25,\"color\":\"#8a8d93\",\"family\":\"Lato, sans-serif\"}},\"barmode\":\"relative\",\"margin\":{\"t\":80,\"b\":0,\"l\":70,\"r\":40},\"font\":{\"color\":\"#8a8d93\"},\"hoverlabel\":{\"font\":{\"size\":13,\"family\":\"Lato, sans-serif\"},\"bgcolor\":\"black\"},\"hovermode\":\"y unified\",\"height\":400,\"plot_bgcolor\":\"#333\",\"paper_bgcolor\":\"#333\"},                        {\"responsive\": true}                    ).then(function(){\n",
       "                            \n",
       "var gd = document.getElementById('8997d1ce-6a15-4b57-b38e-cdd650aa0cc1');\n",
       "var x = new MutationObserver(function (mutations, observer) {{\n",
       "        var display = window.getComputedStyle(gd).display;\n",
       "        if (!display || display === 'none') {{\n",
       "            console.log([gd, 'removed!']);\n",
       "            Plotly.purge(gd);\n",
       "            observer.disconnect();\n",
       "        }}\n",
       "}});\n",
       "\n",
       "// Listen for the removal of the full notebook cells\n",
       "var notebookContainer = gd.closest('#notebook-container');\n",
       "if (notebookContainer) {{\n",
       "    x.observe(notebookContainer, {childList: true});\n",
       "}}\n",
       "\n",
       "// Listen for the clearing of the current output cell\n",
       "var outputEl = gd.closest('.output');\n",
       "if (outputEl) {{\n",
       "    x.observe(outputEl, {childList: true});\n",
       "}}\n",
       "\n",
       "                        })                };                });            </script>        </div>"
      ]
     },
     "metadata": {},
     "output_type": "display_data"
    }
   ],
   "source": [
    "fig=px.bar(title,x=\"Video Title\",y=\"Views\",title=\"Show the Top 10 Video Most Views\",text=\"Views\")\n",
    "\n",
    "fig.update_xaxes(showgrid=False)\n",
    "\n",
    "fig.update_yaxes(showgrid=False, categoryorder='total ascending', ticksuffix=' ', showline=False)\n",
    "\n",
    "fig.update_traces(hovertemplate=None, marker=dict(line=dict(width=0)))\n",
    "\n",
    "fig.update_layout(margin=dict(t=80, b=0, l=70, r=40),hovermode=\"y unified\",\n",
    "                  xaxis_title=' ', yaxis_title=\" \", height=400,plot_bgcolor='#333', paper_bgcolor='#333',\n",
    "title_font=dict(size=25, color='#8a8d93', family=\"Lato, sans-serif\"),\n",
    "font=dict(color='#8a8d93'),\n",
    "                  legend=dict(orientation=\"h\", yanchor=\"bottom\", y=1, xanchor=\"center\", x=0.5),\n",
    "                  hoverlabel=dict(bgcolor=\"black\", font_size=13, font_family=\"Lato, sans-serif\"))\n",
    "                  \n",
    "                  \n",
    "\n",
    "fig.show()"
   ]
  },
  {
   "cell_type": "markdown",
   "id": "cf42d923",
   "metadata": {
    "papermill": {
     "duration": 0.061957,
     "end_time": "2023-12-19T20:14:30.311184",
     "exception": false,
     "start_time": "2023-12-19T20:14:30.249227",
     "status": "completed"
    },
    "tags": []
   },
   "source": [
    "# Convert Country Code to Country Name:"
   ]
  },
  {
   "cell_type": "code",
   "execution_count": 19,
   "id": "a464a44f",
   "metadata": {
    "execution": {
     "iopub.execute_input": "2023-12-19T20:14:30.439908Z",
     "iopub.status.busy": "2023-12-19T20:14:30.439374Z",
     "iopub.status.idle": "2023-12-19T20:14:38.509573Z",
     "shell.execute_reply": "2023-12-19T20:14:38.509141Z",
     "shell.execute_reply.started": "2022-03-20T04:14:47.23012Z"
    },
    "papermill": {
     "duration": 8.13646,
     "end_time": "2023-12-19T20:14:38.509692",
     "exception": false,
     "start_time": "2023-12-19T20:14:30.373232",
     "status": "completed"
    },
    "tags": []
   },
   "outputs": [
    {
     "name": "stdout",
     "output_type": "stream",
     "text": [
      "Collecting country-converter\r\n",
      "  Downloading country_converter-1.2-py3-none-any.whl (45 kB)\r\n",
      "     |████████████████████████████████| 45 kB 2.1 MB/s             \r\n",
      "\u001b[?25hRequirement already satisfied: pandas>=1.0 in /opt/conda/lib/python3.7/site-packages (from country-converter) (1.3.5)\r\n",
      "Requirement already satisfied: python-dateutil>=2.7.3 in /opt/conda/lib/python3.7/site-packages (from pandas>=1.0->country-converter) (2.8.2)\r\n",
      "Requirement already satisfied: pytz>=2017.3 in /opt/conda/lib/python3.7/site-packages (from pandas>=1.0->country-converter) (2021.3)\r\n",
      "Requirement already satisfied: numpy>=1.17.3 in /opt/conda/lib/python3.7/site-packages (from pandas>=1.0->country-converter) (1.20.3)\r\n",
      "Requirement already satisfied: six>=1.5 in /opt/conda/lib/python3.7/site-packages (from python-dateutil>=2.7.3->pandas>=1.0->country-converter) (1.16.0)\r\n",
      "Installing collected packages: country-converter\r\n",
      "Successfully installed country-converter-1.2\r\n",
      "\u001b[33mWARNING: Running pip as the 'root' user can result in broken permissions and conflicting behaviour with the system package manager. It is recommended to use a virtual environment instead: https://pip.pypa.io/warnings/venv\u001b[0m\r\n",
      "Note: you may need to restart the kernel to use updated packages.\n"
     ]
    }
   ],
   "source": [
    "pip install country-converter"
   ]
  },
  {
   "cell_type": "code",
   "execution_count": 20,
   "id": "55bc66ce",
   "metadata": {
    "execution": {
     "iopub.execute_input": "2023-12-19T20:14:38.645556Z",
     "iopub.status.busy": "2023-12-19T20:14:38.644901Z",
     "iopub.status.idle": "2023-12-19T20:14:38.658142Z",
     "shell.execute_reply": "2023-12-19T20:14:38.658563Z",
     "shell.execute_reply.started": "2022-03-20T04:15:04.665074Z"
    },
    "papermill": {
     "duration": 0.084546,
     "end_time": "2023-12-19T20:14:38.658717",
     "exception": false,
     "start_time": "2023-12-19T20:14:38.574171",
     "status": "completed"
    },
    "tags": []
   },
   "outputs": [],
   "source": [
    "import country_converter as co\n",
    "country=new_df.groupby([\"Country Code\"])[\"Views\"].sum().sort_values(ascending=False).reset_index().head(10)"
   ]
  },
  {
   "cell_type": "code",
   "execution_count": 21,
   "id": "36c4a7fe",
   "metadata": {
    "execution": {
     "iopub.execute_input": "2023-12-19T20:14:38.797689Z",
     "iopub.status.busy": "2023-12-19T20:14:38.797120Z",
     "iopub.status.idle": "2023-12-19T20:14:39.655851Z",
     "shell.execute_reply": "2023-12-19T20:14:39.655363Z",
     "shell.execute_reply.started": "2022-03-20T04:15:09.814145Z"
    },
    "papermill": {
     "duration": 0.929144,
     "end_time": "2023-12-19T20:14:39.655968",
     "exception": false,
     "start_time": "2023-12-19T20:14:38.726824",
     "status": "completed"
    },
    "tags": []
   },
   "outputs": [],
   "source": [
    "country[\"Country_name\"]=country[\"Country Code\"].apply(lambda x:co.convert(names=x,to=\"name_short\",not_found=None))\n",
    "\n",
    "c=country[\"Country_name\"]\n",
    "v=country[\"Views\"]"
   ]
  },
  {
   "cell_type": "markdown",
   "id": "6199a808",
   "metadata": {
    "papermill": {
     "duration": 0.062506,
     "end_time": "2023-12-19T20:14:39.781733",
     "exception": false,
     "start_time": "2023-12-19T20:14:39.719227",
     "status": "completed"
    },
    "tags": []
   },
   "source": [
    "# Top 10 Number of Views according to Country:"
   ]
  },
  {
   "cell_type": "code",
   "execution_count": 22,
   "id": "23b5e948",
   "metadata": {
    "execution": {
     "iopub.execute_input": "2023-12-19T20:14:39.916636Z",
     "iopub.status.busy": "2023-12-19T20:14:39.916035Z",
     "iopub.status.idle": "2023-12-19T20:14:39.939346Z",
     "shell.execute_reply": "2023-12-19T20:14:39.939818Z",
     "shell.execute_reply.started": "2022-03-20T04:15:15.325567Z"
    },
    "papermill": {
     "duration": 0.094747,
     "end_time": "2023-12-19T20:14:39.939951",
     "exception": false,
     "start_time": "2023-12-19T20:14:39.845204",
     "status": "completed"
    },
    "tags": []
   },
   "outputs": [
    {
     "data": {
      "text/html": [
       "<div>                            <div id=\"450cbada-313a-4efd-aff7-6ff1372375d0\" class=\"plotly-graph-div\" style=\"height:525px; width:100%;\"></div>            <script type=\"text/javascript\">                require([\"plotly\"], function(Plotly) {                    window.PLOTLYENV=window.PLOTLYENV || {};                                    if (document.getElementById(\"450cbada-313a-4efd-aff7-6ff1372375d0\")) {                    Plotly.newPlot(                        \"450cbada-313a-4efd-aff7-6ff1372375d0\",                        [{\"cells\":{\"align\":\"left\",\"fill\":{\"color\":\"black\"},\"font\":{\"color\":\"white\",\"size\":12},\"values\":[[\"United States\",\"India\",\"United Kingdom\",\"Canada\",\"Germany\",\"Australia\",\"Brazil\",\"Indonesia\",\"France\",\"Singapore\"],[1354450,1155510,239177,222373,172165,116295,114161,112500,78852,75794]]},\"header\":{\"align\":\"left\",\"fill\":{\"color\":\"red\"},\"font\":{\"color\":\"black\",\"size\":12},\"values\":[\"Country_name\",\"Views\"]},\"type\":\"table\"}],                        {\"template\":{\"data\":{\"bar\":[{\"error_x\":{\"color\":\"#2a3f5f\"},\"error_y\":{\"color\":\"#2a3f5f\"},\"marker\":{\"line\":{\"color\":\"#E5ECF6\",\"width\":0.5},\"pattern\":{\"fillmode\":\"overlay\",\"size\":10,\"solidity\":0.2}},\"type\":\"bar\"}],\"barpolar\":[{\"marker\":{\"line\":{\"color\":\"#E5ECF6\",\"width\":0.5},\"pattern\":{\"fillmode\":\"overlay\",\"size\":10,\"solidity\":0.2}},\"type\":\"barpolar\"}],\"carpet\":[{\"aaxis\":{\"endlinecolor\":\"#2a3f5f\",\"gridcolor\":\"white\",\"linecolor\":\"white\",\"minorgridcolor\":\"white\",\"startlinecolor\":\"#2a3f5f\"},\"baxis\":{\"endlinecolor\":\"#2a3f5f\",\"gridcolor\":\"white\",\"linecolor\":\"white\",\"minorgridcolor\":\"white\",\"startlinecolor\":\"#2a3f5f\"},\"type\":\"carpet\"}],\"choropleth\":[{\"colorbar\":{\"outlinewidth\":0,\"ticks\":\"\"},\"type\":\"choropleth\"}],\"contour\":[{\"colorbar\":{\"outlinewidth\":0,\"ticks\":\"\"},\"colorscale\":[[0.0,\"#0d0887\"],[0.1111111111111111,\"#46039f\"],[0.2222222222222222,\"#7201a8\"],[0.3333333333333333,\"#9c179e\"],[0.4444444444444444,\"#bd3786\"],[0.5555555555555556,\"#d8576b\"],[0.6666666666666666,\"#ed7953\"],[0.7777777777777778,\"#fb9f3a\"],[0.8888888888888888,\"#fdca26\"],[1.0,\"#f0f921\"]],\"type\":\"contour\"}],\"contourcarpet\":[{\"colorbar\":{\"outlinewidth\":0,\"ticks\":\"\"},\"type\":\"contourcarpet\"}],\"heatmap\":[{\"colorbar\":{\"outlinewidth\":0,\"ticks\":\"\"},\"colorscale\":[[0.0,\"#0d0887\"],[0.1111111111111111,\"#46039f\"],[0.2222222222222222,\"#7201a8\"],[0.3333333333333333,\"#9c179e\"],[0.4444444444444444,\"#bd3786\"],[0.5555555555555556,\"#d8576b\"],[0.6666666666666666,\"#ed7953\"],[0.7777777777777778,\"#fb9f3a\"],[0.8888888888888888,\"#fdca26\"],[1.0,\"#f0f921\"]],\"type\":\"heatmap\"}],\"heatmapgl\":[{\"colorbar\":{\"outlinewidth\":0,\"ticks\":\"\"},\"colorscale\":[[0.0,\"#0d0887\"],[0.1111111111111111,\"#46039f\"],[0.2222222222222222,\"#7201a8\"],[0.3333333333333333,\"#9c179e\"],[0.4444444444444444,\"#bd3786\"],[0.5555555555555556,\"#d8576b\"],[0.6666666666666666,\"#ed7953\"],[0.7777777777777778,\"#fb9f3a\"],[0.8888888888888888,\"#fdca26\"],[1.0,\"#f0f921\"]],\"type\":\"heatmapgl\"}],\"histogram\":[{\"marker\":{\"pattern\":{\"fillmode\":\"overlay\",\"size\":10,\"solidity\":0.2}},\"type\":\"histogram\"}],\"histogram2d\":[{\"colorbar\":{\"outlinewidth\":0,\"ticks\":\"\"},\"colorscale\":[[0.0,\"#0d0887\"],[0.1111111111111111,\"#46039f\"],[0.2222222222222222,\"#7201a8\"],[0.3333333333333333,\"#9c179e\"],[0.4444444444444444,\"#bd3786\"],[0.5555555555555556,\"#d8576b\"],[0.6666666666666666,\"#ed7953\"],[0.7777777777777778,\"#fb9f3a\"],[0.8888888888888888,\"#fdca26\"],[1.0,\"#f0f921\"]],\"type\":\"histogram2d\"}],\"histogram2dcontour\":[{\"colorbar\":{\"outlinewidth\":0,\"ticks\":\"\"},\"colorscale\":[[0.0,\"#0d0887\"],[0.1111111111111111,\"#46039f\"],[0.2222222222222222,\"#7201a8\"],[0.3333333333333333,\"#9c179e\"],[0.4444444444444444,\"#bd3786\"],[0.5555555555555556,\"#d8576b\"],[0.6666666666666666,\"#ed7953\"],[0.7777777777777778,\"#fb9f3a\"],[0.8888888888888888,\"#fdca26\"],[1.0,\"#f0f921\"]],\"type\":\"histogram2dcontour\"}],\"mesh3d\":[{\"colorbar\":{\"outlinewidth\":0,\"ticks\":\"\"},\"type\":\"mesh3d\"}],\"parcoords\":[{\"line\":{\"colorbar\":{\"outlinewidth\":0,\"ticks\":\"\"}},\"type\":\"parcoords\"}],\"pie\":[{\"automargin\":true,\"type\":\"pie\"}],\"scatter\":[{\"marker\":{\"colorbar\":{\"outlinewidth\":0,\"ticks\":\"\"}},\"type\":\"scatter\"}],\"scatter3d\":[{\"line\":{\"colorbar\":{\"outlinewidth\":0,\"ticks\":\"\"}},\"marker\":{\"colorbar\":{\"outlinewidth\":0,\"ticks\":\"\"}},\"type\":\"scatter3d\"}],\"scattercarpet\":[{\"marker\":{\"colorbar\":{\"outlinewidth\":0,\"ticks\":\"\"}},\"type\":\"scattercarpet\"}],\"scattergeo\":[{\"marker\":{\"colorbar\":{\"outlinewidth\":0,\"ticks\":\"\"}},\"type\":\"scattergeo\"}],\"scattergl\":[{\"marker\":{\"colorbar\":{\"outlinewidth\":0,\"ticks\":\"\"}},\"type\":\"scattergl\"}],\"scattermapbox\":[{\"marker\":{\"colorbar\":{\"outlinewidth\":0,\"ticks\":\"\"}},\"type\":\"scattermapbox\"}],\"scatterpolar\":[{\"marker\":{\"colorbar\":{\"outlinewidth\":0,\"ticks\":\"\"}},\"type\":\"scatterpolar\"}],\"scatterpolargl\":[{\"marker\":{\"colorbar\":{\"outlinewidth\":0,\"ticks\":\"\"}},\"type\":\"scatterpolargl\"}],\"scatterternary\":[{\"marker\":{\"colorbar\":{\"outlinewidth\":0,\"ticks\":\"\"}},\"type\":\"scatterternary\"}],\"surface\":[{\"colorbar\":{\"outlinewidth\":0,\"ticks\":\"\"},\"colorscale\":[[0.0,\"#0d0887\"],[0.1111111111111111,\"#46039f\"],[0.2222222222222222,\"#7201a8\"],[0.3333333333333333,\"#9c179e\"],[0.4444444444444444,\"#bd3786\"],[0.5555555555555556,\"#d8576b\"],[0.6666666666666666,\"#ed7953\"],[0.7777777777777778,\"#fb9f3a\"],[0.8888888888888888,\"#fdca26\"],[1.0,\"#f0f921\"]],\"type\":\"surface\"}],\"table\":[{\"cells\":{\"fill\":{\"color\":\"#EBF0F8\"},\"line\":{\"color\":\"white\"}},\"header\":{\"fill\":{\"color\":\"#C8D4E3\"},\"line\":{\"color\":\"white\"}},\"type\":\"table\"}]},\"layout\":{\"annotationdefaults\":{\"arrowcolor\":\"#2a3f5f\",\"arrowhead\":0,\"arrowwidth\":1},\"autotypenumbers\":\"strict\",\"coloraxis\":{\"colorbar\":{\"outlinewidth\":0,\"ticks\":\"\"}},\"colorscale\":{\"diverging\":[[0,\"#8e0152\"],[0.1,\"#c51b7d\"],[0.2,\"#de77ae\"],[0.3,\"#f1b6da\"],[0.4,\"#fde0ef\"],[0.5,\"#f7f7f7\"],[0.6,\"#e6f5d0\"],[0.7,\"#b8e186\"],[0.8,\"#7fbc41\"],[0.9,\"#4d9221\"],[1,\"#276419\"]],\"sequential\":[[0.0,\"#0d0887\"],[0.1111111111111111,\"#46039f\"],[0.2222222222222222,\"#7201a8\"],[0.3333333333333333,\"#9c179e\"],[0.4444444444444444,\"#bd3786\"],[0.5555555555555556,\"#d8576b\"],[0.6666666666666666,\"#ed7953\"],[0.7777777777777778,\"#fb9f3a\"],[0.8888888888888888,\"#fdca26\"],[1.0,\"#f0f921\"]],\"sequentialminus\":[[0.0,\"#0d0887\"],[0.1111111111111111,\"#46039f\"],[0.2222222222222222,\"#7201a8\"],[0.3333333333333333,\"#9c179e\"],[0.4444444444444444,\"#bd3786\"],[0.5555555555555556,\"#d8576b\"],[0.6666666666666666,\"#ed7953\"],[0.7777777777777778,\"#fb9f3a\"],[0.8888888888888888,\"#fdca26\"],[1.0,\"#f0f921\"]]},\"colorway\":[\"#636efa\",\"#EF553B\",\"#00cc96\",\"#ab63fa\",\"#FFA15A\",\"#19d3f3\",\"#FF6692\",\"#B6E880\",\"#FF97FF\",\"#FECB52\"],\"font\":{\"color\":\"#2a3f5f\"},\"geo\":{\"bgcolor\":\"white\",\"lakecolor\":\"white\",\"landcolor\":\"#E5ECF6\",\"showlakes\":true,\"showland\":true,\"subunitcolor\":\"white\"},\"hoverlabel\":{\"align\":\"left\"},\"hovermode\":\"closest\",\"mapbox\":{\"style\":\"light\"},\"paper_bgcolor\":\"white\",\"plot_bgcolor\":\"#E5ECF6\",\"polar\":{\"angularaxis\":{\"gridcolor\":\"white\",\"linecolor\":\"white\",\"ticks\":\"\"},\"bgcolor\":\"#E5ECF6\",\"radialaxis\":{\"gridcolor\":\"white\",\"linecolor\":\"white\",\"ticks\":\"\"}},\"scene\":{\"xaxis\":{\"backgroundcolor\":\"#E5ECF6\",\"gridcolor\":\"white\",\"gridwidth\":2,\"linecolor\":\"white\",\"showbackground\":true,\"ticks\":\"\",\"zerolinecolor\":\"white\"},\"yaxis\":{\"backgroundcolor\":\"#E5ECF6\",\"gridcolor\":\"white\",\"gridwidth\":2,\"linecolor\":\"white\",\"showbackground\":true,\"ticks\":\"\",\"zerolinecolor\":\"white\"},\"zaxis\":{\"backgroundcolor\":\"#E5ECF6\",\"gridcolor\":\"white\",\"gridwidth\":2,\"linecolor\":\"white\",\"showbackground\":true,\"ticks\":\"\",\"zerolinecolor\":\"white\"}},\"shapedefaults\":{\"line\":{\"color\":\"#2a3f5f\"}},\"ternary\":{\"aaxis\":{\"gridcolor\":\"white\",\"linecolor\":\"white\",\"ticks\":\"\"},\"baxis\":{\"gridcolor\":\"white\",\"linecolor\":\"white\",\"ticks\":\"\"},\"bgcolor\":\"#E5ECF6\",\"caxis\":{\"gridcolor\":\"white\",\"linecolor\":\"white\",\"ticks\":\"\"}},\"title\":{\"x\":0.05},\"xaxis\":{\"automargin\":true,\"gridcolor\":\"white\",\"linecolor\":\"white\",\"ticks\":\"\",\"title\":{\"standoff\":15},\"zerolinecolor\":\"white\",\"zerolinewidth\":2},\"yaxis\":{\"automargin\":true,\"gridcolor\":\"white\",\"linecolor\":\"white\",\"ticks\":\"\",\"title\":{\"standoff\":15},\"zerolinecolor\":\"white\",\"zerolinewidth\":2}}}},                        {\"responsive\": true}                    ).then(function(){\n",
       "                            \n",
       "var gd = document.getElementById('450cbada-313a-4efd-aff7-6ff1372375d0');\n",
       "var x = new MutationObserver(function (mutations, observer) {{\n",
       "        var display = window.getComputedStyle(gd).display;\n",
       "        if (!display || display === 'none') {{\n",
       "            console.log([gd, 'removed!']);\n",
       "            Plotly.purge(gd);\n",
       "            observer.disconnect();\n",
       "        }}\n",
       "}});\n",
       "\n",
       "// Listen for the removal of the full notebook cells\n",
       "var notebookContainer = gd.closest('#notebook-container');\n",
       "if (notebookContainer) {{\n",
       "    x.observe(notebookContainer, {childList: true});\n",
       "}}\n",
       "\n",
       "// Listen for the clearing of the current output cell\n",
       "var outputEl = gd.closest('.output');\n",
       "if (outputEl) {{\n",
       "    x.observe(outputEl, {childList: true});\n",
       "}}\n",
       "\n",
       "                        })                };                });            </script>        </div>"
      ]
     },
     "metadata": {},
     "output_type": "display_data"
    }
   ],
   "source": [
    "go_fig = go.Figure()\n",
    "\n",
    "obj = go.Table(\n",
    "    header = dict(values=[\"Country_name\", \"Views\"],\n",
    "                 fill_color = 'red',\n",
    "                 align = 'left',\n",
    "                 font=dict(color=\"black\", size = 12)),\n",
    "    cells = dict(values=[c, v],\n",
    "                 fill_color = 'black',\n",
    "                 align = 'left', \n",
    "                 font=dict(color=\"white\", size = 12)))\n",
    "go_fig.add_trace(obj)\n",
    "go_fig.show()"
   ]
  },
  {
   "cell_type": "markdown",
   "id": "8a3c8126",
   "metadata": {
    "papermill": {
     "duration": 0.064475,
     "end_time": "2023-12-19T20:14:40.069056",
     "exception": false,
     "start_time": "2023-12-19T20:14:40.004581",
     "status": "completed"
    },
    "tags": []
   },
   "source": [
    "# show the top 10 Number of Video Likes Added"
   ]
  },
  {
   "cell_type": "code",
   "execution_count": 23,
   "id": "2b55cbe2",
   "metadata": {
    "execution": {
     "iopub.execute_input": "2023-12-19T20:14:40.201464Z",
     "iopub.status.busy": "2023-12-19T20:14:40.200878Z",
     "iopub.status.idle": "2023-12-19T20:14:40.213149Z",
     "shell.execute_reply": "2023-12-19T20:14:40.213704Z",
     "shell.execute_reply.started": "2022-03-20T04:15:22.268519Z"
    },
    "papermill": {
     "duration": 0.079794,
     "end_time": "2023-12-19T20:14:40.213863",
     "exception": false,
     "start_time": "2023-12-19T20:14:40.134069",
     "status": "completed"
    },
    "tags": []
   },
   "outputs": [],
   "source": [
    "video=new_df.groupby([\"Video Title\"])[\"Video Likes Added\"].sum().sort_values(ascending=False).reset_index().head(10)\n"
   ]
  },
  {
   "cell_type": "code",
   "execution_count": 24,
   "id": "05d2d184",
   "metadata": {
    "execution": {
     "iopub.execute_input": "2023-12-19T20:14:40.350301Z",
     "iopub.status.busy": "2023-12-19T20:14:40.344732Z",
     "iopub.status.idle": "2023-12-19T20:14:40.430196Z",
     "shell.execute_reply": "2023-12-19T20:14:40.429641Z",
     "shell.execute_reply.started": "2022-03-20T04:11:06.71676Z"
    },
    "papermill": {
     "duration": 0.152292,
     "end_time": "2023-12-19T20:14:40.430345",
     "exception": false,
     "start_time": "2023-12-19T20:14:40.278053",
     "status": "completed"
    },
    "tags": []
   },
   "outputs": [
    {
     "data": {
      "text/html": [
       "<div>                            <div id=\"aaf75420-9cd2-4060-af10-aefe067750cd\" class=\"plotly-graph-div\" style=\"height:400px; width:100%;\"></div>            <script type=\"text/javascript\">                require([\"plotly\"], function(Plotly) {                    window.PLOTLYENV=window.PLOTLYENV || {};                                    if (document.getElementById(\"aaf75420-9cd2-4060-af10-aefe067750cd\")) {                    Plotly.newPlot(                        \"aaf75420-9cd2-4060-af10-aefe067750cd\",                        [{\"legendgroup\":\"\",\"marker\":{\"color\":\"red\",\"symbol\":\"circle\",\"line\":{\"width\":0}},\"mode\":\"markers\",\"name\":\"\",\"orientation\":\"v\",\"showlegend\":false,\"x\":[\"How I Would Learn Data Science (If I Had to Start Over)\",\"The Best Free Data Science Courses Nobody is Talking About\",\"3 Proven Data Science Projects for Beginners (Kaggle)\",\"How I Would Learn Data Science in 2021 (What Has Changed?)\",\"The Projects You Should Do To Get A Data Science Job\",\"Beginner Kaggle Data Science Project Walk-Through (Titanic)\",\"How I Would Learn Data Science in 2022 (If I Had to Start Over)\",\"How to ULTRALEARN Data Science\",\"Why You Probably Won't Become a Data Scientist\",\"Data Science Project from Scratch - Part 1 (Project Planning)\"],\"xaxis\":\"x\",\"y\":[48982,20289,15279,6051,5458,4523,4418,3642,3333,3297],\"yaxis\":\"y\",\"type\":\"scatter\"}],                        {\"template\":{\"data\":{\"bar\":[{\"error_x\":{\"color\":\"#2a3f5f\"},\"error_y\":{\"color\":\"#2a3f5f\"},\"marker\":{\"line\":{\"color\":\"#E5ECF6\",\"width\":0.5},\"pattern\":{\"fillmode\":\"overlay\",\"size\":10,\"solidity\":0.2}},\"type\":\"bar\"}],\"barpolar\":[{\"marker\":{\"line\":{\"color\":\"#E5ECF6\",\"width\":0.5},\"pattern\":{\"fillmode\":\"overlay\",\"size\":10,\"solidity\":0.2}},\"type\":\"barpolar\"}],\"carpet\":[{\"aaxis\":{\"endlinecolor\":\"#2a3f5f\",\"gridcolor\":\"white\",\"linecolor\":\"white\",\"minorgridcolor\":\"white\",\"startlinecolor\":\"#2a3f5f\"},\"baxis\":{\"endlinecolor\":\"#2a3f5f\",\"gridcolor\":\"white\",\"linecolor\":\"white\",\"minorgridcolor\":\"white\",\"startlinecolor\":\"#2a3f5f\"},\"type\":\"carpet\"}],\"choropleth\":[{\"colorbar\":{\"outlinewidth\":0,\"ticks\":\"\"},\"type\":\"choropleth\"}],\"contour\":[{\"colorbar\":{\"outlinewidth\":0,\"ticks\":\"\"},\"colorscale\":[[0.0,\"#0d0887\"],[0.1111111111111111,\"#46039f\"],[0.2222222222222222,\"#7201a8\"],[0.3333333333333333,\"#9c179e\"],[0.4444444444444444,\"#bd3786\"],[0.5555555555555556,\"#d8576b\"],[0.6666666666666666,\"#ed7953\"],[0.7777777777777778,\"#fb9f3a\"],[0.8888888888888888,\"#fdca26\"],[1.0,\"#f0f921\"]],\"type\":\"contour\"}],\"contourcarpet\":[{\"colorbar\":{\"outlinewidth\":0,\"ticks\":\"\"},\"type\":\"contourcarpet\"}],\"heatmap\":[{\"colorbar\":{\"outlinewidth\":0,\"ticks\":\"\"},\"colorscale\":[[0.0,\"#0d0887\"],[0.1111111111111111,\"#46039f\"],[0.2222222222222222,\"#7201a8\"],[0.3333333333333333,\"#9c179e\"],[0.4444444444444444,\"#bd3786\"],[0.5555555555555556,\"#d8576b\"],[0.6666666666666666,\"#ed7953\"],[0.7777777777777778,\"#fb9f3a\"],[0.8888888888888888,\"#fdca26\"],[1.0,\"#f0f921\"]],\"type\":\"heatmap\"}],\"heatmapgl\":[{\"colorbar\":{\"outlinewidth\":0,\"ticks\":\"\"},\"colorscale\":[[0.0,\"#0d0887\"],[0.1111111111111111,\"#46039f\"],[0.2222222222222222,\"#7201a8\"],[0.3333333333333333,\"#9c179e\"],[0.4444444444444444,\"#bd3786\"],[0.5555555555555556,\"#d8576b\"],[0.6666666666666666,\"#ed7953\"],[0.7777777777777778,\"#fb9f3a\"],[0.8888888888888888,\"#fdca26\"],[1.0,\"#f0f921\"]],\"type\":\"heatmapgl\"}],\"histogram\":[{\"marker\":{\"pattern\":{\"fillmode\":\"overlay\",\"size\":10,\"solidity\":0.2}},\"type\":\"histogram\"}],\"histogram2d\":[{\"colorbar\":{\"outlinewidth\":0,\"ticks\":\"\"},\"colorscale\":[[0.0,\"#0d0887\"],[0.1111111111111111,\"#46039f\"],[0.2222222222222222,\"#7201a8\"],[0.3333333333333333,\"#9c179e\"],[0.4444444444444444,\"#bd3786\"],[0.5555555555555556,\"#d8576b\"],[0.6666666666666666,\"#ed7953\"],[0.7777777777777778,\"#fb9f3a\"],[0.8888888888888888,\"#fdca26\"],[1.0,\"#f0f921\"]],\"type\":\"histogram2d\"}],\"histogram2dcontour\":[{\"colorbar\":{\"outlinewidth\":0,\"ticks\":\"\"},\"colorscale\":[[0.0,\"#0d0887\"],[0.1111111111111111,\"#46039f\"],[0.2222222222222222,\"#7201a8\"],[0.3333333333333333,\"#9c179e\"],[0.4444444444444444,\"#bd3786\"],[0.5555555555555556,\"#d8576b\"],[0.6666666666666666,\"#ed7953\"],[0.7777777777777778,\"#fb9f3a\"],[0.8888888888888888,\"#fdca26\"],[1.0,\"#f0f921\"]],\"type\":\"histogram2dcontour\"}],\"mesh3d\":[{\"colorbar\":{\"outlinewidth\":0,\"ticks\":\"\"},\"type\":\"mesh3d\"}],\"parcoords\":[{\"line\":{\"colorbar\":{\"outlinewidth\":0,\"ticks\":\"\"}},\"type\":\"parcoords\"}],\"pie\":[{\"automargin\":true,\"type\":\"pie\"}],\"scatter\":[{\"marker\":{\"colorbar\":{\"outlinewidth\":0,\"ticks\":\"\"}},\"type\":\"scatter\"}],\"scatter3d\":[{\"line\":{\"colorbar\":{\"outlinewidth\":0,\"ticks\":\"\"}},\"marker\":{\"colorbar\":{\"outlinewidth\":0,\"ticks\":\"\"}},\"type\":\"scatter3d\"}],\"scattercarpet\":[{\"marker\":{\"colorbar\":{\"outlinewidth\":0,\"ticks\":\"\"}},\"type\":\"scattercarpet\"}],\"scattergeo\":[{\"marker\":{\"colorbar\":{\"outlinewidth\":0,\"ticks\":\"\"}},\"type\":\"scattergeo\"}],\"scattergl\":[{\"marker\":{\"colorbar\":{\"outlinewidth\":0,\"ticks\":\"\"}},\"type\":\"scattergl\"}],\"scattermapbox\":[{\"marker\":{\"colorbar\":{\"outlinewidth\":0,\"ticks\":\"\"}},\"type\":\"scattermapbox\"}],\"scatterpolar\":[{\"marker\":{\"colorbar\":{\"outlinewidth\":0,\"ticks\":\"\"}},\"type\":\"scatterpolar\"}],\"scatterpolargl\":[{\"marker\":{\"colorbar\":{\"outlinewidth\":0,\"ticks\":\"\"}},\"type\":\"scatterpolargl\"}],\"scatterternary\":[{\"marker\":{\"colorbar\":{\"outlinewidth\":0,\"ticks\":\"\"}},\"type\":\"scatterternary\"}],\"surface\":[{\"colorbar\":{\"outlinewidth\":0,\"ticks\":\"\"},\"colorscale\":[[0.0,\"#0d0887\"],[0.1111111111111111,\"#46039f\"],[0.2222222222222222,\"#7201a8\"],[0.3333333333333333,\"#9c179e\"],[0.4444444444444444,\"#bd3786\"],[0.5555555555555556,\"#d8576b\"],[0.6666666666666666,\"#ed7953\"],[0.7777777777777778,\"#fb9f3a\"],[0.8888888888888888,\"#fdca26\"],[1.0,\"#f0f921\"]],\"type\":\"surface\"}],\"table\":[{\"cells\":{\"fill\":{\"color\":\"#EBF0F8\"},\"line\":{\"color\":\"white\"}},\"header\":{\"fill\":{\"color\":\"#C8D4E3\"},\"line\":{\"color\":\"white\"}},\"type\":\"table\"}]},\"layout\":{\"annotationdefaults\":{\"arrowcolor\":\"#2a3f5f\",\"arrowhead\":0,\"arrowwidth\":1},\"autotypenumbers\":\"strict\",\"coloraxis\":{\"colorbar\":{\"outlinewidth\":0,\"ticks\":\"\"}},\"colorscale\":{\"diverging\":[[0,\"#8e0152\"],[0.1,\"#c51b7d\"],[0.2,\"#de77ae\"],[0.3,\"#f1b6da\"],[0.4,\"#fde0ef\"],[0.5,\"#f7f7f7\"],[0.6,\"#e6f5d0\"],[0.7,\"#b8e186\"],[0.8,\"#7fbc41\"],[0.9,\"#4d9221\"],[1,\"#276419\"]],\"sequential\":[[0.0,\"#0d0887\"],[0.1111111111111111,\"#46039f\"],[0.2222222222222222,\"#7201a8\"],[0.3333333333333333,\"#9c179e\"],[0.4444444444444444,\"#bd3786\"],[0.5555555555555556,\"#d8576b\"],[0.6666666666666666,\"#ed7953\"],[0.7777777777777778,\"#fb9f3a\"],[0.8888888888888888,\"#fdca26\"],[1.0,\"#f0f921\"]],\"sequentialminus\":[[0.0,\"#0d0887\"],[0.1111111111111111,\"#46039f\"],[0.2222222222222222,\"#7201a8\"],[0.3333333333333333,\"#9c179e\"],[0.4444444444444444,\"#bd3786\"],[0.5555555555555556,\"#d8576b\"],[0.6666666666666666,\"#ed7953\"],[0.7777777777777778,\"#fb9f3a\"],[0.8888888888888888,\"#fdca26\"],[1.0,\"#f0f921\"]]},\"colorway\":[\"#636efa\",\"#EF553B\",\"#00cc96\",\"#ab63fa\",\"#FFA15A\",\"#19d3f3\",\"#FF6692\",\"#B6E880\",\"#FF97FF\",\"#FECB52\"],\"font\":{\"color\":\"#2a3f5f\"},\"geo\":{\"bgcolor\":\"white\",\"lakecolor\":\"white\",\"landcolor\":\"#E5ECF6\",\"showlakes\":true,\"showland\":true,\"subunitcolor\":\"white\"},\"hoverlabel\":{\"align\":\"left\"},\"hovermode\":\"closest\",\"mapbox\":{\"style\":\"light\"},\"paper_bgcolor\":\"white\",\"plot_bgcolor\":\"#E5ECF6\",\"polar\":{\"angularaxis\":{\"gridcolor\":\"white\",\"linecolor\":\"white\",\"ticks\":\"\"},\"bgcolor\":\"#E5ECF6\",\"radialaxis\":{\"gridcolor\":\"white\",\"linecolor\":\"white\",\"ticks\":\"\"}},\"scene\":{\"xaxis\":{\"backgroundcolor\":\"#E5ECF6\",\"gridcolor\":\"white\",\"gridwidth\":2,\"linecolor\":\"white\",\"showbackground\":true,\"ticks\":\"\",\"zerolinecolor\":\"white\"},\"yaxis\":{\"backgroundcolor\":\"#E5ECF6\",\"gridcolor\":\"white\",\"gridwidth\":2,\"linecolor\":\"white\",\"showbackground\":true,\"ticks\":\"\",\"zerolinecolor\":\"white\"},\"zaxis\":{\"backgroundcolor\":\"#E5ECF6\",\"gridcolor\":\"white\",\"gridwidth\":2,\"linecolor\":\"white\",\"showbackground\":true,\"ticks\":\"\",\"zerolinecolor\":\"white\"}},\"shapedefaults\":{\"line\":{\"color\":\"#2a3f5f\"}},\"ternary\":{\"aaxis\":{\"gridcolor\":\"white\",\"linecolor\":\"white\",\"ticks\":\"\"},\"baxis\":{\"gridcolor\":\"white\",\"linecolor\":\"white\",\"ticks\":\"\"},\"bgcolor\":\"#E5ECF6\",\"caxis\":{\"gridcolor\":\"white\",\"linecolor\":\"white\",\"ticks\":\"\"}},\"title\":{\"x\":0.05},\"xaxis\":{\"automargin\":true,\"gridcolor\":\"white\",\"linecolor\":\"white\",\"ticks\":\"\",\"title\":{\"standoff\":15},\"zerolinecolor\":\"white\",\"zerolinewidth\":2},\"yaxis\":{\"automargin\":true,\"gridcolor\":\"white\",\"linecolor\":\"white\",\"ticks\":\"\",\"title\":{\"standoff\":15},\"zerolinecolor\":\"white\",\"zerolinewidth\":2}}},\"xaxis\":{\"anchor\":\"y\",\"domain\":[0.0,1.0],\"title\":{\"text\":\" \"},\"showgrid\":false},\"yaxis\":{\"anchor\":\"x\",\"domain\":[0.0,1.0],\"title\":{\"text\":\" \"},\"showgrid\":false,\"categoryorder\":\"total ascending\",\"ticksuffix\":\" \",\"showline\":false},\"legend\":{\"tracegroupgap\":0,\"orientation\":\"h\",\"yanchor\":\"bottom\",\"y\":1,\"xanchor\":\"center\",\"x\":0.5},\"title\":{\"text\":\"Top 10 Number of Video Likes Added \",\"font\":{\"size\":25,\"color\":\"#8a8d93\",\"family\":\"Lato, sans-serif\"}},\"margin\":{\"t\":80,\"b\":0,\"l\":70,\"r\":40},\"font\":{\"color\":\"#8a8d93\"},\"hoverlabel\":{\"font\":{\"size\":13,\"family\":\"Lato, sans-serif\"},\"bgcolor\":\"black\"},\"hovermode\":\"y unified\",\"height\":400,\"plot_bgcolor\":\"#333\",\"paper_bgcolor\":\"#333\"},                        {\"responsive\": true}                    ).then(function(){\n",
       "                            \n",
       "var gd = document.getElementById('aaf75420-9cd2-4060-af10-aefe067750cd');\n",
       "var x = new MutationObserver(function (mutations, observer) {{\n",
       "        var display = window.getComputedStyle(gd).display;\n",
       "        if (!display || display === 'none') {{\n",
       "            console.log([gd, 'removed!']);\n",
       "            Plotly.purge(gd);\n",
       "            observer.disconnect();\n",
       "        }}\n",
       "}});\n",
       "\n",
       "// Listen for the removal of the full notebook cells\n",
       "var notebookContainer = gd.closest('#notebook-container');\n",
       "if (notebookContainer) {{\n",
       "    x.observe(notebookContainer, {childList: true});\n",
       "}}\n",
       "\n",
       "// Listen for the clearing of the current output cell\n",
       "var outputEl = gd.closest('.output');\n",
       "if (outputEl) {{\n",
       "    x.observe(outputEl, {childList: true});\n",
       "}}\n",
       "\n",
       "                        })                };                });            </script>        </div>"
      ]
     },
     "metadata": {},
     "output_type": "display_data"
    }
   ],
   "source": [
    "fig=px.scatter(video,x=\"Video Title\",y=\"Video Likes Added\",title=\"Top 10 Number of Video Likes Added \",color_discrete_sequence=[\"red\"])\n",
    "fig.update_xaxes(showgrid=False)\n",
    "\n",
    "fig.update_yaxes(showgrid=False, categoryorder='total ascending', ticksuffix=' ', showline=False)\n",
    "\n",
    "fig.update_traces(hovertemplate=None, marker=dict(line=dict(width=0)))\n",
    "\n",
    "fig.update_layout(margin=dict(t=80, b=0, l=70, r=40),hovermode=\"y unified\",\n",
    "                  xaxis_title=' ', yaxis_title=\" \", height=400,plot_bgcolor='#333', paper_bgcolor='#333',\n",
    "title_font=dict(size=25, color='#8a8d93', family=\"Lato, sans-serif\"),\n",
    "font=dict(color='#8a8d93'),\n",
    "                  legend=dict(orientation=\"h\", yanchor=\"bottom\", y=1, xanchor=\"center\", x=0.5),\n",
    "                  hoverlabel=dict(bgcolor=\"black\", font_size=13, font_family=\"Lato, sans-serif\"))\n",
    "                  \n",
    "\n",
    "fig.show()"
   ]
  },
  {
   "cell_type": "markdown",
   "id": "b99132c2",
   "metadata": {
    "papermill": {
     "duration": 0.065379,
     "end_time": "2023-12-19T20:14:40.561454",
     "exception": false,
     "start_time": "2023-12-19T20:14:40.496075",
     "status": "completed"
    },
    "tags": []
   },
   "source": [
    "# Read the Second dataframe Aggregated_Metrics_By_Video:"
   ]
  },
  {
   "cell_type": "markdown",
   "id": "09c88d94",
   "metadata": {
    "papermill": {
     "duration": 0.066371,
     "end_time": "2023-12-19T20:14:40.693740",
     "exception": false,
     "start_time": "2023-12-19T20:14:40.627369",
     "status": "completed"
    },
    "tags": []
   },
   "source": [
    "# print first five rows:"
   ]
  },
  {
   "cell_type": "code",
   "execution_count": 25,
   "id": "e2fbf250",
   "metadata": {
    "execution": {
     "iopub.execute_input": "2023-12-19T20:14:40.849980Z",
     "iopub.status.busy": "2023-12-19T20:14:40.849356Z",
     "iopub.status.idle": "2023-12-19T20:14:40.852770Z",
     "shell.execute_reply": "2023-12-19T20:14:40.852254Z",
     "shell.execute_reply.started": "2022-03-20T04:32:19.154627Z"
    },
    "papermill": {
     "duration": 0.093867,
     "end_time": "2023-12-19T20:14:40.852887",
     "exception": false,
     "start_time": "2023-12-19T20:14:40.759020",
     "status": "completed"
    },
    "tags": []
   },
   "outputs": [
    {
     "data": {
      "text/html": [
       "<style type=\"text/css\">\n",
       "#T_0d7fb_row0_col0, #T_0d7fb_row0_col1, #T_0d7fb_row0_col2, #T_0d7fb_row0_col3, #T_0d7fb_row0_col4, #T_0d7fb_row0_col5, #T_0d7fb_row0_col6, #T_0d7fb_row0_col7, #T_0d7fb_row0_col8, #T_0d7fb_row0_col9, #T_0d7fb_row0_col10, #T_0d7fb_row0_col11, #T_0d7fb_row0_col12, #T_0d7fb_row0_col13, #T_0d7fb_row0_col14, #T_0d7fb_row0_col15, #T_0d7fb_row0_col16, #T_0d7fb_row0_col17, #T_0d7fb_row0_col18, #T_0d7fb_row1_col0, #T_0d7fb_row1_col1, #T_0d7fb_row1_col2, #T_0d7fb_row1_col3, #T_0d7fb_row1_col4, #T_0d7fb_row1_col5, #T_0d7fb_row1_col6, #T_0d7fb_row1_col7, #T_0d7fb_row1_col8, #T_0d7fb_row1_col9, #T_0d7fb_row1_col10, #T_0d7fb_row1_col11, #T_0d7fb_row1_col12, #T_0d7fb_row1_col13, #T_0d7fb_row1_col14, #T_0d7fb_row1_col15, #T_0d7fb_row1_col16, #T_0d7fb_row1_col17, #T_0d7fb_row1_col18, #T_0d7fb_row2_col0, #T_0d7fb_row2_col1, #T_0d7fb_row2_col2, #T_0d7fb_row2_col3, #T_0d7fb_row2_col4, #T_0d7fb_row2_col5, #T_0d7fb_row2_col6, #T_0d7fb_row2_col7, #T_0d7fb_row2_col8, #T_0d7fb_row2_col9, #T_0d7fb_row2_col10, #T_0d7fb_row2_col11, #T_0d7fb_row2_col12, #T_0d7fb_row2_col13, #T_0d7fb_row2_col14, #T_0d7fb_row2_col15, #T_0d7fb_row2_col16, #T_0d7fb_row2_col17, #T_0d7fb_row2_col18, #T_0d7fb_row3_col0, #T_0d7fb_row3_col1, #T_0d7fb_row3_col2, #T_0d7fb_row3_col3, #T_0d7fb_row3_col4, #T_0d7fb_row3_col5, #T_0d7fb_row3_col6, #T_0d7fb_row3_col7, #T_0d7fb_row3_col8, #T_0d7fb_row3_col9, #T_0d7fb_row3_col10, #T_0d7fb_row3_col11, #T_0d7fb_row3_col12, #T_0d7fb_row3_col13, #T_0d7fb_row3_col14, #T_0d7fb_row3_col15, #T_0d7fb_row3_col16, #T_0d7fb_row3_col17, #T_0d7fb_row3_col18, #T_0d7fb_row4_col0, #T_0d7fb_row4_col1, #T_0d7fb_row4_col2, #T_0d7fb_row4_col3, #T_0d7fb_row4_col4, #T_0d7fb_row4_col5, #T_0d7fb_row4_col6, #T_0d7fb_row4_col7, #T_0d7fb_row4_col8, #T_0d7fb_row4_col9, #T_0d7fb_row4_col10, #T_0d7fb_row4_col11, #T_0d7fb_row4_col12, #T_0d7fb_row4_col13, #T_0d7fb_row4_col14, #T_0d7fb_row4_col15, #T_0d7fb_row4_col16, #T_0d7fb_row4_col17, #T_0d7fb_row4_col18 {\n",
       "  background-color: black;\n",
       "  color: red;\n",
       "}\n",
       "</style>\n",
       "<table id=\"T_0d7fb_\">\n",
       "  <thead>\n",
       "    <tr>\n",
       "      <th class=\"blank level0\" >&nbsp;</th>\n",
       "      <th class=\"col_heading level0 col0\" >Video</th>\n",
       "      <th class=\"col_heading level0 col1\" >Video title</th>\n",
       "      <th class=\"col_heading level0 col2\" >Video pub­lish time</th>\n",
       "      <th class=\"col_heading level0 col3\" >Com­ments ad­ded</th>\n",
       "      <th class=\"col_heading level0 col4\" >Shares</th>\n",
       "      <th class=\"col_heading level0 col5\" >Dis­likes</th>\n",
       "      <th class=\"col_heading level0 col6\" >Likes</th>\n",
       "      <th class=\"col_heading level0 col7\" >Sub­scribers lost</th>\n",
       "      <th class=\"col_heading level0 col8\" >Sub­scribers gained</th>\n",
       "      <th class=\"col_heading level0 col9\" >RPM (USD)</th>\n",
       "      <th class=\"col_heading level0 col10\" >CPM (USD)</th>\n",
       "      <th class=\"col_heading level0 col11\" >Av­er­age per­cent­age viewed (%)</th>\n",
       "      <th class=\"col_heading level0 col12\" >Av­er­age view dur­a­tion</th>\n",
       "      <th class=\"col_heading level0 col13\" >Views</th>\n",
       "      <th class=\"col_heading level0 col14\" >Watch time (hours)</th>\n",
       "      <th class=\"col_heading level0 col15\" >Sub­scribers</th>\n",
       "      <th class=\"col_heading level0 col16\" >Your es­tim­ated rev­en­ue (USD)</th>\n",
       "      <th class=\"col_heading level0 col17\" >Im­pres­sions</th>\n",
       "      <th class=\"col_heading level0 col18\" >Im­pres­sions click-through rate (%)</th>\n",
       "    </tr>\n",
       "  </thead>\n",
       "  <tbody>\n",
       "    <tr>\n",
       "      <th id=\"T_0d7fb_level0_row0\" class=\"row_heading level0 row0\" >0</th>\n",
       "      <td id=\"T_0d7fb_row0_col0\" class=\"data row0 col0\" >Total</td>\n",
       "      <td id=\"T_0d7fb_row0_col1\" class=\"data row0 col1\" >nan</td>\n",
       "      <td id=\"T_0d7fb_row0_col2\" class=\"data row0 col2\" >nan</td>\n",
       "      <td id=\"T_0d7fb_row0_col3\" class=\"data row0 col3\" >14197</td>\n",
       "      <td id=\"T_0d7fb_row0_col4\" class=\"data row0 col4\" >39640</td>\n",
       "      <td id=\"T_0d7fb_row0_col5\" class=\"data row0 col5\" >3902</td>\n",
       "      <td id=\"T_0d7fb_row0_col6\" class=\"data row0 col6\" >225021</td>\n",
       "      <td id=\"T_0d7fb_row0_col7\" class=\"data row0 col7\" >45790</td>\n",
       "      <td id=\"T_0d7fb_row0_col8\" class=\"data row0 col8\" >229241</td>\n",
       "      <td id=\"T_0d7fb_row0_col9\" class=\"data row0 col9\" >5.276000</td>\n",
       "      <td id=\"T_0d7fb_row0_col10\" class=\"data row0 col10\" >11.990000</td>\n",
       "      <td id=\"T_0d7fb_row0_col11\" class=\"data row0 col11\" >26.610000</td>\n",
       "      <td id=\"T_0d7fb_row0_col12\" class=\"data row0 col12\" >0:03:25</td>\n",
       "      <td id=\"T_0d7fb_row0_col13\" class=\"data row0 col13\" >5568487</td>\n",
       "      <td id=\"T_0d7fb_row0_col14\" class=\"data row0 col14\" >317602.353600</td>\n",
       "      <td id=\"T_0d7fb_row0_col15\" class=\"data row0 col15\" >183451</td>\n",
       "      <td id=\"T_0d7fb_row0_col16\" class=\"data row0 col16\" >29068.652000</td>\n",
       "      <td id=\"T_0d7fb_row0_col17\" class=\"data row0 col17\" >100954064</td>\n",
       "      <td id=\"T_0d7fb_row0_col18\" class=\"data row0 col18\" >3.160000</td>\n",
       "    </tr>\n",
       "    <tr>\n",
       "      <th id=\"T_0d7fb_level0_row1\" class=\"row_heading level0 row1\" >1</th>\n",
       "      <td id=\"T_0d7fb_row1_col0\" class=\"data row1 col0\" >4OZip0cgOho</td>\n",
       "      <td id=\"T_0d7fb_row1_col1\" class=\"data row1 col1\" >How I Would Learn Data Science (If I Had to Start Over)</td>\n",
       "      <td id=\"T_0d7fb_row1_col2\" class=\"data row1 col2\" >May 8, 2020</td>\n",
       "      <td id=\"T_0d7fb_row1_col3\" class=\"data row1 col3\" >907</td>\n",
       "      <td id=\"T_0d7fb_row1_col4\" class=\"data row1 col4\" >9583</td>\n",
       "      <td id=\"T_0d7fb_row1_col5\" class=\"data row1 col5\" >942</td>\n",
       "      <td id=\"T_0d7fb_row1_col6\" class=\"data row1 col6\" >46903</td>\n",
       "      <td id=\"T_0d7fb_row1_col7\" class=\"data row1 col7\" >451</td>\n",
       "      <td id=\"T_0d7fb_row1_col8\" class=\"data row1 col8\" >46904</td>\n",
       "      <td id=\"T_0d7fb_row1_col9\" class=\"data row1 col9\" >6.353000</td>\n",
       "      <td id=\"T_0d7fb_row1_col10\" class=\"data row1 col10\" >12.835000</td>\n",
       "      <td id=\"T_0d7fb_row1_col11\" class=\"data row1 col11\" >36.650000</td>\n",
       "      <td id=\"T_0d7fb_row1_col12\" class=\"data row1 col12\" >0:03:09</td>\n",
       "      <td id=\"T_0d7fb_row1_col13\" class=\"data row1 col13\" >1253559</td>\n",
       "      <td id=\"T_0d7fb_row1_col14\" class=\"data row1 col14\" >65850.704200</td>\n",
       "      <td id=\"T_0d7fb_row1_col15\" class=\"data row1 col15\" >46453</td>\n",
       "      <td id=\"T_0d7fb_row1_col16\" class=\"data row1 col16\" >7959.533000</td>\n",
       "      <td id=\"T_0d7fb_row1_col17\" class=\"data row1 col17\" >26498799</td>\n",
       "      <td id=\"T_0d7fb_row1_col18\" class=\"data row1 col18\" >3.140000</td>\n",
       "    </tr>\n",
       "    <tr>\n",
       "      <th id=\"T_0d7fb_level0_row2\" class=\"row_heading level0 row2\" >2</th>\n",
       "      <td id=\"T_0d7fb_row2_col0\" class=\"data row2 col0\" >78LjdAAw0wA</td>\n",
       "      <td id=\"T_0d7fb_row2_col1\" class=\"data row2 col1\" >100K Channel Update + AMA Stream!</td>\n",
       "      <td id=\"T_0d7fb_row2_col2\" class=\"data row2 col2\" >Nov 12, 2020</td>\n",
       "      <td id=\"T_0d7fb_row2_col3\" class=\"data row2 col3\" >412</td>\n",
       "      <td id=\"T_0d7fb_row2_col4\" class=\"data row2 col4\" >4</td>\n",
       "      <td id=\"T_0d7fb_row2_col5\" class=\"data row2 col5\" >4</td>\n",
       "      <td id=\"T_0d7fb_row2_col6\" class=\"data row2 col6\" >130</td>\n",
       "      <td id=\"T_0d7fb_row2_col7\" class=\"data row2 col7\" >15</td>\n",
       "      <td id=\"T_0d7fb_row2_col8\" class=\"data row2 col8\" >12</td>\n",
       "      <td id=\"T_0d7fb_row2_col9\" class=\"data row2 col9\" >2.668000</td>\n",
       "      <td id=\"T_0d7fb_row2_col10\" class=\"data row2 col10\" >6.259000</td>\n",
       "      <td id=\"T_0d7fb_row2_col11\" class=\"data row2 col11\" >6.260000</td>\n",
       "      <td id=\"T_0d7fb_row2_col12\" class=\"data row2 col12\" >0:05:14</td>\n",
       "      <td id=\"T_0d7fb_row2_col13\" class=\"data row2 col13\" >2291</td>\n",
       "      <td id=\"T_0d7fb_row2_col14\" class=\"data row2 col14\" >200.296600</td>\n",
       "      <td id=\"T_0d7fb_row2_col15\" class=\"data row2 col15\" >-3</td>\n",
       "      <td id=\"T_0d7fb_row2_col16\" class=\"data row2 col16\" >6.113000</td>\n",
       "      <td id=\"T_0d7fb_row2_col17\" class=\"data row2 col17\" >188318</td>\n",
       "      <td id=\"T_0d7fb_row2_col18\" class=\"data row2 col18\" >0.720000</td>\n",
       "    </tr>\n",
       "    <tr>\n",
       "      <th id=\"T_0d7fb_level0_row3\" class=\"row_heading level0 row3\" >3</th>\n",
       "      <td id=\"T_0d7fb_row3_col0\" class=\"data row3 col0\" >hO_YKK_0Qck</td>\n",
       "      <td id=\"T_0d7fb_row3_col1\" class=\"data row3 col1\" >Uber Driver to Machine Learning Engineer in 9 Months! (@Daniel Bourke) - KNN EP. 05</td>\n",
       "      <td id=\"T_0d7fb_row3_col2\" class=\"data row3 col2\" >Jul 16, 2020</td>\n",
       "      <td id=\"T_0d7fb_row3_col3\" class=\"data row3 col3\" >402</td>\n",
       "      <td id=\"T_0d7fb_row3_col4\" class=\"data row3 col4\" >152</td>\n",
       "      <td id=\"T_0d7fb_row3_col5\" class=\"data row3 col5\" >15</td>\n",
       "      <td id=\"T_0d7fb_row3_col6\" class=\"data row3 col6\" >881</td>\n",
       "      <td id=\"T_0d7fb_row3_col7\" class=\"data row3 col7\" >9</td>\n",
       "      <td id=\"T_0d7fb_row3_col8\" class=\"data row3 col8\" >198</td>\n",
       "      <td id=\"T_0d7fb_row3_col9\" class=\"data row3 col9\" >9.516000</td>\n",
       "      <td id=\"T_0d7fb_row3_col10\" class=\"data row3 col10\" >11.695000</td>\n",
       "      <td id=\"T_0d7fb_row3_col11\" class=\"data row3 col11\" >15.120000</td>\n",
       "      <td id=\"T_0d7fb_row3_col12\" class=\"data row3 col12\" >0:10:21</td>\n",
       "      <td id=\"T_0d7fb_row3_col13\" class=\"data row3 col13\" >21350</td>\n",
       "      <td id=\"T_0d7fb_row3_col14\" class=\"data row3 col14\" >3687.338700</td>\n",
       "      <td id=\"T_0d7fb_row3_col15\" class=\"data row3 col15\" >189</td>\n",
       "      <td id=\"T_0d7fb_row3_col16\" class=\"data row3 col16\" >202.963000</td>\n",
       "      <td id=\"T_0d7fb_row3_col17\" class=\"data row3 col17\" >442334</td>\n",
       "      <td id=\"T_0d7fb_row3_col18\" class=\"data row3 col18\" >2.530000</td>\n",
       "    </tr>\n",
       "    <tr>\n",
       "      <th id=\"T_0d7fb_level0_row4\" class=\"row_heading level0 row4\" >4</th>\n",
       "      <td id=\"T_0d7fb_row4_col0\" class=\"data row4 col0\" >uXLnbdHMf8w</td>\n",
       "      <td id=\"T_0d7fb_row4_col1\" class=\"data row4 col1\" >Why I'm Starting Data Science Over Again.</td>\n",
       "      <td id=\"T_0d7fb_row4_col2\" class=\"data row4 col2\" >Aug 29, 2020</td>\n",
       "      <td id=\"T_0d7fb_row4_col3\" class=\"data row4 col3\" >375</td>\n",
       "      <td id=\"T_0d7fb_row4_col4\" class=\"data row4 col4\" >367</td>\n",
       "      <td id=\"T_0d7fb_row4_col5\" class=\"data row4 col5\" >22</td>\n",
       "      <td id=\"T_0d7fb_row4_col6\" class=\"data row4 col6\" >2622</td>\n",
       "      <td id=\"T_0d7fb_row4_col7\" class=\"data row4 col7\" >40</td>\n",
       "      <td id=\"T_0d7fb_row4_col8\" class=\"data row4 col8\" >1957</td>\n",
       "      <td id=\"T_0d7fb_row4_col9\" class=\"data row4 col9\" >3.143000</td>\n",
       "      <td id=\"T_0d7fb_row4_col10\" class=\"data row4 col10\" >7.943000</td>\n",
       "      <td id=\"T_0d7fb_row4_col11\" class=\"data row4 col11\" >33.410000</td>\n",
       "      <td id=\"T_0d7fb_row4_col12\" class=\"data row4 col12\" >0:02:36</td>\n",
       "      <td id=\"T_0d7fb_row4_col13\" class=\"data row4 col13\" >49564</td>\n",
       "      <td id=\"T_0d7fb_row4_col14\" class=\"data row4 col14\" >2148.311000</td>\n",
       "      <td id=\"T_0d7fb_row4_col15\" class=\"data row4 col15\" >1917</td>\n",
       "      <td id=\"T_0d7fb_row4_col16\" class=\"data row4 col16\" >155.779000</td>\n",
       "      <td id=\"T_0d7fb_row4_col17\" class=\"data row4 col17\" >521185</td>\n",
       "      <td id=\"T_0d7fb_row4_col18\" class=\"data row4 col18\" >4.010000</td>\n",
       "    </tr>\n",
       "  </tbody>\n",
       "</table>\n"
      ],
      "text/plain": [
       "<pandas.io.formats.style.Styler at 0x7dd05ce38890>"
      ]
     },
     "execution_count": 25,
     "metadata": {},
     "output_type": "execute_result"
    }
   ],
   "source": [
    "df2.head().style.set_properties(**{\"background-color\":\"black\",\"color\":\"red\"})"
   ]
  },
  {
   "cell_type": "markdown",
   "id": "5c267e34",
   "metadata": {
    "papermill": {
     "duration": 0.065122,
     "end_time": "2023-12-19T20:14:40.983793",
     "exception": false,
     "start_time": "2023-12-19T20:14:40.918671",
     "status": "completed"
    },
    "tags": []
   },
   "source": [
    "# Shape of Second Dataframe:"
   ]
  },
  {
   "cell_type": "code",
   "execution_count": 26,
   "id": "c655f710",
   "metadata": {
    "execution": {
     "iopub.execute_input": "2023-12-19T20:14:41.119176Z",
     "iopub.status.busy": "2023-12-19T20:14:41.118494Z",
     "iopub.status.idle": "2023-12-19T20:14:41.122820Z",
     "shell.execute_reply": "2023-12-19T20:14:41.123288Z",
     "shell.execute_reply.started": "2022-03-20T04:16:14.134177Z"
    },
    "papermill": {
     "duration": 0.073586,
     "end_time": "2023-12-19T20:14:41.123413",
     "exception": false,
     "start_time": "2023-12-19T20:14:41.049827",
     "status": "completed"
    },
    "tags": []
   },
   "outputs": [
    {
     "name": "stdout",
     "output_type": "stream",
     "text": [
      "Number of Rows 224\n",
      "Number of Columns 19\n"
     ]
    }
   ],
   "source": [
    "print(\"Number of Rows\",df2.shape[0])\n",
    "print(\"Number of Columns\",df2.shape[1])"
   ]
  },
  {
   "cell_type": "markdown",
   "id": "1000f667",
   "metadata": {
    "papermill": {
     "duration": 0.065748,
     "end_time": "2023-12-19T20:14:41.254720",
     "exception": false,
     "start_time": "2023-12-19T20:14:41.188972",
     "status": "completed"
    },
    "tags": []
   },
   "source": [
    "# Let's check information about second dataframe:"
   ]
  },
  {
   "cell_type": "code",
   "execution_count": 27,
   "id": "fe915dbf",
   "metadata": {
    "execution": {
     "iopub.execute_input": "2023-12-19T20:14:41.389928Z",
     "iopub.status.busy": "2023-12-19T20:14:41.389220Z",
     "iopub.status.idle": "2023-12-19T20:14:41.399926Z",
     "shell.execute_reply": "2023-12-19T20:14:41.400381Z",
     "shell.execute_reply.started": "2022-03-20T04:16:18.042022Z"
    },
    "papermill": {
     "duration": 0.079306,
     "end_time": "2023-12-19T20:14:41.400527",
     "exception": false,
     "start_time": "2023-12-19T20:14:41.321221",
     "status": "completed"
    },
    "tags": []
   },
   "outputs": [
    {
     "name": "stdout",
     "output_type": "stream",
     "text": [
      "<class 'pandas.core.frame.DataFrame'>\n",
      "RangeIndex: 224 entries, 0 to 223\n",
      "Data columns (total 19 columns):\n",
      " #   Column                                Non-Null Count  Dtype  \n",
      "---  ------                                --------------  -----  \n",
      " 0   Video                                 224 non-null    object \n",
      " 1   Video title                           223 non-null    object \n",
      " 2   Video pub­lish time                   223 non-null    object \n",
      " 3   Com­ments ad­ded                      224 non-null    int64  \n",
      " 4   Shares                                224 non-null    int64  \n",
      " 5   Dis­likes                             224 non-null    int64  \n",
      " 6   Likes                                 224 non-null    int64  \n",
      " 7   Sub­scribers lost                     224 non-null    int64  \n",
      " 8   Sub­scribers gained                   224 non-null    int64  \n",
      " 9   RPM (USD)                             224 non-null    float64\n",
      " 10  CPM (USD)                             222 non-null    float64\n",
      " 11  Av­er­age per­cent­age viewed (%)     224 non-null    float64\n",
      " 12  Av­er­age view dur­a­tion             224 non-null    object \n",
      " 13  Views                                 224 non-null    int64  \n",
      " 14  Watch time (hours)                    224 non-null    float64\n",
      " 15  Sub­scribers                          224 non-null    int64  \n",
      " 16  Your es­tim­ated rev­en­ue (USD)      224 non-null    float64\n",
      " 17  Im­pres­sions                         224 non-null    int64  \n",
      " 18  Im­pres­sions click-through rate (%)  224 non-null    float64\n",
      "dtypes: float64(6), int64(9), object(4)\n",
      "memory usage: 33.4+ KB\n"
     ]
    }
   ],
   "source": [
    "df2.info()"
   ]
  },
  {
   "cell_type": "markdown",
   "id": "420f8a40",
   "metadata": {
    "papermill": {
     "duration": 0.072021,
     "end_time": "2023-12-19T20:14:41.547824",
     "exception": false,
     "start_time": "2023-12-19T20:14:41.475803",
     "status": "completed"
    },
    "tags": []
   },
   "source": [
    "# Describe the second dataframe:"
   ]
  },
  {
   "cell_type": "code",
   "execution_count": 28,
   "id": "b6915c05",
   "metadata": {
    "execution": {
     "iopub.execute_input": "2023-12-19T20:14:41.683378Z",
     "iopub.status.busy": "2023-12-19T20:14:41.682816Z",
     "iopub.status.idle": "2023-12-19T20:14:41.700358Z",
     "shell.execute_reply": "2023-12-19T20:14:41.699849Z",
     "shell.execute_reply.started": "2022-03-20T04:32:30.150271Z"
    },
    "papermill": {
     "duration": 0.087159,
     "end_time": "2023-12-19T20:14:41.700468",
     "exception": false,
     "start_time": "2023-12-19T20:14:41.613309",
     "status": "completed"
    },
    "tags": []
   },
   "outputs": [
    {
     "data": {
      "text/html": [
       "<style type=\"text/css\">\n",
       "#T_2cc10_row0_col0, #T_2cc10_row0_col1, #T_2cc10_row0_col2, #T_2cc10_row0_col3, #T_2cc10_row1_col0, #T_2cc10_row1_col1, #T_2cc10_row1_col2, #T_2cc10_row1_col3, #T_2cc10_row2_col0, #T_2cc10_row2_col1, #T_2cc10_row2_col2, #T_2cc10_row2_col3, #T_2cc10_row3_col0, #T_2cc10_row3_col1, #T_2cc10_row3_col2, #T_2cc10_row3_col3 {\n",
       "  background-color: black;\n",
       "  color: red;\n",
       "}\n",
       "</style>\n",
       "<table id=\"T_2cc10_\">\n",
       "  <thead>\n",
       "    <tr>\n",
       "      <th class=\"blank level0\" >&nbsp;</th>\n",
       "      <th class=\"col_heading level0 col0\" >Video</th>\n",
       "      <th class=\"col_heading level0 col1\" >Video title</th>\n",
       "      <th class=\"col_heading level0 col2\" >Video pub­lish time</th>\n",
       "      <th class=\"col_heading level0 col3\" >Av­er­age view dur­a­tion</th>\n",
       "    </tr>\n",
       "  </thead>\n",
       "  <tbody>\n",
       "    <tr>\n",
       "      <th id=\"T_2cc10_level0_row0\" class=\"row_heading level0 row0\" >count</th>\n",
       "      <td id=\"T_2cc10_row0_col0\" class=\"data row0 col0\" >224</td>\n",
       "      <td id=\"T_2cc10_row0_col1\" class=\"data row0 col1\" >223</td>\n",
       "      <td id=\"T_2cc10_row0_col2\" class=\"data row0 col2\" >223</td>\n",
       "      <td id=\"T_2cc10_row0_col3\" class=\"data row0 col3\" >224</td>\n",
       "    </tr>\n",
       "    <tr>\n",
       "      <th id=\"T_2cc10_level0_row1\" class=\"row_heading level0 row1\" >unique</th>\n",
       "      <td id=\"T_2cc10_row1_col0\" class=\"data row1 col0\" >224</td>\n",
       "      <td id=\"T_2cc10_row1_col1\" class=\"data row1 col1\" >223</td>\n",
       "      <td id=\"T_2cc10_row1_col2\" class=\"data row1 col2\" >222</td>\n",
       "      <td id=\"T_2cc10_row1_col3\" class=\"data row1 col3\" >158</td>\n",
       "    </tr>\n",
       "    <tr>\n",
       "      <th id=\"T_2cc10_level0_row2\" class=\"row_heading level0 row2\" >top</th>\n",
       "      <td id=\"T_2cc10_row2_col0\" class=\"data row2 col0\" >Total</td>\n",
       "      <td id=\"T_2cc10_row2_col1\" class=\"data row2 col1\" >How I Would Learn Data Science (If I Had to Start Over)</td>\n",
       "      <td id=\"T_2cc10_row2_col2\" class=\"data row2 col2\" >Mar 3, 2019</td>\n",
       "      <td id=\"T_2cc10_row2_col3\" class=\"data row2 col3\" >0:03:50</td>\n",
       "    </tr>\n",
       "    <tr>\n",
       "      <th id=\"T_2cc10_level0_row3\" class=\"row_heading level0 row3\" >freq</th>\n",
       "      <td id=\"T_2cc10_row3_col0\" class=\"data row3 col0\" >1</td>\n",
       "      <td id=\"T_2cc10_row3_col1\" class=\"data row3 col1\" >1</td>\n",
       "      <td id=\"T_2cc10_row3_col2\" class=\"data row3 col2\" >2</td>\n",
       "      <td id=\"T_2cc10_row3_col3\" class=\"data row3 col3\" >5</td>\n",
       "    </tr>\n",
       "  </tbody>\n",
       "</table>\n"
      ],
      "text/plain": [
       "<pandas.io.formats.style.Styler at 0x7dd06f29f090>"
      ]
     },
     "execution_count": 28,
     "metadata": {},
     "output_type": "execute_result"
    }
   ],
   "source": [
    "df2.describe(include=\"object\").style.set_properties(**{\"background-color\":\"black\",\"color\":\"red\"})"
   ]
  },
  {
   "cell_type": "markdown",
   "id": "e350c17e",
   "metadata": {
    "papermill": {
     "duration": 0.067093,
     "end_time": "2023-12-19T20:14:41.834041",
     "exception": false,
     "start_time": "2023-12-19T20:14:41.766948",
     "status": "completed"
    },
    "tags": []
   },
   "source": [
    "# Show there is null value or Not:"
   ]
  },
  {
   "cell_type": "code",
   "execution_count": 29,
   "id": "b86cf13e",
   "metadata": {
    "execution": {
     "iopub.execute_input": "2023-12-19T20:14:41.979657Z",
     "iopub.status.busy": "2023-12-19T20:14:41.979053Z",
     "iopub.status.idle": "2023-12-19T20:14:41.981220Z",
     "shell.execute_reply": "2023-12-19T20:14:41.981640Z",
     "shell.execute_reply.started": "2022-03-20T04:16:25.747676Z"
    },
    "papermill": {
     "duration": 0.078653,
     "end_time": "2023-12-19T20:14:41.981778",
     "exception": false,
     "start_time": "2023-12-19T20:14:41.903125",
     "status": "completed"
    },
    "tags": []
   },
   "outputs": [
    {
     "data": {
      "text/plain": [
       "Video                                   0\n",
       "Video title                             1\n",
       "Video pub­lish time                     1\n",
       "Com­ments ad­ded                        0\n",
       "Shares                                  0\n",
       "Dis­likes                               0\n",
       "Likes                                   0\n",
       "Sub­scribers lost                       0\n",
       "Sub­scribers gained                     0\n",
       "RPM (USD)                               0\n",
       "CPM (USD)                               2\n",
       "Av­er­age per­cent­age viewed (%)       0\n",
       "Av­er­age view dur­a­tion               0\n",
       "Views                                   0\n",
       "Watch time (hours)                      0\n",
       "Sub­scribers                            0\n",
       "Your es­tim­ated rev­en­ue (USD)        0\n",
       "Im­pres­sions                           0\n",
       "Im­pres­sions click-through rate (%)    0\n",
       "dtype: int64"
      ]
     },
     "execution_count": 29,
     "metadata": {},
     "output_type": "execute_result"
    }
   ],
   "source": [
    "df2.isnull().sum()"
   ]
  },
  {
   "cell_type": "markdown",
   "id": "dc683215",
   "metadata": {
    "papermill": {
     "duration": 0.066852,
     "end_time": "2023-12-19T20:14:42.115906",
     "exception": false,
     "start_time": "2023-12-19T20:14:42.049054",
     "status": "completed"
    },
    "tags": []
   },
   "source": [
    "# Drop all the null values:"
   ]
  },
  {
   "cell_type": "code",
   "execution_count": 30,
   "id": "36354adb",
   "metadata": {
    "execution": {
     "iopub.execute_input": "2023-12-19T20:14:42.254443Z",
     "iopub.status.busy": "2023-12-19T20:14:42.253868Z",
     "iopub.status.idle": "2023-12-19T20:14:42.259091Z",
     "shell.execute_reply": "2023-12-19T20:14:42.259566Z",
     "shell.execute_reply.started": "2022-03-20T04:16:30.074624Z"
    },
    "papermill": {
     "duration": 0.07581,
     "end_time": "2023-12-19T20:14:42.259718",
     "exception": false,
     "start_time": "2023-12-19T20:14:42.183908",
     "status": "completed"
    },
    "tags": []
   },
   "outputs": [],
   "source": [
    "#Drop null values \n",
    "df2.dropna(inplace=True)"
   ]
  },
  {
   "cell_type": "code",
   "execution_count": 31,
   "id": "6a617fc2",
   "metadata": {
    "execution": {
     "iopub.execute_input": "2023-12-19T20:14:42.397907Z",
     "iopub.status.busy": "2023-12-19T20:14:42.397335Z",
     "iopub.status.idle": "2023-12-19T20:14:42.403334Z",
     "shell.execute_reply": "2023-12-19T20:14:42.403849Z",
     "shell.execute_reply.started": "2022-03-20T04:16:32.859918Z"
    },
    "papermill": {
     "duration": 0.076667,
     "end_time": "2023-12-19T20:14:42.403977",
     "exception": false,
     "start_time": "2023-12-19T20:14:42.327310",
     "status": "completed"
    },
    "tags": []
   },
   "outputs": [
    {
     "data": {
      "text/plain": [
       "Video                                   0\n",
       "Video title                             0\n",
       "Video pub­lish time                     0\n",
       "Com­ments ad­ded                        0\n",
       "Shares                                  0\n",
       "Dis­likes                               0\n",
       "Likes                                   0\n",
       "Sub­scribers lost                       0\n",
       "Sub­scribers gained                     0\n",
       "RPM (USD)                               0\n",
       "CPM (USD)                               0\n",
       "Av­er­age per­cent­age viewed (%)       0\n",
       "Av­er­age view dur­a­tion               0\n",
       "Views                                   0\n",
       "Watch time (hours)                      0\n",
       "Sub­scribers                            0\n",
       "Your es­tim­ated rev­en­ue (USD)        0\n",
       "Im­pres­sions                           0\n",
       "Im­pres­sions click-through rate (%)    0\n",
       "dtype: int64"
      ]
     },
     "execution_count": 31,
     "metadata": {},
     "output_type": "execute_result"
    }
   ],
   "source": [
    "df2.isnull().sum()"
   ]
  },
  {
   "cell_type": "markdown",
   "id": "4d2edf39",
   "metadata": {
    "papermill": {
     "duration": 0.068071,
     "end_time": "2023-12-19T20:14:42.540431",
     "exception": false,
     "start_time": "2023-12-19T20:14:42.472360",
     "status": "completed"
    },
    "tags": []
   },
   "source": [
    "# Convert Video Publish time to Year and Month or Month_name"
   ]
  },
  {
   "cell_type": "code",
   "execution_count": 32,
   "id": "e21340eb",
   "metadata": {
    "execution": {
     "iopub.execute_input": "2023-12-19T20:14:42.679057Z",
     "iopub.status.busy": "2023-12-19T20:14:42.678533Z",
     "iopub.status.idle": "2023-12-19T20:14:42.707567Z",
     "shell.execute_reply": "2023-12-19T20:14:42.707974Z",
     "shell.execute_reply.started": "2022-03-20T04:16:38.36419Z"
    },
    "papermill": {
     "duration": 0.099627,
     "end_time": "2023-12-19T20:14:42.708131",
     "exception": false,
     "start_time": "2023-12-19T20:14:42.608504",
     "status": "completed"
    },
    "tags": []
   },
   "outputs": [],
   "source": [
    "df2[\"Video pub­lish time\"]=pd.to_datetime(df2[\"Video pub­lish time\"])"
   ]
  },
  {
   "cell_type": "code",
   "execution_count": 33,
   "id": "bb68826f",
   "metadata": {
    "execution": {
     "iopub.execute_input": "2023-12-19T20:14:42.845393Z",
     "iopub.status.busy": "2023-12-19T20:14:42.844835Z",
     "iopub.status.idle": "2023-12-19T20:14:42.850746Z",
     "shell.execute_reply": "2023-12-19T20:14:42.851123Z",
     "shell.execute_reply.started": "2022-03-20T04:16:42.63005Z"
    },
    "papermill": {
     "duration": 0.075516,
     "end_time": "2023-12-19T20:14:42.851319",
     "exception": false,
     "start_time": "2023-12-19T20:14:42.775803",
     "status": "completed"
    },
    "tags": []
   },
   "outputs": [],
   "source": [
    "df2[\"Year\"]=df2[\"Video pub­lish time\"].dt.year\n",
    "df2[\"Month\"]=df2[\"Video pub­lish time\"].dt.month\n",
    "df2[\"Month_name\"]=df2[\"Video pub­lish time\"].dt.month_name()"
   ]
  },
  {
   "cell_type": "markdown",
   "id": "9fe8fa70",
   "metadata": {
    "papermill": {
     "duration": 0.067558,
     "end_time": "2023-12-19T20:14:42.986716",
     "exception": false,
     "start_time": "2023-12-19T20:14:42.919158",
     "status": "completed"
    },
    "tags": []
   },
   "source": [
    "# Let's check Unique Years:"
   ]
  },
  {
   "cell_type": "code",
   "execution_count": 34,
   "id": "42e67f0b",
   "metadata": {
    "execution": {
     "iopub.execute_input": "2023-12-19T20:14:43.128597Z",
     "iopub.status.busy": "2023-12-19T20:14:43.128001Z",
     "iopub.status.idle": "2023-12-19T20:14:43.130915Z",
     "shell.execute_reply": "2023-12-19T20:14:43.130497Z",
     "shell.execute_reply.started": "2022-03-20T04:16:47.106626Z"
    },
    "papermill": {
     "duration": 0.075886,
     "end_time": "2023-12-19T20:14:43.131034",
     "exception": false,
     "start_time": "2023-12-19T20:14:43.055148",
     "status": "completed"
    },
    "tags": []
   },
   "outputs": [
    {
     "data": {
      "text/plain": [
       "array([2020, 2021, 2019, 2022, 2018, 2017])"
      ]
     },
     "execution_count": 34,
     "metadata": {},
     "output_type": "execute_result"
    }
   ],
   "source": [
    "df2[\"Year\"].unique()"
   ]
  },
  {
   "cell_type": "markdown",
   "id": "cd312831",
   "metadata": {
    "papermill": {
     "duration": 0.068833,
     "end_time": "2023-12-19T20:14:43.267415",
     "exception": false,
     "start_time": "2023-12-19T20:14:43.198582",
     "status": "completed"
    },
    "tags": []
   },
   "source": [
    "# Let's show Total Views and Likes Dislikes or Sub­scribers Shares"
   ]
  },
  {
   "cell_type": "code",
   "execution_count": 35,
   "id": "b5de8cf1",
   "metadata": {
    "execution": {
     "iopub.execute_input": "2023-12-19T20:14:43.418905Z",
     "iopub.status.busy": "2023-12-19T20:14:43.418372Z",
     "iopub.status.idle": "2023-12-19T20:14:43.422871Z",
     "shell.execute_reply": "2023-12-19T20:14:43.422425Z",
     "shell.execute_reply.started": "2022-03-20T04:16:50.521315Z"
    },
    "papermill": {
     "duration": 0.087053,
     "end_time": "2023-12-19T20:14:43.422984",
     "exception": false,
     "start_time": "2023-12-19T20:14:43.335931",
     "status": "completed"
    },
    "tags": []
   },
   "outputs": [
    {
     "data": {
      "text/html": [
       "<div>                            <div id=\"adaae7f7-a61a-4d09-ad21-6c36c9e10b0d\" class=\"plotly-graph-div\" style=\"height:525px; width:100%;\"></div>            <script type=\"text/javascript\">                require([\"plotly\"], function(Plotly) {                    window.PLOTLYENV=window.PLOTLYENV || {};                                    if (document.getElementById(\"adaae7f7-a61a-4d09-ad21-6c36c9e10b0d\")) {                    Plotly.newPlot(                        \"adaae7f7-a61a-4d09-ad21-6c36c9e10b0d\",                        [{\"cells\":{\"align\":\"left\",\"fill\":{\"color\":\"black\"},\"font\":{\"color\":\"white\",\"size\":12},\"values\":[[\"Views\",\"Likes\",\"Sub­scribers\",\"Shares\",\"Dis­likes\",\"Sub­scribers lost\"],[5564874,224827,127962,39625,3898,2955]]},\"header\":{\"align\":\"left\",\"fill\":{\"color\":\"red\"},\"font\":{\"color\":\"black\",\"size\":12},\"values\":[\"Columns\",\"Total\"]},\"type\":\"table\"}],                        {\"template\":{\"data\":{\"bar\":[{\"error_x\":{\"color\":\"#2a3f5f\"},\"error_y\":{\"color\":\"#2a3f5f\"},\"marker\":{\"line\":{\"color\":\"#E5ECF6\",\"width\":0.5},\"pattern\":{\"fillmode\":\"overlay\",\"size\":10,\"solidity\":0.2}},\"type\":\"bar\"}],\"barpolar\":[{\"marker\":{\"line\":{\"color\":\"#E5ECF6\",\"width\":0.5},\"pattern\":{\"fillmode\":\"overlay\",\"size\":10,\"solidity\":0.2}},\"type\":\"barpolar\"}],\"carpet\":[{\"aaxis\":{\"endlinecolor\":\"#2a3f5f\",\"gridcolor\":\"white\",\"linecolor\":\"white\",\"minorgridcolor\":\"white\",\"startlinecolor\":\"#2a3f5f\"},\"baxis\":{\"endlinecolor\":\"#2a3f5f\",\"gridcolor\":\"white\",\"linecolor\":\"white\",\"minorgridcolor\":\"white\",\"startlinecolor\":\"#2a3f5f\"},\"type\":\"carpet\"}],\"choropleth\":[{\"colorbar\":{\"outlinewidth\":0,\"ticks\":\"\"},\"type\":\"choropleth\"}],\"contour\":[{\"colorbar\":{\"outlinewidth\":0,\"ticks\":\"\"},\"colorscale\":[[0.0,\"#0d0887\"],[0.1111111111111111,\"#46039f\"],[0.2222222222222222,\"#7201a8\"],[0.3333333333333333,\"#9c179e\"],[0.4444444444444444,\"#bd3786\"],[0.5555555555555556,\"#d8576b\"],[0.6666666666666666,\"#ed7953\"],[0.7777777777777778,\"#fb9f3a\"],[0.8888888888888888,\"#fdca26\"],[1.0,\"#f0f921\"]],\"type\":\"contour\"}],\"contourcarpet\":[{\"colorbar\":{\"outlinewidth\":0,\"ticks\":\"\"},\"type\":\"contourcarpet\"}],\"heatmap\":[{\"colorbar\":{\"outlinewidth\":0,\"ticks\":\"\"},\"colorscale\":[[0.0,\"#0d0887\"],[0.1111111111111111,\"#46039f\"],[0.2222222222222222,\"#7201a8\"],[0.3333333333333333,\"#9c179e\"],[0.4444444444444444,\"#bd3786\"],[0.5555555555555556,\"#d8576b\"],[0.6666666666666666,\"#ed7953\"],[0.7777777777777778,\"#fb9f3a\"],[0.8888888888888888,\"#fdca26\"],[1.0,\"#f0f921\"]],\"type\":\"heatmap\"}],\"heatmapgl\":[{\"colorbar\":{\"outlinewidth\":0,\"ticks\":\"\"},\"colorscale\":[[0.0,\"#0d0887\"],[0.1111111111111111,\"#46039f\"],[0.2222222222222222,\"#7201a8\"],[0.3333333333333333,\"#9c179e\"],[0.4444444444444444,\"#bd3786\"],[0.5555555555555556,\"#d8576b\"],[0.6666666666666666,\"#ed7953\"],[0.7777777777777778,\"#fb9f3a\"],[0.8888888888888888,\"#fdca26\"],[1.0,\"#f0f921\"]],\"type\":\"heatmapgl\"}],\"histogram\":[{\"marker\":{\"pattern\":{\"fillmode\":\"overlay\",\"size\":10,\"solidity\":0.2}},\"type\":\"histogram\"}],\"histogram2d\":[{\"colorbar\":{\"outlinewidth\":0,\"ticks\":\"\"},\"colorscale\":[[0.0,\"#0d0887\"],[0.1111111111111111,\"#46039f\"],[0.2222222222222222,\"#7201a8\"],[0.3333333333333333,\"#9c179e\"],[0.4444444444444444,\"#bd3786\"],[0.5555555555555556,\"#d8576b\"],[0.6666666666666666,\"#ed7953\"],[0.7777777777777778,\"#fb9f3a\"],[0.8888888888888888,\"#fdca26\"],[1.0,\"#f0f921\"]],\"type\":\"histogram2d\"}],\"histogram2dcontour\":[{\"colorbar\":{\"outlinewidth\":0,\"ticks\":\"\"},\"colorscale\":[[0.0,\"#0d0887\"],[0.1111111111111111,\"#46039f\"],[0.2222222222222222,\"#7201a8\"],[0.3333333333333333,\"#9c179e\"],[0.4444444444444444,\"#bd3786\"],[0.5555555555555556,\"#d8576b\"],[0.6666666666666666,\"#ed7953\"],[0.7777777777777778,\"#fb9f3a\"],[0.8888888888888888,\"#fdca26\"],[1.0,\"#f0f921\"]],\"type\":\"histogram2dcontour\"}],\"mesh3d\":[{\"colorbar\":{\"outlinewidth\":0,\"ticks\":\"\"},\"type\":\"mesh3d\"}],\"parcoords\":[{\"line\":{\"colorbar\":{\"outlinewidth\":0,\"ticks\":\"\"}},\"type\":\"parcoords\"}],\"pie\":[{\"automargin\":true,\"type\":\"pie\"}],\"scatter\":[{\"marker\":{\"colorbar\":{\"outlinewidth\":0,\"ticks\":\"\"}},\"type\":\"scatter\"}],\"scatter3d\":[{\"line\":{\"colorbar\":{\"outlinewidth\":0,\"ticks\":\"\"}},\"marker\":{\"colorbar\":{\"outlinewidth\":0,\"ticks\":\"\"}},\"type\":\"scatter3d\"}],\"scattercarpet\":[{\"marker\":{\"colorbar\":{\"outlinewidth\":0,\"ticks\":\"\"}},\"type\":\"scattercarpet\"}],\"scattergeo\":[{\"marker\":{\"colorbar\":{\"outlinewidth\":0,\"ticks\":\"\"}},\"type\":\"scattergeo\"}],\"scattergl\":[{\"marker\":{\"colorbar\":{\"outlinewidth\":0,\"ticks\":\"\"}},\"type\":\"scattergl\"}],\"scattermapbox\":[{\"marker\":{\"colorbar\":{\"outlinewidth\":0,\"ticks\":\"\"}},\"type\":\"scattermapbox\"}],\"scatterpolar\":[{\"marker\":{\"colorbar\":{\"outlinewidth\":0,\"ticks\":\"\"}},\"type\":\"scatterpolar\"}],\"scatterpolargl\":[{\"marker\":{\"colorbar\":{\"outlinewidth\":0,\"ticks\":\"\"}},\"type\":\"scatterpolargl\"}],\"scatterternary\":[{\"marker\":{\"colorbar\":{\"outlinewidth\":0,\"ticks\":\"\"}},\"type\":\"scatterternary\"}],\"surface\":[{\"colorbar\":{\"outlinewidth\":0,\"ticks\":\"\"},\"colorscale\":[[0.0,\"#0d0887\"],[0.1111111111111111,\"#46039f\"],[0.2222222222222222,\"#7201a8\"],[0.3333333333333333,\"#9c179e\"],[0.4444444444444444,\"#bd3786\"],[0.5555555555555556,\"#d8576b\"],[0.6666666666666666,\"#ed7953\"],[0.7777777777777778,\"#fb9f3a\"],[0.8888888888888888,\"#fdca26\"],[1.0,\"#f0f921\"]],\"type\":\"surface\"}],\"table\":[{\"cells\":{\"fill\":{\"color\":\"#EBF0F8\"},\"line\":{\"color\":\"white\"}},\"header\":{\"fill\":{\"color\":\"#C8D4E3\"},\"line\":{\"color\":\"white\"}},\"type\":\"table\"}]},\"layout\":{\"annotationdefaults\":{\"arrowcolor\":\"#2a3f5f\",\"arrowhead\":0,\"arrowwidth\":1},\"autotypenumbers\":\"strict\",\"coloraxis\":{\"colorbar\":{\"outlinewidth\":0,\"ticks\":\"\"}},\"colorscale\":{\"diverging\":[[0,\"#8e0152\"],[0.1,\"#c51b7d\"],[0.2,\"#de77ae\"],[0.3,\"#f1b6da\"],[0.4,\"#fde0ef\"],[0.5,\"#f7f7f7\"],[0.6,\"#e6f5d0\"],[0.7,\"#b8e186\"],[0.8,\"#7fbc41\"],[0.9,\"#4d9221\"],[1,\"#276419\"]],\"sequential\":[[0.0,\"#0d0887\"],[0.1111111111111111,\"#46039f\"],[0.2222222222222222,\"#7201a8\"],[0.3333333333333333,\"#9c179e\"],[0.4444444444444444,\"#bd3786\"],[0.5555555555555556,\"#d8576b\"],[0.6666666666666666,\"#ed7953\"],[0.7777777777777778,\"#fb9f3a\"],[0.8888888888888888,\"#fdca26\"],[1.0,\"#f0f921\"]],\"sequentialminus\":[[0.0,\"#0d0887\"],[0.1111111111111111,\"#46039f\"],[0.2222222222222222,\"#7201a8\"],[0.3333333333333333,\"#9c179e\"],[0.4444444444444444,\"#bd3786\"],[0.5555555555555556,\"#d8576b\"],[0.6666666666666666,\"#ed7953\"],[0.7777777777777778,\"#fb9f3a\"],[0.8888888888888888,\"#fdca26\"],[1.0,\"#f0f921\"]]},\"colorway\":[\"#636efa\",\"#EF553B\",\"#00cc96\",\"#ab63fa\",\"#FFA15A\",\"#19d3f3\",\"#FF6692\",\"#B6E880\",\"#FF97FF\",\"#FECB52\"],\"font\":{\"color\":\"#2a3f5f\"},\"geo\":{\"bgcolor\":\"white\",\"lakecolor\":\"white\",\"landcolor\":\"#E5ECF6\",\"showlakes\":true,\"showland\":true,\"subunitcolor\":\"white\"},\"hoverlabel\":{\"align\":\"left\"},\"hovermode\":\"closest\",\"mapbox\":{\"style\":\"light\"},\"paper_bgcolor\":\"white\",\"plot_bgcolor\":\"#E5ECF6\",\"polar\":{\"angularaxis\":{\"gridcolor\":\"white\",\"linecolor\":\"white\",\"ticks\":\"\"},\"bgcolor\":\"#E5ECF6\",\"radialaxis\":{\"gridcolor\":\"white\",\"linecolor\":\"white\",\"ticks\":\"\"}},\"scene\":{\"xaxis\":{\"backgroundcolor\":\"#E5ECF6\",\"gridcolor\":\"white\",\"gridwidth\":2,\"linecolor\":\"white\",\"showbackground\":true,\"ticks\":\"\",\"zerolinecolor\":\"white\"},\"yaxis\":{\"backgroundcolor\":\"#E5ECF6\",\"gridcolor\":\"white\",\"gridwidth\":2,\"linecolor\":\"white\",\"showbackground\":true,\"ticks\":\"\",\"zerolinecolor\":\"white\"},\"zaxis\":{\"backgroundcolor\":\"#E5ECF6\",\"gridcolor\":\"white\",\"gridwidth\":2,\"linecolor\":\"white\",\"showbackground\":true,\"ticks\":\"\",\"zerolinecolor\":\"white\"}},\"shapedefaults\":{\"line\":{\"color\":\"#2a3f5f\"}},\"ternary\":{\"aaxis\":{\"gridcolor\":\"white\",\"linecolor\":\"white\",\"ticks\":\"\"},\"baxis\":{\"gridcolor\":\"white\",\"linecolor\":\"white\",\"ticks\":\"\"},\"bgcolor\":\"#E5ECF6\",\"caxis\":{\"gridcolor\":\"white\",\"linecolor\":\"white\",\"ticks\":\"\"}},\"title\":{\"x\":0.05},\"xaxis\":{\"automargin\":true,\"gridcolor\":\"white\",\"linecolor\":\"white\",\"ticks\":\"\",\"title\":{\"standoff\":15},\"zerolinecolor\":\"white\",\"zerolinewidth\":2},\"yaxis\":{\"automargin\":true,\"gridcolor\":\"white\",\"linecolor\":\"white\",\"ticks\":\"\",\"title\":{\"standoff\":15},\"zerolinecolor\":\"white\",\"zerolinewidth\":2}}}},                        {\"responsive\": true}                    ).then(function(){\n",
       "                            \n",
       "var gd = document.getElementById('adaae7f7-a61a-4d09-ad21-6c36c9e10b0d');\n",
       "var x = new MutationObserver(function (mutations, observer) {{\n",
       "        var display = window.getComputedStyle(gd).display;\n",
       "        if (!display || display === 'none') {{\n",
       "            console.log([gd, 'removed!']);\n",
       "            Plotly.purge(gd);\n",
       "            observer.disconnect();\n",
       "        }}\n",
       "}});\n",
       "\n",
       "// Listen for the removal of the full notebook cells\n",
       "var notebookContainer = gd.closest('#notebook-container');\n",
       "if (notebookContainer) {{\n",
       "    x.observe(notebookContainer, {childList: true});\n",
       "}}\n",
       "\n",
       "// Listen for the clearing of the current output cell\n",
       "var outputEl = gd.closest('.output');\n",
       "if (outputEl) {{\n",
       "    x.observe(outputEl, {childList: true});\n",
       "}}\n",
       "\n",
       "                        })                };                });            </script>        </div>"
      ]
     },
     "metadata": {},
     "output_type": "display_data"
    }
   ],
   "source": [
    "total=pd.DataFrame(df2[[\"Views\",\"Likes\",\"Dis­likes\",\"Sub­scribers\",\"Shares\",\"Sub­scribers lost\"]].sum().reset_index().sort_values(by=0,ascending=False).rename(columns={\"index\":\"Columns\",0:\"Total\"}))\n",
    "\n",
    "c=total[\"Columns\"]\n",
    "t=total[\"Total\"]\n",
    "\n",
    "\n",
    "go_fig = go.Figure()\n",
    "\n",
    "obj = go.Table(\n",
    "    header = dict(values=[\"Columns\", \"Total\"],\n",
    "                 fill_color = 'red',\n",
    "                 align = 'left',\n",
    "                 font=dict(color=\"black\", size = 12)),\n",
    "    cells = dict(values=[c, t],\n",
    "                 fill_color = 'black',\n",
    "                 align = 'left', \n",
    "                 font=dict(color=\"white\", size = 12)))\n",
    "go_fig.add_trace(obj)\n",
    "go_fig.show()"
   ]
  },
  {
   "cell_type": "markdown",
   "id": "28e06ee0",
   "metadata": {
    "papermill": {
     "duration": 0.070316,
     "end_time": "2023-12-19T20:14:43.562187",
     "exception": false,
     "start_time": "2023-12-19T20:14:43.491871",
     "status": "completed"
    },
    "tags": []
   },
   "source": [
    "# Let's show Views and Sub­scribers according to Years:"
   ]
  },
  {
   "cell_type": "code",
   "execution_count": 36,
   "id": "5fb01a26",
   "metadata": {
    "execution": {
     "iopub.execute_input": "2023-12-19T20:14:43.709695Z",
     "iopub.status.busy": "2023-12-19T20:14:43.709045Z",
     "iopub.status.idle": "2023-12-19T20:14:43.802455Z",
     "shell.execute_reply": "2023-12-19T20:14:43.801859Z",
     "shell.execute_reply.started": "2022-03-20T04:16:56.451398Z"
    },
    "papermill": {
     "duration": 0.170084,
     "end_time": "2023-12-19T20:14:43.802584",
     "exception": false,
     "start_time": "2023-12-19T20:14:43.632500",
     "status": "completed"
    },
    "tags": []
   },
   "outputs": [
    {
     "data": {
      "text/html": [
       "<div>                            <div id=\"1835f7be-bcf2-468d-b7a7-fe6bce301982\" class=\"plotly-graph-div\" style=\"height:525px; width:100%;\"></div>            <script type=\"text/javascript\">                require([\"plotly\"], function(Plotly) {                    window.PLOTLYENV=window.PLOTLYENV || {};                                    if (document.getElementById(\"1835f7be-bcf2-468d-b7a7-fe6bce301982\")) {                    Plotly.newPlot(                        \"1835f7be-bcf2-468d-b7a7-fe6bce301982\",                        [{\"marker\":{\"color\":\"rgb(100,500,500)\",\"line\":{\"color\":\"rgb(200,210,220)\",\"width\":1.2}},\"x\":[2020,2021,2019,2018,2022,2017],\"y\":[3917380,812074,740592,49401,28869,16558],\"type\":\"bar\"}],                        {\"template\":{\"data\":{\"barpolar\":[{\"marker\":{\"line\":{\"color\":\"rgb(17,17,17)\",\"width\":0.5},\"pattern\":{\"fillmode\":\"overlay\",\"size\":10,\"solidity\":0.2}},\"type\":\"barpolar\"}],\"bar\":[{\"error_x\":{\"color\":\"#f2f5fa\"},\"error_y\":{\"color\":\"#f2f5fa\"},\"marker\":{\"line\":{\"color\":\"rgb(17,17,17)\",\"width\":0.5},\"pattern\":{\"fillmode\":\"overlay\",\"size\":10,\"solidity\":0.2}},\"type\":\"bar\"}],\"carpet\":[{\"aaxis\":{\"endlinecolor\":\"#A2B1C6\",\"gridcolor\":\"#506784\",\"linecolor\":\"#506784\",\"minorgridcolor\":\"#506784\",\"startlinecolor\":\"#A2B1C6\"},\"baxis\":{\"endlinecolor\":\"#A2B1C6\",\"gridcolor\":\"#506784\",\"linecolor\":\"#506784\",\"minorgridcolor\":\"#506784\",\"startlinecolor\":\"#A2B1C6\"},\"type\":\"carpet\"}],\"choropleth\":[{\"colorbar\":{\"outlinewidth\":0,\"ticks\":\"\"},\"type\":\"choropleth\"}],\"contourcarpet\":[{\"colorbar\":{\"outlinewidth\":0,\"ticks\":\"\"},\"type\":\"contourcarpet\"}],\"contour\":[{\"colorbar\":{\"outlinewidth\":0,\"ticks\":\"\"},\"colorscale\":[[0.0,\"#0d0887\"],[0.1111111111111111,\"#46039f\"],[0.2222222222222222,\"#7201a8\"],[0.3333333333333333,\"#9c179e\"],[0.4444444444444444,\"#bd3786\"],[0.5555555555555556,\"#d8576b\"],[0.6666666666666666,\"#ed7953\"],[0.7777777777777778,\"#fb9f3a\"],[0.8888888888888888,\"#fdca26\"],[1.0,\"#f0f921\"]],\"type\":\"contour\"}],\"heatmapgl\":[{\"colorbar\":{\"outlinewidth\":0,\"ticks\":\"\"},\"colorscale\":[[0.0,\"#0d0887\"],[0.1111111111111111,\"#46039f\"],[0.2222222222222222,\"#7201a8\"],[0.3333333333333333,\"#9c179e\"],[0.4444444444444444,\"#bd3786\"],[0.5555555555555556,\"#d8576b\"],[0.6666666666666666,\"#ed7953\"],[0.7777777777777778,\"#fb9f3a\"],[0.8888888888888888,\"#fdca26\"],[1.0,\"#f0f921\"]],\"type\":\"heatmapgl\"}],\"heatmap\":[{\"colorbar\":{\"outlinewidth\":0,\"ticks\":\"\"},\"colorscale\":[[0.0,\"#0d0887\"],[0.1111111111111111,\"#46039f\"],[0.2222222222222222,\"#7201a8\"],[0.3333333333333333,\"#9c179e\"],[0.4444444444444444,\"#bd3786\"],[0.5555555555555556,\"#d8576b\"],[0.6666666666666666,\"#ed7953\"],[0.7777777777777778,\"#fb9f3a\"],[0.8888888888888888,\"#fdca26\"],[1.0,\"#f0f921\"]],\"type\":\"heatmap\"}],\"histogram2dcontour\":[{\"colorbar\":{\"outlinewidth\":0,\"ticks\":\"\"},\"colorscale\":[[0.0,\"#0d0887\"],[0.1111111111111111,\"#46039f\"],[0.2222222222222222,\"#7201a8\"],[0.3333333333333333,\"#9c179e\"],[0.4444444444444444,\"#bd3786\"],[0.5555555555555556,\"#d8576b\"],[0.6666666666666666,\"#ed7953\"],[0.7777777777777778,\"#fb9f3a\"],[0.8888888888888888,\"#fdca26\"],[1.0,\"#f0f921\"]],\"type\":\"histogram2dcontour\"}],\"histogram2d\":[{\"colorbar\":{\"outlinewidth\":0,\"ticks\":\"\"},\"colorscale\":[[0.0,\"#0d0887\"],[0.1111111111111111,\"#46039f\"],[0.2222222222222222,\"#7201a8\"],[0.3333333333333333,\"#9c179e\"],[0.4444444444444444,\"#bd3786\"],[0.5555555555555556,\"#d8576b\"],[0.6666666666666666,\"#ed7953\"],[0.7777777777777778,\"#fb9f3a\"],[0.8888888888888888,\"#fdca26\"],[1.0,\"#f0f921\"]],\"type\":\"histogram2d\"}],\"histogram\":[{\"marker\":{\"pattern\":{\"fillmode\":\"overlay\",\"size\":10,\"solidity\":0.2}},\"type\":\"histogram\"}],\"mesh3d\":[{\"colorbar\":{\"outlinewidth\":0,\"ticks\":\"\"},\"type\":\"mesh3d\"}],\"parcoords\":[{\"line\":{\"colorbar\":{\"outlinewidth\":0,\"ticks\":\"\"}},\"type\":\"parcoords\"}],\"pie\":[{\"automargin\":true,\"type\":\"pie\"}],\"scatter3d\":[{\"line\":{\"colorbar\":{\"outlinewidth\":0,\"ticks\":\"\"}},\"marker\":{\"colorbar\":{\"outlinewidth\":0,\"ticks\":\"\"}},\"type\":\"scatter3d\"}],\"scattercarpet\":[{\"marker\":{\"colorbar\":{\"outlinewidth\":0,\"ticks\":\"\"}},\"type\":\"scattercarpet\"}],\"scattergeo\":[{\"marker\":{\"colorbar\":{\"outlinewidth\":0,\"ticks\":\"\"}},\"type\":\"scattergeo\"}],\"scattergl\":[{\"marker\":{\"line\":{\"color\":\"#283442\"}},\"type\":\"scattergl\"}],\"scattermapbox\":[{\"marker\":{\"colorbar\":{\"outlinewidth\":0,\"ticks\":\"\"}},\"type\":\"scattermapbox\"}],\"scatterpolargl\":[{\"marker\":{\"colorbar\":{\"outlinewidth\":0,\"ticks\":\"\"}},\"type\":\"scatterpolargl\"}],\"scatterpolar\":[{\"marker\":{\"colorbar\":{\"outlinewidth\":0,\"ticks\":\"\"}},\"type\":\"scatterpolar\"}],\"scatter\":[{\"marker\":{\"line\":{\"color\":\"#283442\"}},\"type\":\"scatter\"}],\"scatterternary\":[{\"marker\":{\"colorbar\":{\"outlinewidth\":0,\"ticks\":\"\"}},\"type\":\"scatterternary\"}],\"surface\":[{\"colorbar\":{\"outlinewidth\":0,\"ticks\":\"\"},\"colorscale\":[[0.0,\"#0d0887\"],[0.1111111111111111,\"#46039f\"],[0.2222222222222222,\"#7201a8\"],[0.3333333333333333,\"#9c179e\"],[0.4444444444444444,\"#bd3786\"],[0.5555555555555556,\"#d8576b\"],[0.6666666666666666,\"#ed7953\"],[0.7777777777777778,\"#fb9f3a\"],[0.8888888888888888,\"#fdca26\"],[1.0,\"#f0f921\"]],\"type\":\"surface\"}],\"table\":[{\"cells\":{\"fill\":{\"color\":\"#506784\"},\"line\":{\"color\":\"rgb(17,17,17)\"}},\"header\":{\"fill\":{\"color\":\"#2a3f5f\"},\"line\":{\"color\":\"rgb(17,17,17)\"}},\"type\":\"table\"}]},\"layout\":{\"annotationdefaults\":{\"arrowcolor\":\"#f2f5fa\",\"arrowhead\":0,\"arrowwidth\":1},\"autotypenumbers\":\"strict\",\"coloraxis\":{\"colorbar\":{\"outlinewidth\":0,\"ticks\":\"\"}},\"colorscale\":{\"diverging\":[[0,\"#8e0152\"],[0.1,\"#c51b7d\"],[0.2,\"#de77ae\"],[0.3,\"#f1b6da\"],[0.4,\"#fde0ef\"],[0.5,\"#f7f7f7\"],[0.6,\"#e6f5d0\"],[0.7,\"#b8e186\"],[0.8,\"#7fbc41\"],[0.9,\"#4d9221\"],[1,\"#276419\"]],\"sequential\":[[0.0,\"#0d0887\"],[0.1111111111111111,\"#46039f\"],[0.2222222222222222,\"#7201a8\"],[0.3333333333333333,\"#9c179e\"],[0.4444444444444444,\"#bd3786\"],[0.5555555555555556,\"#d8576b\"],[0.6666666666666666,\"#ed7953\"],[0.7777777777777778,\"#fb9f3a\"],[0.8888888888888888,\"#fdca26\"],[1.0,\"#f0f921\"]],\"sequentialminus\":[[0.0,\"#0d0887\"],[0.1111111111111111,\"#46039f\"],[0.2222222222222222,\"#7201a8\"],[0.3333333333333333,\"#9c179e\"],[0.4444444444444444,\"#bd3786\"],[0.5555555555555556,\"#d8576b\"],[0.6666666666666666,\"#ed7953\"],[0.7777777777777778,\"#fb9f3a\"],[0.8888888888888888,\"#fdca26\"],[1.0,\"#f0f921\"]]},\"colorway\":[\"#636efa\",\"#EF553B\",\"#00cc96\",\"#ab63fa\",\"#FFA15A\",\"#19d3f3\",\"#FF6692\",\"#B6E880\",\"#FF97FF\",\"#FECB52\"],\"font\":{\"color\":\"#f2f5fa\"},\"geo\":{\"bgcolor\":\"rgb(17,17,17)\",\"lakecolor\":\"rgb(17,17,17)\",\"landcolor\":\"rgb(17,17,17)\",\"showlakes\":true,\"showland\":true,\"subunitcolor\":\"#506784\"},\"hoverlabel\":{\"align\":\"left\"},\"hovermode\":\"closest\",\"mapbox\":{\"style\":\"dark\"},\"paper_bgcolor\":\"rgb(17,17,17)\",\"plot_bgcolor\":\"rgb(17,17,17)\",\"polar\":{\"angularaxis\":{\"gridcolor\":\"#506784\",\"linecolor\":\"#506784\",\"ticks\":\"\"},\"bgcolor\":\"rgb(17,17,17)\",\"radialaxis\":{\"gridcolor\":\"#506784\",\"linecolor\":\"#506784\",\"ticks\":\"\"}},\"scene\":{\"xaxis\":{\"backgroundcolor\":\"rgb(17,17,17)\",\"gridcolor\":\"#506784\",\"gridwidth\":2,\"linecolor\":\"#506784\",\"showbackground\":true,\"ticks\":\"\",\"zerolinecolor\":\"#C8D4E3\"},\"yaxis\":{\"backgroundcolor\":\"rgb(17,17,17)\",\"gridcolor\":\"#506784\",\"gridwidth\":2,\"linecolor\":\"#506784\",\"showbackground\":true,\"ticks\":\"\",\"zerolinecolor\":\"#C8D4E3\"},\"zaxis\":{\"backgroundcolor\":\"rgb(17,17,17)\",\"gridcolor\":\"#506784\",\"gridwidth\":2,\"linecolor\":\"#506784\",\"showbackground\":true,\"ticks\":\"\",\"zerolinecolor\":\"#C8D4E3\"}},\"shapedefaults\":{\"line\":{\"color\":\"#f2f5fa\"}},\"sliderdefaults\":{\"bgcolor\":\"#C8D4E3\",\"bordercolor\":\"rgb(17,17,17)\",\"borderwidth\":1,\"tickwidth\":0},\"ternary\":{\"aaxis\":{\"gridcolor\":\"#506784\",\"linecolor\":\"#506784\",\"ticks\":\"\"},\"baxis\":{\"gridcolor\":\"#506784\",\"linecolor\":\"#506784\",\"ticks\":\"\"},\"bgcolor\":\"rgb(17,17,17)\",\"caxis\":{\"gridcolor\":\"#506784\",\"linecolor\":\"#506784\",\"ticks\":\"\"}},\"title\":{\"x\":0.05},\"updatemenudefaults\":{\"bgcolor\":\"#506784\",\"borderwidth\":0},\"xaxis\":{\"automargin\":true,\"gridcolor\":\"#283442\",\"linecolor\":\"#506784\",\"ticks\":\"\",\"title\":{\"standoff\":15},\"zerolinecolor\":\"#283442\",\"zerolinewidth\":2},\"yaxis\":{\"automargin\":true,\"gridcolor\":\"#283442\",\"linecolor\":\"#506784\",\"ticks\":\"\",\"title\":{\"standoff\":15},\"zerolinecolor\":\"#283442\",\"zerolinewidth\":2}}},\"title\":{\"text\":\"Which Year is Most Views on Youtube :\"},\"xaxis\":{\"tickangle\":45,\"title\":{\"text\":\"Year\"}},\"yaxis\":{\"title\":{\"text\":\"Views\"}}},                        {\"responsive\": true}                    ).then(function(){\n",
       "                            \n",
       "var gd = document.getElementById('1835f7be-bcf2-468d-b7a7-fe6bce301982');\n",
       "var x = new MutationObserver(function (mutations, observer) {{\n",
       "        var display = window.getComputedStyle(gd).display;\n",
       "        if (!display || display === 'none') {{\n",
       "            console.log([gd, 'removed!']);\n",
       "            Plotly.purge(gd);\n",
       "            observer.disconnect();\n",
       "        }}\n",
       "}});\n",
       "\n",
       "// Listen for the removal of the full notebook cells\n",
       "var notebookContainer = gd.closest('#notebook-container');\n",
       "if (notebookContainer) {{\n",
       "    x.observe(notebookContainer, {childList: true});\n",
       "}}\n",
       "\n",
       "// Listen for the clearing of the current output cell\n",
       "var outputEl = gd.closest('.output');\n",
       "if (outputEl) {{\n",
       "    x.observe(outputEl, {childList: true});\n",
       "}}\n",
       "\n",
       "                        })                };                });            </script>        </div>"
      ]
     },
     "metadata": {},
     "output_type": "display_data"
    },
    {
     "data": {
      "text/html": [
       "<div>                            <div id=\"8c8a5a8f-8842-454b-af61-9951245a4595\" class=\"plotly-graph-div\" style=\"height:525px; width:100%;\"></div>            <script type=\"text/javascript\">                require([\"plotly\"], function(Plotly) {                    window.PLOTLYENV=window.PLOTLYENV || {};                                    if (document.getElementById(\"8c8a5a8f-8842-454b-af61-9951245a4595\")) {                    Plotly.newPlot(                        \"8c8a5a8f-8842-454b-af61-9951245a4595\",                        [{\"marker\":{\"color\":\"rgb(450,450,400)\",\"line\":{\"color\":\"rgb(200,210,220)\",\"width\":1.2}},\"x\":[2020,2019,2021,2018,2022,2017],\"y\":[103644,12595,11032,401,180,110],\"type\":\"bar\"}],                        {\"template\":{\"data\":{\"barpolar\":[{\"marker\":{\"line\":{\"color\":\"rgb(17,17,17)\",\"width\":0.5},\"pattern\":{\"fillmode\":\"overlay\",\"size\":10,\"solidity\":0.2}},\"type\":\"barpolar\"}],\"bar\":[{\"error_x\":{\"color\":\"#f2f5fa\"},\"error_y\":{\"color\":\"#f2f5fa\"},\"marker\":{\"line\":{\"color\":\"rgb(17,17,17)\",\"width\":0.5},\"pattern\":{\"fillmode\":\"overlay\",\"size\":10,\"solidity\":0.2}},\"type\":\"bar\"}],\"carpet\":[{\"aaxis\":{\"endlinecolor\":\"#A2B1C6\",\"gridcolor\":\"#506784\",\"linecolor\":\"#506784\",\"minorgridcolor\":\"#506784\",\"startlinecolor\":\"#A2B1C6\"},\"baxis\":{\"endlinecolor\":\"#A2B1C6\",\"gridcolor\":\"#506784\",\"linecolor\":\"#506784\",\"minorgridcolor\":\"#506784\",\"startlinecolor\":\"#A2B1C6\"},\"type\":\"carpet\"}],\"choropleth\":[{\"colorbar\":{\"outlinewidth\":0,\"ticks\":\"\"},\"type\":\"choropleth\"}],\"contourcarpet\":[{\"colorbar\":{\"outlinewidth\":0,\"ticks\":\"\"},\"type\":\"contourcarpet\"}],\"contour\":[{\"colorbar\":{\"outlinewidth\":0,\"ticks\":\"\"},\"colorscale\":[[0.0,\"#0d0887\"],[0.1111111111111111,\"#46039f\"],[0.2222222222222222,\"#7201a8\"],[0.3333333333333333,\"#9c179e\"],[0.4444444444444444,\"#bd3786\"],[0.5555555555555556,\"#d8576b\"],[0.6666666666666666,\"#ed7953\"],[0.7777777777777778,\"#fb9f3a\"],[0.8888888888888888,\"#fdca26\"],[1.0,\"#f0f921\"]],\"type\":\"contour\"}],\"heatmapgl\":[{\"colorbar\":{\"outlinewidth\":0,\"ticks\":\"\"},\"colorscale\":[[0.0,\"#0d0887\"],[0.1111111111111111,\"#46039f\"],[0.2222222222222222,\"#7201a8\"],[0.3333333333333333,\"#9c179e\"],[0.4444444444444444,\"#bd3786\"],[0.5555555555555556,\"#d8576b\"],[0.6666666666666666,\"#ed7953\"],[0.7777777777777778,\"#fb9f3a\"],[0.8888888888888888,\"#fdca26\"],[1.0,\"#f0f921\"]],\"type\":\"heatmapgl\"}],\"heatmap\":[{\"colorbar\":{\"outlinewidth\":0,\"ticks\":\"\"},\"colorscale\":[[0.0,\"#0d0887\"],[0.1111111111111111,\"#46039f\"],[0.2222222222222222,\"#7201a8\"],[0.3333333333333333,\"#9c179e\"],[0.4444444444444444,\"#bd3786\"],[0.5555555555555556,\"#d8576b\"],[0.6666666666666666,\"#ed7953\"],[0.7777777777777778,\"#fb9f3a\"],[0.8888888888888888,\"#fdca26\"],[1.0,\"#f0f921\"]],\"type\":\"heatmap\"}],\"histogram2dcontour\":[{\"colorbar\":{\"outlinewidth\":0,\"ticks\":\"\"},\"colorscale\":[[0.0,\"#0d0887\"],[0.1111111111111111,\"#46039f\"],[0.2222222222222222,\"#7201a8\"],[0.3333333333333333,\"#9c179e\"],[0.4444444444444444,\"#bd3786\"],[0.5555555555555556,\"#d8576b\"],[0.6666666666666666,\"#ed7953\"],[0.7777777777777778,\"#fb9f3a\"],[0.8888888888888888,\"#fdca26\"],[1.0,\"#f0f921\"]],\"type\":\"histogram2dcontour\"}],\"histogram2d\":[{\"colorbar\":{\"outlinewidth\":0,\"ticks\":\"\"},\"colorscale\":[[0.0,\"#0d0887\"],[0.1111111111111111,\"#46039f\"],[0.2222222222222222,\"#7201a8\"],[0.3333333333333333,\"#9c179e\"],[0.4444444444444444,\"#bd3786\"],[0.5555555555555556,\"#d8576b\"],[0.6666666666666666,\"#ed7953\"],[0.7777777777777778,\"#fb9f3a\"],[0.8888888888888888,\"#fdca26\"],[1.0,\"#f0f921\"]],\"type\":\"histogram2d\"}],\"histogram\":[{\"marker\":{\"pattern\":{\"fillmode\":\"overlay\",\"size\":10,\"solidity\":0.2}},\"type\":\"histogram\"}],\"mesh3d\":[{\"colorbar\":{\"outlinewidth\":0,\"ticks\":\"\"},\"type\":\"mesh3d\"}],\"parcoords\":[{\"line\":{\"colorbar\":{\"outlinewidth\":0,\"ticks\":\"\"}},\"type\":\"parcoords\"}],\"pie\":[{\"automargin\":true,\"type\":\"pie\"}],\"scatter3d\":[{\"line\":{\"colorbar\":{\"outlinewidth\":0,\"ticks\":\"\"}},\"marker\":{\"colorbar\":{\"outlinewidth\":0,\"ticks\":\"\"}},\"type\":\"scatter3d\"}],\"scattercarpet\":[{\"marker\":{\"colorbar\":{\"outlinewidth\":0,\"ticks\":\"\"}},\"type\":\"scattercarpet\"}],\"scattergeo\":[{\"marker\":{\"colorbar\":{\"outlinewidth\":0,\"ticks\":\"\"}},\"type\":\"scattergeo\"}],\"scattergl\":[{\"marker\":{\"line\":{\"color\":\"#283442\"}},\"type\":\"scattergl\"}],\"scattermapbox\":[{\"marker\":{\"colorbar\":{\"outlinewidth\":0,\"ticks\":\"\"}},\"type\":\"scattermapbox\"}],\"scatterpolargl\":[{\"marker\":{\"colorbar\":{\"outlinewidth\":0,\"ticks\":\"\"}},\"type\":\"scatterpolargl\"}],\"scatterpolar\":[{\"marker\":{\"colorbar\":{\"outlinewidth\":0,\"ticks\":\"\"}},\"type\":\"scatterpolar\"}],\"scatter\":[{\"marker\":{\"line\":{\"color\":\"#283442\"}},\"type\":\"scatter\"}],\"scatterternary\":[{\"marker\":{\"colorbar\":{\"outlinewidth\":0,\"ticks\":\"\"}},\"type\":\"scatterternary\"}],\"surface\":[{\"colorbar\":{\"outlinewidth\":0,\"ticks\":\"\"},\"colorscale\":[[0.0,\"#0d0887\"],[0.1111111111111111,\"#46039f\"],[0.2222222222222222,\"#7201a8\"],[0.3333333333333333,\"#9c179e\"],[0.4444444444444444,\"#bd3786\"],[0.5555555555555556,\"#d8576b\"],[0.6666666666666666,\"#ed7953\"],[0.7777777777777778,\"#fb9f3a\"],[0.8888888888888888,\"#fdca26\"],[1.0,\"#f0f921\"]],\"type\":\"surface\"}],\"table\":[{\"cells\":{\"fill\":{\"color\":\"#506784\"},\"line\":{\"color\":\"rgb(17,17,17)\"}},\"header\":{\"fill\":{\"color\":\"#2a3f5f\"},\"line\":{\"color\":\"rgb(17,17,17)\"}},\"type\":\"table\"}]},\"layout\":{\"annotationdefaults\":{\"arrowcolor\":\"#f2f5fa\",\"arrowhead\":0,\"arrowwidth\":1},\"autotypenumbers\":\"strict\",\"coloraxis\":{\"colorbar\":{\"outlinewidth\":0,\"ticks\":\"\"}},\"colorscale\":{\"diverging\":[[0,\"#8e0152\"],[0.1,\"#c51b7d\"],[0.2,\"#de77ae\"],[0.3,\"#f1b6da\"],[0.4,\"#fde0ef\"],[0.5,\"#f7f7f7\"],[0.6,\"#e6f5d0\"],[0.7,\"#b8e186\"],[0.8,\"#7fbc41\"],[0.9,\"#4d9221\"],[1,\"#276419\"]],\"sequential\":[[0.0,\"#0d0887\"],[0.1111111111111111,\"#46039f\"],[0.2222222222222222,\"#7201a8\"],[0.3333333333333333,\"#9c179e\"],[0.4444444444444444,\"#bd3786\"],[0.5555555555555556,\"#d8576b\"],[0.6666666666666666,\"#ed7953\"],[0.7777777777777778,\"#fb9f3a\"],[0.8888888888888888,\"#fdca26\"],[1.0,\"#f0f921\"]],\"sequentialminus\":[[0.0,\"#0d0887\"],[0.1111111111111111,\"#46039f\"],[0.2222222222222222,\"#7201a8\"],[0.3333333333333333,\"#9c179e\"],[0.4444444444444444,\"#bd3786\"],[0.5555555555555556,\"#d8576b\"],[0.6666666666666666,\"#ed7953\"],[0.7777777777777778,\"#fb9f3a\"],[0.8888888888888888,\"#fdca26\"],[1.0,\"#f0f921\"]]},\"colorway\":[\"#636efa\",\"#EF553B\",\"#00cc96\",\"#ab63fa\",\"#FFA15A\",\"#19d3f3\",\"#FF6692\",\"#B6E880\",\"#FF97FF\",\"#FECB52\"],\"font\":{\"color\":\"#f2f5fa\"},\"geo\":{\"bgcolor\":\"rgb(17,17,17)\",\"lakecolor\":\"rgb(17,17,17)\",\"landcolor\":\"rgb(17,17,17)\",\"showlakes\":true,\"showland\":true,\"subunitcolor\":\"#506784\"},\"hoverlabel\":{\"align\":\"left\"},\"hovermode\":\"closest\",\"mapbox\":{\"style\":\"dark\"},\"paper_bgcolor\":\"rgb(17,17,17)\",\"plot_bgcolor\":\"rgb(17,17,17)\",\"polar\":{\"angularaxis\":{\"gridcolor\":\"#506784\",\"linecolor\":\"#506784\",\"ticks\":\"\"},\"bgcolor\":\"rgb(17,17,17)\",\"radialaxis\":{\"gridcolor\":\"#506784\",\"linecolor\":\"#506784\",\"ticks\":\"\"}},\"scene\":{\"xaxis\":{\"backgroundcolor\":\"rgb(17,17,17)\",\"gridcolor\":\"#506784\",\"gridwidth\":2,\"linecolor\":\"#506784\",\"showbackground\":true,\"ticks\":\"\",\"zerolinecolor\":\"#C8D4E3\"},\"yaxis\":{\"backgroundcolor\":\"rgb(17,17,17)\",\"gridcolor\":\"#506784\",\"gridwidth\":2,\"linecolor\":\"#506784\",\"showbackground\":true,\"ticks\":\"\",\"zerolinecolor\":\"#C8D4E3\"},\"zaxis\":{\"backgroundcolor\":\"rgb(17,17,17)\",\"gridcolor\":\"#506784\",\"gridwidth\":2,\"linecolor\":\"#506784\",\"showbackground\":true,\"ticks\":\"\",\"zerolinecolor\":\"#C8D4E3\"}},\"shapedefaults\":{\"line\":{\"color\":\"#f2f5fa\"}},\"sliderdefaults\":{\"bgcolor\":\"#C8D4E3\",\"bordercolor\":\"rgb(17,17,17)\",\"borderwidth\":1,\"tickwidth\":0},\"ternary\":{\"aaxis\":{\"gridcolor\":\"#506784\",\"linecolor\":\"#506784\",\"ticks\":\"\"},\"baxis\":{\"gridcolor\":\"#506784\",\"linecolor\":\"#506784\",\"ticks\":\"\"},\"bgcolor\":\"rgb(17,17,17)\",\"caxis\":{\"gridcolor\":\"#506784\",\"linecolor\":\"#506784\",\"ticks\":\"\"}},\"title\":{\"x\":0.05},\"updatemenudefaults\":{\"bgcolor\":\"#506784\",\"borderwidth\":0},\"xaxis\":{\"automargin\":true,\"gridcolor\":\"#283442\",\"linecolor\":\"#506784\",\"ticks\":\"\",\"title\":{\"standoff\":15},\"zerolinecolor\":\"#283442\",\"zerolinewidth\":2},\"yaxis\":{\"automargin\":true,\"gridcolor\":\"#283442\",\"linecolor\":\"#506784\",\"ticks\":\"\",\"title\":{\"standoff\":15},\"zerolinecolor\":\"#283442\",\"zerolinewidth\":2}}},\"title\":{\"text\":\"Which Year is Most Subcribers on Youtube :\"},\"xaxis\":{\"tickangle\":45,\"title\":{\"text\":\"Year\"}},\"yaxis\":{\"title\":{\"text\":\"Subscribers\"}}},                        {\"responsive\": true}                    ).then(function(){\n",
       "                            \n",
       "var gd = document.getElementById('8c8a5a8f-8842-454b-af61-9951245a4595');\n",
       "var x = new MutationObserver(function (mutations, observer) {{\n",
       "        var display = window.getComputedStyle(gd).display;\n",
       "        if (!display || display === 'none') {{\n",
       "            console.log([gd, 'removed!']);\n",
       "            Plotly.purge(gd);\n",
       "            observer.disconnect();\n",
       "        }}\n",
       "}});\n",
       "\n",
       "// Listen for the removal of the full notebook cells\n",
       "var notebookContainer = gd.closest('#notebook-container');\n",
       "if (notebookContainer) {{\n",
       "    x.observe(notebookContainer, {childList: true});\n",
       "}}\n",
       "\n",
       "// Listen for the clearing of the current output cell\n",
       "var outputEl = gd.closest('.output');\n",
       "if (outputEl) {{\n",
       "    x.observe(outputEl, {childList: true});\n",
       "}}\n",
       "\n",
       "                        })                };                });            </script>        </div>"
      ]
     },
     "metadata": {},
     "output_type": "display_data"
    }
   ],
   "source": [
    "year=df2.groupby([\"Year\"])[\"Views\"].sum().sort_values(ascending=False).reset_index()\n",
    "subs=df2.groupby([\"Year\"])[\"Sub­scribers\"].sum().sort_values(ascending=False).reset_index()\n",
    "\n",
    "\n",
    "trace=go.Bar(\n",
    "x=year[\"Year\"],\n",
    "y=year[\"Views\"],\n",
    "marker=dict(color=\"rgb(100,500,500)\",\n",
    "            line=dict(color=\"rgb(200,210,220)\",width=1.2)))\n",
    "\n",
    "\n",
    "\n",
    "layout=go.Layout(template=\"plotly_dark\",title=\"Which Year is Most Views on Youtube :\",xaxis=dict(title=\"Year\",tickangle=45),yaxis=dict(title=\"Views\"))\n",
    "fig=go.Figure(data=[trace],layout=layout)\n",
    "fig.show()\n",
    "\n",
    "\n",
    "\n",
    "\n",
    "trace=go.Bar(\n",
    "x=subs[\"Year\"],\n",
    "y=subs[\"Sub­scribers\"],\n",
    "marker=dict(color=\"rgb(450,450,400)\",\n",
    "            line=dict(color=\"rgb(200,210,220)\",width=1.2)))\n",
    "\n",
    "\n",
    "\n",
    "layout=go.Layout(template=\"plotly_dark\",title=\"Which Year is Most Subcribers on Youtube :\",xaxis=dict(title=\"Year\",tickangle=45),yaxis=dict(title=\"Subscribers\"))\n",
    "fig=go.Figure(data=[trace],layout=layout)\n",
    "fig.show()\n"
   ]
  },
  {
   "cell_type": "markdown",
   "id": "a8ef1f2e",
   "metadata": {
    "papermill": {
     "duration": 0.070195,
     "end_time": "2023-12-19T20:14:43.942795",
     "exception": false,
     "start_time": "2023-12-19T20:14:43.872600",
     "status": "completed"
    },
    "tags": []
   },
   "source": [
    "# Show the which year is Most likes:"
   ]
  },
  {
   "cell_type": "code",
   "execution_count": 37,
   "id": "7435eb87",
   "metadata": {
    "execution": {
     "iopub.execute_input": "2023-12-19T20:14:44.092176Z",
     "iopub.status.busy": "2023-12-19T20:14:44.091599Z",
     "iopub.status.idle": "2023-12-19T20:14:44.158278Z",
     "shell.execute_reply": "2023-12-19T20:14:44.157834Z",
     "shell.execute_reply.started": "2022-03-20T04:17:02.049809Z"
    },
    "papermill": {
     "duration": 0.145169,
     "end_time": "2023-12-19T20:14:44.158396",
     "exception": false,
     "start_time": "2023-12-19T20:14:44.013227",
     "status": "completed"
    },
    "tags": []
   },
   "outputs": [
    {
     "data": {
      "text/html": [
       "<div>                            <div id=\"24dd80d9-b1a5-49f1-ad30-6f0fb538632a\" class=\"plotly-graph-div\" style=\"height:400px; width:100%;\"></div>            <script type=\"text/javascript\">                require([\"plotly\"], function(Plotly) {                    window.PLOTLYENV=window.PLOTLYENV || {};                                    if (document.getElementById(\"24dd80d9-b1a5-49f1-ad30-6f0fb538632a\")) {                    Plotly.newPlot(                        \"24dd80d9-b1a5-49f1-ad30-6f0fb538632a\",                        [{\"alignmentgroup\":\"True\",\"legendgroup\":\"\",\"marker\":{\"color\":\"maroon\",\"pattern\":{\"shape\":\"\"},\"line\":{\"width\":0}},\"name\":\"\",\"offsetgroup\":\"\",\"orientation\":\"v\",\"showlegend\":false,\"textposition\":\"auto\",\"x\":[2020,2021,2019,2022,2018,2017],\"xaxis\":\"x\",\"y\":[162131,32470,27241,1659,1079,247],\"yaxis\":\"y\",\"type\":\"bar\"}],                        {\"template\":{\"data\":{\"bar\":[{\"error_x\":{\"color\":\"#2a3f5f\"},\"error_y\":{\"color\":\"#2a3f5f\"},\"marker\":{\"line\":{\"color\":\"#E5ECF6\",\"width\":0.5},\"pattern\":{\"fillmode\":\"overlay\",\"size\":10,\"solidity\":0.2}},\"type\":\"bar\"}],\"barpolar\":[{\"marker\":{\"line\":{\"color\":\"#E5ECF6\",\"width\":0.5},\"pattern\":{\"fillmode\":\"overlay\",\"size\":10,\"solidity\":0.2}},\"type\":\"barpolar\"}],\"carpet\":[{\"aaxis\":{\"endlinecolor\":\"#2a3f5f\",\"gridcolor\":\"white\",\"linecolor\":\"white\",\"minorgridcolor\":\"white\",\"startlinecolor\":\"#2a3f5f\"},\"baxis\":{\"endlinecolor\":\"#2a3f5f\",\"gridcolor\":\"white\",\"linecolor\":\"white\",\"minorgridcolor\":\"white\",\"startlinecolor\":\"#2a3f5f\"},\"type\":\"carpet\"}],\"choropleth\":[{\"colorbar\":{\"outlinewidth\":0,\"ticks\":\"\"},\"type\":\"choropleth\"}],\"contour\":[{\"colorbar\":{\"outlinewidth\":0,\"ticks\":\"\"},\"colorscale\":[[0.0,\"#0d0887\"],[0.1111111111111111,\"#46039f\"],[0.2222222222222222,\"#7201a8\"],[0.3333333333333333,\"#9c179e\"],[0.4444444444444444,\"#bd3786\"],[0.5555555555555556,\"#d8576b\"],[0.6666666666666666,\"#ed7953\"],[0.7777777777777778,\"#fb9f3a\"],[0.8888888888888888,\"#fdca26\"],[1.0,\"#f0f921\"]],\"type\":\"contour\"}],\"contourcarpet\":[{\"colorbar\":{\"outlinewidth\":0,\"ticks\":\"\"},\"type\":\"contourcarpet\"}],\"heatmap\":[{\"colorbar\":{\"outlinewidth\":0,\"ticks\":\"\"},\"colorscale\":[[0.0,\"#0d0887\"],[0.1111111111111111,\"#46039f\"],[0.2222222222222222,\"#7201a8\"],[0.3333333333333333,\"#9c179e\"],[0.4444444444444444,\"#bd3786\"],[0.5555555555555556,\"#d8576b\"],[0.6666666666666666,\"#ed7953\"],[0.7777777777777778,\"#fb9f3a\"],[0.8888888888888888,\"#fdca26\"],[1.0,\"#f0f921\"]],\"type\":\"heatmap\"}],\"heatmapgl\":[{\"colorbar\":{\"outlinewidth\":0,\"ticks\":\"\"},\"colorscale\":[[0.0,\"#0d0887\"],[0.1111111111111111,\"#46039f\"],[0.2222222222222222,\"#7201a8\"],[0.3333333333333333,\"#9c179e\"],[0.4444444444444444,\"#bd3786\"],[0.5555555555555556,\"#d8576b\"],[0.6666666666666666,\"#ed7953\"],[0.7777777777777778,\"#fb9f3a\"],[0.8888888888888888,\"#fdca26\"],[1.0,\"#f0f921\"]],\"type\":\"heatmapgl\"}],\"histogram\":[{\"marker\":{\"pattern\":{\"fillmode\":\"overlay\",\"size\":10,\"solidity\":0.2}},\"type\":\"histogram\"}],\"histogram2d\":[{\"colorbar\":{\"outlinewidth\":0,\"ticks\":\"\"},\"colorscale\":[[0.0,\"#0d0887\"],[0.1111111111111111,\"#46039f\"],[0.2222222222222222,\"#7201a8\"],[0.3333333333333333,\"#9c179e\"],[0.4444444444444444,\"#bd3786\"],[0.5555555555555556,\"#d8576b\"],[0.6666666666666666,\"#ed7953\"],[0.7777777777777778,\"#fb9f3a\"],[0.8888888888888888,\"#fdca26\"],[1.0,\"#f0f921\"]],\"type\":\"histogram2d\"}],\"histogram2dcontour\":[{\"colorbar\":{\"outlinewidth\":0,\"ticks\":\"\"},\"colorscale\":[[0.0,\"#0d0887\"],[0.1111111111111111,\"#46039f\"],[0.2222222222222222,\"#7201a8\"],[0.3333333333333333,\"#9c179e\"],[0.4444444444444444,\"#bd3786\"],[0.5555555555555556,\"#d8576b\"],[0.6666666666666666,\"#ed7953\"],[0.7777777777777778,\"#fb9f3a\"],[0.8888888888888888,\"#fdca26\"],[1.0,\"#f0f921\"]],\"type\":\"histogram2dcontour\"}],\"mesh3d\":[{\"colorbar\":{\"outlinewidth\":0,\"ticks\":\"\"},\"type\":\"mesh3d\"}],\"parcoords\":[{\"line\":{\"colorbar\":{\"outlinewidth\":0,\"ticks\":\"\"}},\"type\":\"parcoords\"}],\"pie\":[{\"automargin\":true,\"type\":\"pie\"}],\"scatter\":[{\"marker\":{\"colorbar\":{\"outlinewidth\":0,\"ticks\":\"\"}},\"type\":\"scatter\"}],\"scatter3d\":[{\"line\":{\"colorbar\":{\"outlinewidth\":0,\"ticks\":\"\"}},\"marker\":{\"colorbar\":{\"outlinewidth\":0,\"ticks\":\"\"}},\"type\":\"scatter3d\"}],\"scattercarpet\":[{\"marker\":{\"colorbar\":{\"outlinewidth\":0,\"ticks\":\"\"}},\"type\":\"scattercarpet\"}],\"scattergeo\":[{\"marker\":{\"colorbar\":{\"outlinewidth\":0,\"ticks\":\"\"}},\"type\":\"scattergeo\"}],\"scattergl\":[{\"marker\":{\"colorbar\":{\"outlinewidth\":0,\"ticks\":\"\"}},\"type\":\"scattergl\"}],\"scattermapbox\":[{\"marker\":{\"colorbar\":{\"outlinewidth\":0,\"ticks\":\"\"}},\"type\":\"scattermapbox\"}],\"scatterpolar\":[{\"marker\":{\"colorbar\":{\"outlinewidth\":0,\"ticks\":\"\"}},\"type\":\"scatterpolar\"}],\"scatterpolargl\":[{\"marker\":{\"colorbar\":{\"outlinewidth\":0,\"ticks\":\"\"}},\"type\":\"scatterpolargl\"}],\"scatterternary\":[{\"marker\":{\"colorbar\":{\"outlinewidth\":0,\"ticks\":\"\"}},\"type\":\"scatterternary\"}],\"surface\":[{\"colorbar\":{\"outlinewidth\":0,\"ticks\":\"\"},\"colorscale\":[[0.0,\"#0d0887\"],[0.1111111111111111,\"#46039f\"],[0.2222222222222222,\"#7201a8\"],[0.3333333333333333,\"#9c179e\"],[0.4444444444444444,\"#bd3786\"],[0.5555555555555556,\"#d8576b\"],[0.6666666666666666,\"#ed7953\"],[0.7777777777777778,\"#fb9f3a\"],[0.8888888888888888,\"#fdca26\"],[1.0,\"#f0f921\"]],\"type\":\"surface\"}],\"table\":[{\"cells\":{\"fill\":{\"color\":\"#EBF0F8\"},\"line\":{\"color\":\"white\"}},\"header\":{\"fill\":{\"color\":\"#C8D4E3\"},\"line\":{\"color\":\"white\"}},\"type\":\"table\"}]},\"layout\":{\"annotationdefaults\":{\"arrowcolor\":\"#2a3f5f\",\"arrowhead\":0,\"arrowwidth\":1},\"autotypenumbers\":\"strict\",\"coloraxis\":{\"colorbar\":{\"outlinewidth\":0,\"ticks\":\"\"}},\"colorscale\":{\"diverging\":[[0,\"#8e0152\"],[0.1,\"#c51b7d\"],[0.2,\"#de77ae\"],[0.3,\"#f1b6da\"],[0.4,\"#fde0ef\"],[0.5,\"#f7f7f7\"],[0.6,\"#e6f5d0\"],[0.7,\"#b8e186\"],[0.8,\"#7fbc41\"],[0.9,\"#4d9221\"],[1,\"#276419\"]],\"sequential\":[[0.0,\"#0d0887\"],[0.1111111111111111,\"#46039f\"],[0.2222222222222222,\"#7201a8\"],[0.3333333333333333,\"#9c179e\"],[0.4444444444444444,\"#bd3786\"],[0.5555555555555556,\"#d8576b\"],[0.6666666666666666,\"#ed7953\"],[0.7777777777777778,\"#fb9f3a\"],[0.8888888888888888,\"#fdca26\"],[1.0,\"#f0f921\"]],\"sequentialminus\":[[0.0,\"#0d0887\"],[0.1111111111111111,\"#46039f\"],[0.2222222222222222,\"#7201a8\"],[0.3333333333333333,\"#9c179e\"],[0.4444444444444444,\"#bd3786\"],[0.5555555555555556,\"#d8576b\"],[0.6666666666666666,\"#ed7953\"],[0.7777777777777778,\"#fb9f3a\"],[0.8888888888888888,\"#fdca26\"],[1.0,\"#f0f921\"]]},\"colorway\":[\"#636efa\",\"#EF553B\",\"#00cc96\",\"#ab63fa\",\"#FFA15A\",\"#19d3f3\",\"#FF6692\",\"#B6E880\",\"#FF97FF\",\"#FECB52\"],\"font\":{\"color\":\"#2a3f5f\"},\"geo\":{\"bgcolor\":\"white\",\"lakecolor\":\"white\",\"landcolor\":\"#E5ECF6\",\"showlakes\":true,\"showland\":true,\"subunitcolor\":\"white\"},\"hoverlabel\":{\"align\":\"left\"},\"hovermode\":\"closest\",\"mapbox\":{\"style\":\"light\"},\"paper_bgcolor\":\"white\",\"plot_bgcolor\":\"#E5ECF6\",\"polar\":{\"angularaxis\":{\"gridcolor\":\"white\",\"linecolor\":\"white\",\"ticks\":\"\"},\"bgcolor\":\"#E5ECF6\",\"radialaxis\":{\"gridcolor\":\"white\",\"linecolor\":\"white\",\"ticks\":\"\"}},\"scene\":{\"xaxis\":{\"backgroundcolor\":\"#E5ECF6\",\"gridcolor\":\"white\",\"gridwidth\":2,\"linecolor\":\"white\",\"showbackground\":true,\"ticks\":\"\",\"zerolinecolor\":\"white\"},\"yaxis\":{\"backgroundcolor\":\"#E5ECF6\",\"gridcolor\":\"white\",\"gridwidth\":2,\"linecolor\":\"white\",\"showbackground\":true,\"ticks\":\"\",\"zerolinecolor\":\"white\"},\"zaxis\":{\"backgroundcolor\":\"#E5ECF6\",\"gridcolor\":\"white\",\"gridwidth\":2,\"linecolor\":\"white\",\"showbackground\":true,\"ticks\":\"\",\"zerolinecolor\":\"white\"}},\"shapedefaults\":{\"line\":{\"color\":\"#2a3f5f\"}},\"ternary\":{\"aaxis\":{\"gridcolor\":\"white\",\"linecolor\":\"white\",\"ticks\":\"\"},\"baxis\":{\"gridcolor\":\"white\",\"linecolor\":\"white\",\"ticks\":\"\"},\"bgcolor\":\"#E5ECF6\",\"caxis\":{\"gridcolor\":\"white\",\"linecolor\":\"white\",\"ticks\":\"\"}},\"title\":{\"x\":0.05},\"xaxis\":{\"automargin\":true,\"gridcolor\":\"white\",\"linecolor\":\"white\",\"ticks\":\"\",\"title\":{\"standoff\":15},\"zerolinecolor\":\"white\",\"zerolinewidth\":2},\"yaxis\":{\"automargin\":true,\"gridcolor\":\"white\",\"linecolor\":\"white\",\"ticks\":\"\",\"title\":{\"standoff\":15},\"zerolinecolor\":\"white\",\"zerolinewidth\":2}}},\"xaxis\":{\"anchor\":\"y\",\"domain\":[0.0,1.0],\"title\":{\"text\":\"Year\"},\"showgrid\":false},\"yaxis\":{\"anchor\":\"x\",\"domain\":[0.0,1.0],\"title\":{\"text\":\"Likes\"},\"showgrid\":false,\"categoryorder\":\"total ascending\",\"ticksuffix\":\" \",\"showline\":false},\"legend\":{\"tracegroupgap\":0,\"orientation\":\"h\",\"yanchor\":\"bottom\",\"y\":1,\"xanchor\":\"center\",\"x\":0.5},\"title\":{\"text\":\"Number of Likes Vs Year\",\"font\":{\"size\":25,\"color\":\"#8a8d93\",\"family\":\"Lato, sans-serif\"}},\"barmode\":\"relative\",\"margin\":{\"t\":80,\"b\":0,\"l\":70,\"r\":40},\"font\":{\"color\":\"#8a8d93\"},\"hoverlabel\":{\"font\":{\"size\":13,\"family\":\"Lato, sans-serif\"},\"bgcolor\":\"black\"},\"hovermode\":\"y unified\",\"height\":400,\"plot_bgcolor\":\"#333\",\"paper_bgcolor\":\"#333\"},                        {\"responsive\": true}                    ).then(function(){\n",
       "                            \n",
       "var gd = document.getElementById('24dd80d9-b1a5-49f1-ad30-6f0fb538632a');\n",
       "var x = new MutationObserver(function (mutations, observer) {{\n",
       "        var display = window.getComputedStyle(gd).display;\n",
       "        if (!display || display === 'none') {{\n",
       "            console.log([gd, 'removed!']);\n",
       "            Plotly.purge(gd);\n",
       "            observer.disconnect();\n",
       "        }}\n",
       "}});\n",
       "\n",
       "// Listen for the removal of the full notebook cells\n",
       "var notebookContainer = gd.closest('#notebook-container');\n",
       "if (notebookContainer) {{\n",
       "    x.observe(notebookContainer, {childList: true});\n",
       "}}\n",
       "\n",
       "// Listen for the clearing of the current output cell\n",
       "var outputEl = gd.closest('.output');\n",
       "if (outputEl) {{\n",
       "    x.observe(outputEl, {childList: true});\n",
       "}}\n",
       "\n",
       "                        })                };                });            </script>        </div>"
      ]
     },
     "metadata": {},
     "output_type": "display_data"
    }
   ],
   "source": [
    "likes=df2.groupby([\"Year\"])[\"Likes\"].sum().sort_values(ascending=False).reset_index()\n",
    "\n",
    "fig=px.bar(likes,x=\"Year\",y=\"Likes\",title=\"Number of Likes Vs Year\",color_discrete_sequence=[\"maroon\"])\n",
    "\n",
    "fig.update_xaxes(showgrid=False)\n",
    "\n",
    "fig.update_yaxes(showgrid=False, categoryorder='total ascending', ticksuffix=' ', showline=False)\n",
    "\n",
    "fig.update_traces(hovertemplate=None, marker=dict(line=dict(width=0)))\n",
    "\n",
    "fig.update_layout(margin=dict(t=80, b=0, l=70, r=40),hovermode=\"y unified\",\n",
    "                  xaxis_title='Year', yaxis_title=\"Likes\", height=400,plot_bgcolor='#333', paper_bgcolor='#333',\n",
    "title_font=dict(size=25, color='#8a8d93', family=\"Lato, sans-serif\"),\n",
    "font=dict(color='#8a8d93'),\n",
    "                  legend=dict(orientation=\"h\", yanchor=\"bottom\", y=1, xanchor=\"center\", x=0.5),\n",
    "                  hoverlabel=dict(bgcolor=\"black\", font_size=13, font_family=\"Lato, sans-serif\"))\n",
    "                  \n",
    "\n",
    "fig.show()"
   ]
  },
  {
   "cell_type": "markdown",
   "id": "92a5b2a2",
   "metadata": {
    "papermill": {
     "duration": 0.071541,
     "end_time": "2023-12-19T20:14:44.301155",
     "exception": false,
     "start_time": "2023-12-19T20:14:44.229614",
     "status": "completed"
    },
    "tags": []
   },
   "source": [
    "# Which year is Most Shares "
   ]
  },
  {
   "cell_type": "code",
   "execution_count": 38,
   "id": "0a26ffde",
   "metadata": {
    "execution": {
     "iopub.execute_input": "2023-12-19T20:14:44.453020Z",
     "iopub.status.busy": "2023-12-19T20:14:44.452443Z",
     "iopub.status.idle": "2023-12-19T20:14:44.522140Z",
     "shell.execute_reply": "2023-12-19T20:14:44.522674Z",
     "shell.execute_reply.started": "2022-03-20T04:17:04.067628Z"
    },
    "papermill": {
     "duration": 0.150215,
     "end_time": "2023-12-19T20:14:44.522850",
     "exception": false,
     "start_time": "2023-12-19T20:14:44.372635",
     "status": "completed"
    },
    "tags": []
   },
   "outputs": [
    {
     "data": {
      "text/html": [
       "<div>                            <div id=\"553635df-98a5-47f6-b891-57e9826174a5\" class=\"plotly-graph-div\" style=\"height:400px; width:100%;\"></div>            <script type=\"text/javascript\">                require([\"plotly\"], function(Plotly) {                    window.PLOTLYENV=window.PLOTLYENV || {};                                    if (document.getElementById(\"553635df-98a5-47f6-b891-57e9826174a5\")) {                    Plotly.newPlot(                        \"553635df-98a5-47f6-b891-57e9826174a5\",                        [{\"alignmentgroup\":\"True\",\"legendgroup\":\"\",\"marker\":{\"color\":\"maroon\",\"pattern\":{\"shape\":\"\"},\"line\":{\"width\":0}},\"name\":\"\",\"offsetgroup\":\"\",\"orientation\":\"v\",\"showlegend\":false,\"text\":[30505.0,4384.0,4147.0,253.0,222.0,114.0],\"textposition\":\"auto\",\"x\":[2020,2021,2019,2018,2022,2017],\"xaxis\":\"x\",\"y\":[30505,4384,4147,253,222,114],\"yaxis\":\"y\",\"type\":\"bar\"}],                        {\"template\":{\"data\":{\"bar\":[{\"error_x\":{\"color\":\"#2a3f5f\"},\"error_y\":{\"color\":\"#2a3f5f\"},\"marker\":{\"line\":{\"color\":\"#E5ECF6\",\"width\":0.5},\"pattern\":{\"fillmode\":\"overlay\",\"size\":10,\"solidity\":0.2}},\"type\":\"bar\"}],\"barpolar\":[{\"marker\":{\"line\":{\"color\":\"#E5ECF6\",\"width\":0.5},\"pattern\":{\"fillmode\":\"overlay\",\"size\":10,\"solidity\":0.2}},\"type\":\"barpolar\"}],\"carpet\":[{\"aaxis\":{\"endlinecolor\":\"#2a3f5f\",\"gridcolor\":\"white\",\"linecolor\":\"white\",\"minorgridcolor\":\"white\",\"startlinecolor\":\"#2a3f5f\"},\"baxis\":{\"endlinecolor\":\"#2a3f5f\",\"gridcolor\":\"white\",\"linecolor\":\"white\",\"minorgridcolor\":\"white\",\"startlinecolor\":\"#2a3f5f\"},\"type\":\"carpet\"}],\"choropleth\":[{\"colorbar\":{\"outlinewidth\":0,\"ticks\":\"\"},\"type\":\"choropleth\"}],\"contour\":[{\"colorbar\":{\"outlinewidth\":0,\"ticks\":\"\"},\"colorscale\":[[0.0,\"#0d0887\"],[0.1111111111111111,\"#46039f\"],[0.2222222222222222,\"#7201a8\"],[0.3333333333333333,\"#9c179e\"],[0.4444444444444444,\"#bd3786\"],[0.5555555555555556,\"#d8576b\"],[0.6666666666666666,\"#ed7953\"],[0.7777777777777778,\"#fb9f3a\"],[0.8888888888888888,\"#fdca26\"],[1.0,\"#f0f921\"]],\"type\":\"contour\"}],\"contourcarpet\":[{\"colorbar\":{\"outlinewidth\":0,\"ticks\":\"\"},\"type\":\"contourcarpet\"}],\"heatmap\":[{\"colorbar\":{\"outlinewidth\":0,\"ticks\":\"\"},\"colorscale\":[[0.0,\"#0d0887\"],[0.1111111111111111,\"#46039f\"],[0.2222222222222222,\"#7201a8\"],[0.3333333333333333,\"#9c179e\"],[0.4444444444444444,\"#bd3786\"],[0.5555555555555556,\"#d8576b\"],[0.6666666666666666,\"#ed7953\"],[0.7777777777777778,\"#fb9f3a\"],[0.8888888888888888,\"#fdca26\"],[1.0,\"#f0f921\"]],\"type\":\"heatmap\"}],\"heatmapgl\":[{\"colorbar\":{\"outlinewidth\":0,\"ticks\":\"\"},\"colorscale\":[[0.0,\"#0d0887\"],[0.1111111111111111,\"#46039f\"],[0.2222222222222222,\"#7201a8\"],[0.3333333333333333,\"#9c179e\"],[0.4444444444444444,\"#bd3786\"],[0.5555555555555556,\"#d8576b\"],[0.6666666666666666,\"#ed7953\"],[0.7777777777777778,\"#fb9f3a\"],[0.8888888888888888,\"#fdca26\"],[1.0,\"#f0f921\"]],\"type\":\"heatmapgl\"}],\"histogram\":[{\"marker\":{\"pattern\":{\"fillmode\":\"overlay\",\"size\":10,\"solidity\":0.2}},\"type\":\"histogram\"}],\"histogram2d\":[{\"colorbar\":{\"outlinewidth\":0,\"ticks\":\"\"},\"colorscale\":[[0.0,\"#0d0887\"],[0.1111111111111111,\"#46039f\"],[0.2222222222222222,\"#7201a8\"],[0.3333333333333333,\"#9c179e\"],[0.4444444444444444,\"#bd3786\"],[0.5555555555555556,\"#d8576b\"],[0.6666666666666666,\"#ed7953\"],[0.7777777777777778,\"#fb9f3a\"],[0.8888888888888888,\"#fdca26\"],[1.0,\"#f0f921\"]],\"type\":\"histogram2d\"}],\"histogram2dcontour\":[{\"colorbar\":{\"outlinewidth\":0,\"ticks\":\"\"},\"colorscale\":[[0.0,\"#0d0887\"],[0.1111111111111111,\"#46039f\"],[0.2222222222222222,\"#7201a8\"],[0.3333333333333333,\"#9c179e\"],[0.4444444444444444,\"#bd3786\"],[0.5555555555555556,\"#d8576b\"],[0.6666666666666666,\"#ed7953\"],[0.7777777777777778,\"#fb9f3a\"],[0.8888888888888888,\"#fdca26\"],[1.0,\"#f0f921\"]],\"type\":\"histogram2dcontour\"}],\"mesh3d\":[{\"colorbar\":{\"outlinewidth\":0,\"ticks\":\"\"},\"type\":\"mesh3d\"}],\"parcoords\":[{\"line\":{\"colorbar\":{\"outlinewidth\":0,\"ticks\":\"\"}},\"type\":\"parcoords\"}],\"pie\":[{\"automargin\":true,\"type\":\"pie\"}],\"scatter\":[{\"marker\":{\"colorbar\":{\"outlinewidth\":0,\"ticks\":\"\"}},\"type\":\"scatter\"}],\"scatter3d\":[{\"line\":{\"colorbar\":{\"outlinewidth\":0,\"ticks\":\"\"}},\"marker\":{\"colorbar\":{\"outlinewidth\":0,\"ticks\":\"\"}},\"type\":\"scatter3d\"}],\"scattercarpet\":[{\"marker\":{\"colorbar\":{\"outlinewidth\":0,\"ticks\":\"\"}},\"type\":\"scattercarpet\"}],\"scattergeo\":[{\"marker\":{\"colorbar\":{\"outlinewidth\":0,\"ticks\":\"\"}},\"type\":\"scattergeo\"}],\"scattergl\":[{\"marker\":{\"colorbar\":{\"outlinewidth\":0,\"ticks\":\"\"}},\"type\":\"scattergl\"}],\"scattermapbox\":[{\"marker\":{\"colorbar\":{\"outlinewidth\":0,\"ticks\":\"\"}},\"type\":\"scattermapbox\"}],\"scatterpolar\":[{\"marker\":{\"colorbar\":{\"outlinewidth\":0,\"ticks\":\"\"}},\"type\":\"scatterpolar\"}],\"scatterpolargl\":[{\"marker\":{\"colorbar\":{\"outlinewidth\":0,\"ticks\":\"\"}},\"type\":\"scatterpolargl\"}],\"scatterternary\":[{\"marker\":{\"colorbar\":{\"outlinewidth\":0,\"ticks\":\"\"}},\"type\":\"scatterternary\"}],\"surface\":[{\"colorbar\":{\"outlinewidth\":0,\"ticks\":\"\"},\"colorscale\":[[0.0,\"#0d0887\"],[0.1111111111111111,\"#46039f\"],[0.2222222222222222,\"#7201a8\"],[0.3333333333333333,\"#9c179e\"],[0.4444444444444444,\"#bd3786\"],[0.5555555555555556,\"#d8576b\"],[0.6666666666666666,\"#ed7953\"],[0.7777777777777778,\"#fb9f3a\"],[0.8888888888888888,\"#fdca26\"],[1.0,\"#f0f921\"]],\"type\":\"surface\"}],\"table\":[{\"cells\":{\"fill\":{\"color\":\"#EBF0F8\"},\"line\":{\"color\":\"white\"}},\"header\":{\"fill\":{\"color\":\"#C8D4E3\"},\"line\":{\"color\":\"white\"}},\"type\":\"table\"}]},\"layout\":{\"annotationdefaults\":{\"arrowcolor\":\"#2a3f5f\",\"arrowhead\":0,\"arrowwidth\":1},\"autotypenumbers\":\"strict\",\"coloraxis\":{\"colorbar\":{\"outlinewidth\":0,\"ticks\":\"\"}},\"colorscale\":{\"diverging\":[[0,\"#8e0152\"],[0.1,\"#c51b7d\"],[0.2,\"#de77ae\"],[0.3,\"#f1b6da\"],[0.4,\"#fde0ef\"],[0.5,\"#f7f7f7\"],[0.6,\"#e6f5d0\"],[0.7,\"#b8e186\"],[0.8,\"#7fbc41\"],[0.9,\"#4d9221\"],[1,\"#276419\"]],\"sequential\":[[0.0,\"#0d0887\"],[0.1111111111111111,\"#46039f\"],[0.2222222222222222,\"#7201a8\"],[0.3333333333333333,\"#9c179e\"],[0.4444444444444444,\"#bd3786\"],[0.5555555555555556,\"#d8576b\"],[0.6666666666666666,\"#ed7953\"],[0.7777777777777778,\"#fb9f3a\"],[0.8888888888888888,\"#fdca26\"],[1.0,\"#f0f921\"]],\"sequentialminus\":[[0.0,\"#0d0887\"],[0.1111111111111111,\"#46039f\"],[0.2222222222222222,\"#7201a8\"],[0.3333333333333333,\"#9c179e\"],[0.4444444444444444,\"#bd3786\"],[0.5555555555555556,\"#d8576b\"],[0.6666666666666666,\"#ed7953\"],[0.7777777777777778,\"#fb9f3a\"],[0.8888888888888888,\"#fdca26\"],[1.0,\"#f0f921\"]]},\"colorway\":[\"#636efa\",\"#EF553B\",\"#00cc96\",\"#ab63fa\",\"#FFA15A\",\"#19d3f3\",\"#FF6692\",\"#B6E880\",\"#FF97FF\",\"#FECB52\"],\"font\":{\"color\":\"#2a3f5f\"},\"geo\":{\"bgcolor\":\"white\",\"lakecolor\":\"white\",\"landcolor\":\"#E5ECF6\",\"showlakes\":true,\"showland\":true,\"subunitcolor\":\"white\"},\"hoverlabel\":{\"align\":\"left\"},\"hovermode\":\"closest\",\"mapbox\":{\"style\":\"light\"},\"paper_bgcolor\":\"white\",\"plot_bgcolor\":\"#E5ECF6\",\"polar\":{\"angularaxis\":{\"gridcolor\":\"white\",\"linecolor\":\"white\",\"ticks\":\"\"},\"bgcolor\":\"#E5ECF6\",\"radialaxis\":{\"gridcolor\":\"white\",\"linecolor\":\"white\",\"ticks\":\"\"}},\"scene\":{\"xaxis\":{\"backgroundcolor\":\"#E5ECF6\",\"gridcolor\":\"white\",\"gridwidth\":2,\"linecolor\":\"white\",\"showbackground\":true,\"ticks\":\"\",\"zerolinecolor\":\"white\"},\"yaxis\":{\"backgroundcolor\":\"#E5ECF6\",\"gridcolor\":\"white\",\"gridwidth\":2,\"linecolor\":\"white\",\"showbackground\":true,\"ticks\":\"\",\"zerolinecolor\":\"white\"},\"zaxis\":{\"backgroundcolor\":\"#E5ECF6\",\"gridcolor\":\"white\",\"gridwidth\":2,\"linecolor\":\"white\",\"showbackground\":true,\"ticks\":\"\",\"zerolinecolor\":\"white\"}},\"shapedefaults\":{\"line\":{\"color\":\"#2a3f5f\"}},\"ternary\":{\"aaxis\":{\"gridcolor\":\"white\",\"linecolor\":\"white\",\"ticks\":\"\"},\"baxis\":{\"gridcolor\":\"white\",\"linecolor\":\"white\",\"ticks\":\"\"},\"bgcolor\":\"#E5ECF6\",\"caxis\":{\"gridcolor\":\"white\",\"linecolor\":\"white\",\"ticks\":\"\"}},\"title\":{\"x\":0.05},\"xaxis\":{\"automargin\":true,\"gridcolor\":\"white\",\"linecolor\":\"white\",\"ticks\":\"\",\"title\":{\"standoff\":15},\"zerolinecolor\":\"white\",\"zerolinewidth\":2},\"yaxis\":{\"automargin\":true,\"gridcolor\":\"white\",\"linecolor\":\"white\",\"ticks\":\"\",\"title\":{\"standoff\":15},\"zerolinecolor\":\"white\",\"zerolinewidth\":2}}},\"xaxis\":{\"anchor\":\"y\",\"domain\":[0.0,1.0],\"title\":{\"text\":\"Year\"},\"showgrid\":false},\"yaxis\":{\"anchor\":\"x\",\"domain\":[0.0,1.0],\"title\":{\"text\":\"Likes\"},\"showgrid\":false,\"categoryorder\":\"total ascending\",\"ticksuffix\":\" \",\"showline\":false},\"legend\":{\"tracegroupgap\":0,\"orientation\":\"h\",\"yanchor\":\"bottom\",\"y\":1,\"xanchor\":\"center\",\"x\":0.5},\"title\":{\"text\":\"Most Shares Vs Year\",\"font\":{\"size\":25,\"color\":\"#8a8d93\",\"family\":\"Lato, sans-serif\"}},\"barmode\":\"relative\",\"margin\":{\"t\":80,\"b\":0,\"l\":70,\"r\":40},\"font\":{\"color\":\"#8a8d93\"},\"hoverlabel\":{\"font\":{\"size\":13,\"family\":\"Lato, sans-serif\"},\"bgcolor\":\"black\"},\"hovermode\":\"y unified\",\"height\":400,\"plot_bgcolor\":\"#333\",\"paper_bgcolor\":\"#333\"},                        {\"responsive\": true}                    ).then(function(){\n",
       "                            \n",
       "var gd = document.getElementById('553635df-98a5-47f6-b891-57e9826174a5');\n",
       "var x = new MutationObserver(function (mutations, observer) {{\n",
       "        var display = window.getComputedStyle(gd).display;\n",
       "        if (!display || display === 'none') {{\n",
       "            console.log([gd, 'removed!']);\n",
       "            Plotly.purge(gd);\n",
       "            observer.disconnect();\n",
       "        }}\n",
       "}});\n",
       "\n",
       "// Listen for the removal of the full notebook cells\n",
       "var notebookContainer = gd.closest('#notebook-container');\n",
       "if (notebookContainer) {{\n",
       "    x.observe(notebookContainer, {childList: true});\n",
       "}}\n",
       "\n",
       "// Listen for the clearing of the current output cell\n",
       "var outputEl = gd.closest('.output');\n",
       "if (outputEl) {{\n",
       "    x.observe(outputEl, {childList: true});\n",
       "}}\n",
       "\n",
       "                        })                };                });            </script>        </div>"
      ]
     },
     "metadata": {},
     "output_type": "display_data"
    }
   ],
   "source": [
    "shares=df2.groupby([\"Year\"])[\"Shares\"].sum().sort_values(ascending=False).reset_index()\n",
    "\n",
    "fig=px.bar(shares,x=\"Year\",y=\"Shares\",title=\"Most Shares Vs Year\",color_discrete_sequence=[\"maroon\"],text=\"Shares\")\n",
    "\n",
    "fig.update_xaxes(showgrid=False)\n",
    "\n",
    "fig.update_yaxes(showgrid=False, categoryorder='total ascending', ticksuffix=' ', showline=False)\n",
    "\n",
    "fig.update_traces(hovertemplate=None, marker=dict(line=dict(width=0)))\n",
    "\n",
    "fig.update_layout(margin=dict(t=80, b=0, l=70, r=40),hovermode=\"y unified\",\n",
    "                  xaxis_title='Year', yaxis_title=\"Likes\", height=400,plot_bgcolor='#333', paper_bgcolor='#333',\n",
    "title_font=dict(size=25, color='#8a8d93', family=\"Lato, sans-serif\"),\n",
    "font=dict(color='#8a8d93'),\n",
    "                  legend=dict(orientation=\"h\", yanchor=\"bottom\", y=1, xanchor=\"center\", x=0.5),\n",
    "                  hoverlabel=dict(bgcolor=\"black\", font_size=13, font_family=\"Lato, sans-serif\"))\n",
    "                  \n",
    "\n",
    "fig.show()"
   ]
  },
  {
   "cell_type": "markdown",
   "id": "56c59d8e",
   "metadata": {
    "papermill": {
     "duration": 0.07306,
     "end_time": "2023-12-19T20:14:44.669623",
     "exception": false,
     "start_time": "2023-12-19T20:14:44.596563",
     "status": "completed"
    },
    "tags": []
   },
   "source": [
    "# Let's show the Which year is most Sub­scribers lost:"
   ]
  },
  {
   "cell_type": "code",
   "execution_count": 39,
   "id": "c279e4e6",
   "metadata": {
    "execution": {
     "iopub.execute_input": "2023-12-19T20:14:44.824191Z",
     "iopub.status.busy": "2023-12-19T20:14:44.823675Z",
     "iopub.status.idle": "2023-12-19T20:14:44.891663Z",
     "shell.execute_reply": "2023-12-19T20:14:44.892118Z",
     "shell.execute_reply.started": "2022-03-20T04:17:04.994084Z"
    },
    "papermill": {
     "duration": 0.149059,
     "end_time": "2023-12-19T20:14:44.892286",
     "exception": false,
     "start_time": "2023-12-19T20:14:44.743227",
     "status": "completed"
    },
    "tags": []
   },
   "outputs": [
    {
     "data": {
      "text/html": [
       "<div>                            <div id=\"47abb493-f349-4f1c-a357-0c973db2c857\" class=\"plotly-graph-div\" style=\"height:400px; width:100%;\"></div>            <script type=\"text/javascript\">                require([\"plotly\"], function(Plotly) {                    window.PLOTLYENV=window.PLOTLYENV || {};                                    if (document.getElementById(\"47abb493-f349-4f1c-a357-0c973db2c857\")) {                    Plotly.newPlot(                        \"47abb493-f349-4f1c-a357-0c973db2c857\",                        [{\"alignmentgroup\":\"True\",\"legendgroup\":\"\",\"marker\":{\"color\":\"maroon\",\"pattern\":{\"shape\":\"\"},\"line\":{\"width\":0}},\"name\":\"\",\"offsetgroup\":\"\",\"orientation\":\"v\",\"showlegend\":false,\"text\":[1836.0,793.0,266.0,53.0,6.0,1.0],\"textposition\":\"auto\",\"x\":[2020,2021,2019,2022,2018,2017],\"xaxis\":\"x\",\"y\":[1836,793,266,53,6,1],\"yaxis\":\"y\",\"type\":\"bar\"}],                        {\"template\":{\"data\":{\"bar\":[{\"error_x\":{\"color\":\"#2a3f5f\"},\"error_y\":{\"color\":\"#2a3f5f\"},\"marker\":{\"line\":{\"color\":\"#E5ECF6\",\"width\":0.5},\"pattern\":{\"fillmode\":\"overlay\",\"size\":10,\"solidity\":0.2}},\"type\":\"bar\"}],\"barpolar\":[{\"marker\":{\"line\":{\"color\":\"#E5ECF6\",\"width\":0.5},\"pattern\":{\"fillmode\":\"overlay\",\"size\":10,\"solidity\":0.2}},\"type\":\"barpolar\"}],\"carpet\":[{\"aaxis\":{\"endlinecolor\":\"#2a3f5f\",\"gridcolor\":\"white\",\"linecolor\":\"white\",\"minorgridcolor\":\"white\",\"startlinecolor\":\"#2a3f5f\"},\"baxis\":{\"endlinecolor\":\"#2a3f5f\",\"gridcolor\":\"white\",\"linecolor\":\"white\",\"minorgridcolor\":\"white\",\"startlinecolor\":\"#2a3f5f\"},\"type\":\"carpet\"}],\"choropleth\":[{\"colorbar\":{\"outlinewidth\":0,\"ticks\":\"\"},\"type\":\"choropleth\"}],\"contour\":[{\"colorbar\":{\"outlinewidth\":0,\"ticks\":\"\"},\"colorscale\":[[0.0,\"#0d0887\"],[0.1111111111111111,\"#46039f\"],[0.2222222222222222,\"#7201a8\"],[0.3333333333333333,\"#9c179e\"],[0.4444444444444444,\"#bd3786\"],[0.5555555555555556,\"#d8576b\"],[0.6666666666666666,\"#ed7953\"],[0.7777777777777778,\"#fb9f3a\"],[0.8888888888888888,\"#fdca26\"],[1.0,\"#f0f921\"]],\"type\":\"contour\"}],\"contourcarpet\":[{\"colorbar\":{\"outlinewidth\":0,\"ticks\":\"\"},\"type\":\"contourcarpet\"}],\"heatmap\":[{\"colorbar\":{\"outlinewidth\":0,\"ticks\":\"\"},\"colorscale\":[[0.0,\"#0d0887\"],[0.1111111111111111,\"#46039f\"],[0.2222222222222222,\"#7201a8\"],[0.3333333333333333,\"#9c179e\"],[0.4444444444444444,\"#bd3786\"],[0.5555555555555556,\"#d8576b\"],[0.6666666666666666,\"#ed7953\"],[0.7777777777777778,\"#fb9f3a\"],[0.8888888888888888,\"#fdca26\"],[1.0,\"#f0f921\"]],\"type\":\"heatmap\"}],\"heatmapgl\":[{\"colorbar\":{\"outlinewidth\":0,\"ticks\":\"\"},\"colorscale\":[[0.0,\"#0d0887\"],[0.1111111111111111,\"#46039f\"],[0.2222222222222222,\"#7201a8\"],[0.3333333333333333,\"#9c179e\"],[0.4444444444444444,\"#bd3786\"],[0.5555555555555556,\"#d8576b\"],[0.6666666666666666,\"#ed7953\"],[0.7777777777777778,\"#fb9f3a\"],[0.8888888888888888,\"#fdca26\"],[1.0,\"#f0f921\"]],\"type\":\"heatmapgl\"}],\"histogram\":[{\"marker\":{\"pattern\":{\"fillmode\":\"overlay\",\"size\":10,\"solidity\":0.2}},\"type\":\"histogram\"}],\"histogram2d\":[{\"colorbar\":{\"outlinewidth\":0,\"ticks\":\"\"},\"colorscale\":[[0.0,\"#0d0887\"],[0.1111111111111111,\"#46039f\"],[0.2222222222222222,\"#7201a8\"],[0.3333333333333333,\"#9c179e\"],[0.4444444444444444,\"#bd3786\"],[0.5555555555555556,\"#d8576b\"],[0.6666666666666666,\"#ed7953\"],[0.7777777777777778,\"#fb9f3a\"],[0.8888888888888888,\"#fdca26\"],[1.0,\"#f0f921\"]],\"type\":\"histogram2d\"}],\"histogram2dcontour\":[{\"colorbar\":{\"outlinewidth\":0,\"ticks\":\"\"},\"colorscale\":[[0.0,\"#0d0887\"],[0.1111111111111111,\"#46039f\"],[0.2222222222222222,\"#7201a8\"],[0.3333333333333333,\"#9c179e\"],[0.4444444444444444,\"#bd3786\"],[0.5555555555555556,\"#d8576b\"],[0.6666666666666666,\"#ed7953\"],[0.7777777777777778,\"#fb9f3a\"],[0.8888888888888888,\"#fdca26\"],[1.0,\"#f0f921\"]],\"type\":\"histogram2dcontour\"}],\"mesh3d\":[{\"colorbar\":{\"outlinewidth\":0,\"ticks\":\"\"},\"type\":\"mesh3d\"}],\"parcoords\":[{\"line\":{\"colorbar\":{\"outlinewidth\":0,\"ticks\":\"\"}},\"type\":\"parcoords\"}],\"pie\":[{\"automargin\":true,\"type\":\"pie\"}],\"scatter\":[{\"marker\":{\"colorbar\":{\"outlinewidth\":0,\"ticks\":\"\"}},\"type\":\"scatter\"}],\"scatter3d\":[{\"line\":{\"colorbar\":{\"outlinewidth\":0,\"ticks\":\"\"}},\"marker\":{\"colorbar\":{\"outlinewidth\":0,\"ticks\":\"\"}},\"type\":\"scatter3d\"}],\"scattercarpet\":[{\"marker\":{\"colorbar\":{\"outlinewidth\":0,\"ticks\":\"\"}},\"type\":\"scattercarpet\"}],\"scattergeo\":[{\"marker\":{\"colorbar\":{\"outlinewidth\":0,\"ticks\":\"\"}},\"type\":\"scattergeo\"}],\"scattergl\":[{\"marker\":{\"colorbar\":{\"outlinewidth\":0,\"ticks\":\"\"}},\"type\":\"scattergl\"}],\"scattermapbox\":[{\"marker\":{\"colorbar\":{\"outlinewidth\":0,\"ticks\":\"\"}},\"type\":\"scattermapbox\"}],\"scatterpolar\":[{\"marker\":{\"colorbar\":{\"outlinewidth\":0,\"ticks\":\"\"}},\"type\":\"scatterpolar\"}],\"scatterpolargl\":[{\"marker\":{\"colorbar\":{\"outlinewidth\":0,\"ticks\":\"\"}},\"type\":\"scatterpolargl\"}],\"scatterternary\":[{\"marker\":{\"colorbar\":{\"outlinewidth\":0,\"ticks\":\"\"}},\"type\":\"scatterternary\"}],\"surface\":[{\"colorbar\":{\"outlinewidth\":0,\"ticks\":\"\"},\"colorscale\":[[0.0,\"#0d0887\"],[0.1111111111111111,\"#46039f\"],[0.2222222222222222,\"#7201a8\"],[0.3333333333333333,\"#9c179e\"],[0.4444444444444444,\"#bd3786\"],[0.5555555555555556,\"#d8576b\"],[0.6666666666666666,\"#ed7953\"],[0.7777777777777778,\"#fb9f3a\"],[0.8888888888888888,\"#fdca26\"],[1.0,\"#f0f921\"]],\"type\":\"surface\"}],\"table\":[{\"cells\":{\"fill\":{\"color\":\"#EBF0F8\"},\"line\":{\"color\":\"white\"}},\"header\":{\"fill\":{\"color\":\"#C8D4E3\"},\"line\":{\"color\":\"white\"}},\"type\":\"table\"}]},\"layout\":{\"annotationdefaults\":{\"arrowcolor\":\"#2a3f5f\",\"arrowhead\":0,\"arrowwidth\":1},\"autotypenumbers\":\"strict\",\"coloraxis\":{\"colorbar\":{\"outlinewidth\":0,\"ticks\":\"\"}},\"colorscale\":{\"diverging\":[[0,\"#8e0152\"],[0.1,\"#c51b7d\"],[0.2,\"#de77ae\"],[0.3,\"#f1b6da\"],[0.4,\"#fde0ef\"],[0.5,\"#f7f7f7\"],[0.6,\"#e6f5d0\"],[0.7,\"#b8e186\"],[0.8,\"#7fbc41\"],[0.9,\"#4d9221\"],[1,\"#276419\"]],\"sequential\":[[0.0,\"#0d0887\"],[0.1111111111111111,\"#46039f\"],[0.2222222222222222,\"#7201a8\"],[0.3333333333333333,\"#9c179e\"],[0.4444444444444444,\"#bd3786\"],[0.5555555555555556,\"#d8576b\"],[0.6666666666666666,\"#ed7953\"],[0.7777777777777778,\"#fb9f3a\"],[0.8888888888888888,\"#fdca26\"],[1.0,\"#f0f921\"]],\"sequentialminus\":[[0.0,\"#0d0887\"],[0.1111111111111111,\"#46039f\"],[0.2222222222222222,\"#7201a8\"],[0.3333333333333333,\"#9c179e\"],[0.4444444444444444,\"#bd3786\"],[0.5555555555555556,\"#d8576b\"],[0.6666666666666666,\"#ed7953\"],[0.7777777777777778,\"#fb9f3a\"],[0.8888888888888888,\"#fdca26\"],[1.0,\"#f0f921\"]]},\"colorway\":[\"#636efa\",\"#EF553B\",\"#00cc96\",\"#ab63fa\",\"#FFA15A\",\"#19d3f3\",\"#FF6692\",\"#B6E880\",\"#FF97FF\",\"#FECB52\"],\"font\":{\"color\":\"#2a3f5f\"},\"geo\":{\"bgcolor\":\"white\",\"lakecolor\":\"white\",\"landcolor\":\"#E5ECF6\",\"showlakes\":true,\"showland\":true,\"subunitcolor\":\"white\"},\"hoverlabel\":{\"align\":\"left\"},\"hovermode\":\"closest\",\"mapbox\":{\"style\":\"light\"},\"paper_bgcolor\":\"white\",\"plot_bgcolor\":\"#E5ECF6\",\"polar\":{\"angularaxis\":{\"gridcolor\":\"white\",\"linecolor\":\"white\",\"ticks\":\"\"},\"bgcolor\":\"#E5ECF6\",\"radialaxis\":{\"gridcolor\":\"white\",\"linecolor\":\"white\",\"ticks\":\"\"}},\"scene\":{\"xaxis\":{\"backgroundcolor\":\"#E5ECF6\",\"gridcolor\":\"white\",\"gridwidth\":2,\"linecolor\":\"white\",\"showbackground\":true,\"ticks\":\"\",\"zerolinecolor\":\"white\"},\"yaxis\":{\"backgroundcolor\":\"#E5ECF6\",\"gridcolor\":\"white\",\"gridwidth\":2,\"linecolor\":\"white\",\"showbackground\":true,\"ticks\":\"\",\"zerolinecolor\":\"white\"},\"zaxis\":{\"backgroundcolor\":\"#E5ECF6\",\"gridcolor\":\"white\",\"gridwidth\":2,\"linecolor\":\"white\",\"showbackground\":true,\"ticks\":\"\",\"zerolinecolor\":\"white\"}},\"shapedefaults\":{\"line\":{\"color\":\"#2a3f5f\"}},\"ternary\":{\"aaxis\":{\"gridcolor\":\"white\",\"linecolor\":\"white\",\"ticks\":\"\"},\"baxis\":{\"gridcolor\":\"white\",\"linecolor\":\"white\",\"ticks\":\"\"},\"bgcolor\":\"#E5ECF6\",\"caxis\":{\"gridcolor\":\"white\",\"linecolor\":\"white\",\"ticks\":\"\"}},\"title\":{\"x\":0.05},\"xaxis\":{\"automargin\":true,\"gridcolor\":\"white\",\"linecolor\":\"white\",\"ticks\":\"\",\"title\":{\"standoff\":15},\"zerolinecolor\":\"white\",\"zerolinewidth\":2},\"yaxis\":{\"automargin\":true,\"gridcolor\":\"white\",\"linecolor\":\"white\",\"ticks\":\"\",\"title\":{\"standoff\":15},\"zerolinecolor\":\"white\",\"zerolinewidth\":2}}},\"xaxis\":{\"anchor\":\"y\",\"domain\":[0.0,1.0],\"title\":{\"text\":\"Year\"},\"showgrid\":false},\"yaxis\":{\"anchor\":\"x\",\"domain\":[0.0,1.0],\"title\":{\"text\":\"Lost Subscribers\"},\"showgrid\":false,\"categoryorder\":\"total ascending\",\"ticksuffix\":\" \",\"showline\":false},\"legend\":{\"tracegroupgap\":0,\"orientation\":\"h\",\"yanchor\":\"bottom\",\"y\":1,\"xanchor\":\"center\",\"x\":0.5},\"title\":{\"text\":\"Which Year higest lost subscribers\",\"font\":{\"size\":25,\"color\":\"#8a8d93\",\"family\":\"Lato, sans-serif\"}},\"barmode\":\"relative\",\"margin\":{\"t\":80,\"b\":0,\"l\":70,\"r\":40},\"font\":{\"color\":\"#8a8d93\"},\"hoverlabel\":{\"font\":{\"size\":13,\"family\":\"Lato, sans-serif\"},\"bgcolor\":\"black\"},\"hovermode\":\"y unified\",\"height\":400,\"plot_bgcolor\":\"#333\",\"paper_bgcolor\":\"#333\"},                        {\"responsive\": true}                    ).then(function(){\n",
       "                            \n",
       "var gd = document.getElementById('47abb493-f349-4f1c-a357-0c973db2c857');\n",
       "var x = new MutationObserver(function (mutations, observer) {{\n",
       "        var display = window.getComputedStyle(gd).display;\n",
       "        if (!display || display === 'none') {{\n",
       "            console.log([gd, 'removed!']);\n",
       "            Plotly.purge(gd);\n",
       "            observer.disconnect();\n",
       "        }}\n",
       "}});\n",
       "\n",
       "// Listen for the removal of the full notebook cells\n",
       "var notebookContainer = gd.closest('#notebook-container');\n",
       "if (notebookContainer) {{\n",
       "    x.observe(notebookContainer, {childList: true});\n",
       "}}\n",
       "\n",
       "// Listen for the clearing of the current output cell\n",
       "var outputEl = gd.closest('.output');\n",
       "if (outputEl) {{\n",
       "    x.observe(outputEl, {childList: true});\n",
       "}}\n",
       "\n",
       "                        })                };                });            </script>        </div>"
      ]
     },
     "metadata": {},
     "output_type": "display_data"
    }
   ],
   "source": [
    "sub_lost=df2.groupby([\"Year\"])[\"Sub­scribers lost\"].sum().sort_values(ascending=False).reset_index()\n",
    "\n",
    "fig=px.bar(sub_lost,x=\"Year\",y=\"Sub­scribers lost\",title=\"Which Year higest lost subscribers\",color_discrete_sequence=[\"maroon\"],text=\"Sub­scribers lost\")\n",
    "\n",
    "fig.update_xaxes(showgrid=False)\n",
    "\n",
    "fig.update_yaxes(showgrid=False, categoryorder='total ascending', ticksuffix=' ', showline=False)\n",
    "\n",
    "fig.update_traces(hovertemplate=None, marker=dict(line=dict(width=0)))\n",
    "\n",
    "fig.update_layout(margin=dict(t=80, b=0, l=70, r=40),hovermode=\"y unified\",\n",
    "                  xaxis_title='Year', yaxis_title=\"Lost Subscribers\", height=400,plot_bgcolor='#333', paper_bgcolor='#333',\n",
    "title_font=dict(size=25, color='#8a8d93', family=\"Lato, sans-serif\"),\n",
    "font=dict(color='#8a8d93'),\n",
    "                  legend=dict(orientation=\"h\", yanchor=\"bottom\", y=1, xanchor=\"center\", x=0.5),\n",
    "                  hoverlabel=dict(bgcolor=\"black\", font_size=13, font_family=\"Lato, sans-serif\"))\n",
    "                  \n",
    "\n",
    "fig.show()"
   ]
  },
  {
   "cell_type": "markdown",
   "id": "8a1c9d35",
   "metadata": {
    "papermill": {
     "duration": 0.072156,
     "end_time": "2023-12-19T20:14:45.038011",
     "exception": false,
     "start_time": "2023-12-19T20:14:44.965855",
     "status": "completed"
    },
    "tags": []
   },
   "source": [
    "# Show the Which year most gained Sub­scribers"
   ]
  },
  {
   "cell_type": "code",
   "execution_count": 40,
   "id": "8db6ebf2",
   "metadata": {
    "execution": {
     "iopub.execute_input": "2023-12-19T20:14:45.185004Z",
     "iopub.status.busy": "2023-12-19T20:14:45.184496Z",
     "iopub.status.idle": "2023-12-19T20:14:45.254781Z",
     "shell.execute_reply": "2023-12-19T20:14:45.255163Z",
     "shell.execute_reply.started": "2022-03-20T04:17:05.87247Z"
    },
    "papermill": {
     "duration": 0.14457,
     "end_time": "2023-12-19T20:14:45.255329",
     "exception": false,
     "start_time": "2023-12-19T20:14:45.110759",
     "status": "completed"
    },
    "tags": []
   },
   "outputs": [
    {
     "data": {
      "text/html": [
       "<div>                            <div id=\"bb0c865d-87e8-4f72-ab38-88f66232e724\" class=\"plotly-graph-div\" style=\"height:400px; width:100%;\"></div>            <script type=\"text/javascript\">                require([\"plotly\"], function(Plotly) {                    window.PLOTLYENV=window.PLOTLYENV || {};                                    if (document.getElementById(\"bb0c865d-87e8-4f72-ab38-88f66232e724\")) {                    Plotly.newPlot(                        \"bb0c865d-87e8-4f72-ab38-88f66232e724\",                        [{\"alignmentgroup\":\"True\",\"legendgroup\":\"\",\"marker\":{\"color\":\"maroon\",\"pattern\":{\"shape\":\"\"},\"line\":{\"width\":0}},\"name\":\"\",\"offsetgroup\":\"\",\"orientation\":\"v\",\"showlegend\":false,\"text\":[105480.0,12861.0,11825.0,407.0,233.0,111.0],\"textposition\":\"auto\",\"x\":[2020,2019,2021,2018,2022,2017],\"xaxis\":\"x\",\"y\":[105480,12861,11825,407,233,111],\"yaxis\":\"y\",\"type\":\"bar\"}],                        {\"template\":{\"data\":{\"bar\":[{\"error_x\":{\"color\":\"#2a3f5f\"},\"error_y\":{\"color\":\"#2a3f5f\"},\"marker\":{\"line\":{\"color\":\"#E5ECF6\",\"width\":0.5},\"pattern\":{\"fillmode\":\"overlay\",\"size\":10,\"solidity\":0.2}},\"type\":\"bar\"}],\"barpolar\":[{\"marker\":{\"line\":{\"color\":\"#E5ECF6\",\"width\":0.5},\"pattern\":{\"fillmode\":\"overlay\",\"size\":10,\"solidity\":0.2}},\"type\":\"barpolar\"}],\"carpet\":[{\"aaxis\":{\"endlinecolor\":\"#2a3f5f\",\"gridcolor\":\"white\",\"linecolor\":\"white\",\"minorgridcolor\":\"white\",\"startlinecolor\":\"#2a3f5f\"},\"baxis\":{\"endlinecolor\":\"#2a3f5f\",\"gridcolor\":\"white\",\"linecolor\":\"white\",\"minorgridcolor\":\"white\",\"startlinecolor\":\"#2a3f5f\"},\"type\":\"carpet\"}],\"choropleth\":[{\"colorbar\":{\"outlinewidth\":0,\"ticks\":\"\"},\"type\":\"choropleth\"}],\"contour\":[{\"colorbar\":{\"outlinewidth\":0,\"ticks\":\"\"},\"colorscale\":[[0.0,\"#0d0887\"],[0.1111111111111111,\"#46039f\"],[0.2222222222222222,\"#7201a8\"],[0.3333333333333333,\"#9c179e\"],[0.4444444444444444,\"#bd3786\"],[0.5555555555555556,\"#d8576b\"],[0.6666666666666666,\"#ed7953\"],[0.7777777777777778,\"#fb9f3a\"],[0.8888888888888888,\"#fdca26\"],[1.0,\"#f0f921\"]],\"type\":\"contour\"}],\"contourcarpet\":[{\"colorbar\":{\"outlinewidth\":0,\"ticks\":\"\"},\"type\":\"contourcarpet\"}],\"heatmap\":[{\"colorbar\":{\"outlinewidth\":0,\"ticks\":\"\"},\"colorscale\":[[0.0,\"#0d0887\"],[0.1111111111111111,\"#46039f\"],[0.2222222222222222,\"#7201a8\"],[0.3333333333333333,\"#9c179e\"],[0.4444444444444444,\"#bd3786\"],[0.5555555555555556,\"#d8576b\"],[0.6666666666666666,\"#ed7953\"],[0.7777777777777778,\"#fb9f3a\"],[0.8888888888888888,\"#fdca26\"],[1.0,\"#f0f921\"]],\"type\":\"heatmap\"}],\"heatmapgl\":[{\"colorbar\":{\"outlinewidth\":0,\"ticks\":\"\"},\"colorscale\":[[0.0,\"#0d0887\"],[0.1111111111111111,\"#46039f\"],[0.2222222222222222,\"#7201a8\"],[0.3333333333333333,\"#9c179e\"],[0.4444444444444444,\"#bd3786\"],[0.5555555555555556,\"#d8576b\"],[0.6666666666666666,\"#ed7953\"],[0.7777777777777778,\"#fb9f3a\"],[0.8888888888888888,\"#fdca26\"],[1.0,\"#f0f921\"]],\"type\":\"heatmapgl\"}],\"histogram\":[{\"marker\":{\"pattern\":{\"fillmode\":\"overlay\",\"size\":10,\"solidity\":0.2}},\"type\":\"histogram\"}],\"histogram2d\":[{\"colorbar\":{\"outlinewidth\":0,\"ticks\":\"\"},\"colorscale\":[[0.0,\"#0d0887\"],[0.1111111111111111,\"#46039f\"],[0.2222222222222222,\"#7201a8\"],[0.3333333333333333,\"#9c179e\"],[0.4444444444444444,\"#bd3786\"],[0.5555555555555556,\"#d8576b\"],[0.6666666666666666,\"#ed7953\"],[0.7777777777777778,\"#fb9f3a\"],[0.8888888888888888,\"#fdca26\"],[1.0,\"#f0f921\"]],\"type\":\"histogram2d\"}],\"histogram2dcontour\":[{\"colorbar\":{\"outlinewidth\":0,\"ticks\":\"\"},\"colorscale\":[[0.0,\"#0d0887\"],[0.1111111111111111,\"#46039f\"],[0.2222222222222222,\"#7201a8\"],[0.3333333333333333,\"#9c179e\"],[0.4444444444444444,\"#bd3786\"],[0.5555555555555556,\"#d8576b\"],[0.6666666666666666,\"#ed7953\"],[0.7777777777777778,\"#fb9f3a\"],[0.8888888888888888,\"#fdca26\"],[1.0,\"#f0f921\"]],\"type\":\"histogram2dcontour\"}],\"mesh3d\":[{\"colorbar\":{\"outlinewidth\":0,\"ticks\":\"\"},\"type\":\"mesh3d\"}],\"parcoords\":[{\"line\":{\"colorbar\":{\"outlinewidth\":0,\"ticks\":\"\"}},\"type\":\"parcoords\"}],\"pie\":[{\"automargin\":true,\"type\":\"pie\"}],\"scatter\":[{\"marker\":{\"colorbar\":{\"outlinewidth\":0,\"ticks\":\"\"}},\"type\":\"scatter\"}],\"scatter3d\":[{\"line\":{\"colorbar\":{\"outlinewidth\":0,\"ticks\":\"\"}},\"marker\":{\"colorbar\":{\"outlinewidth\":0,\"ticks\":\"\"}},\"type\":\"scatter3d\"}],\"scattercarpet\":[{\"marker\":{\"colorbar\":{\"outlinewidth\":0,\"ticks\":\"\"}},\"type\":\"scattercarpet\"}],\"scattergeo\":[{\"marker\":{\"colorbar\":{\"outlinewidth\":0,\"ticks\":\"\"}},\"type\":\"scattergeo\"}],\"scattergl\":[{\"marker\":{\"colorbar\":{\"outlinewidth\":0,\"ticks\":\"\"}},\"type\":\"scattergl\"}],\"scattermapbox\":[{\"marker\":{\"colorbar\":{\"outlinewidth\":0,\"ticks\":\"\"}},\"type\":\"scattermapbox\"}],\"scatterpolar\":[{\"marker\":{\"colorbar\":{\"outlinewidth\":0,\"ticks\":\"\"}},\"type\":\"scatterpolar\"}],\"scatterpolargl\":[{\"marker\":{\"colorbar\":{\"outlinewidth\":0,\"ticks\":\"\"}},\"type\":\"scatterpolargl\"}],\"scatterternary\":[{\"marker\":{\"colorbar\":{\"outlinewidth\":0,\"ticks\":\"\"}},\"type\":\"scatterternary\"}],\"surface\":[{\"colorbar\":{\"outlinewidth\":0,\"ticks\":\"\"},\"colorscale\":[[0.0,\"#0d0887\"],[0.1111111111111111,\"#46039f\"],[0.2222222222222222,\"#7201a8\"],[0.3333333333333333,\"#9c179e\"],[0.4444444444444444,\"#bd3786\"],[0.5555555555555556,\"#d8576b\"],[0.6666666666666666,\"#ed7953\"],[0.7777777777777778,\"#fb9f3a\"],[0.8888888888888888,\"#fdca26\"],[1.0,\"#f0f921\"]],\"type\":\"surface\"}],\"table\":[{\"cells\":{\"fill\":{\"color\":\"#EBF0F8\"},\"line\":{\"color\":\"white\"}},\"header\":{\"fill\":{\"color\":\"#C8D4E3\"},\"line\":{\"color\":\"white\"}},\"type\":\"table\"}]},\"layout\":{\"annotationdefaults\":{\"arrowcolor\":\"#2a3f5f\",\"arrowhead\":0,\"arrowwidth\":1},\"autotypenumbers\":\"strict\",\"coloraxis\":{\"colorbar\":{\"outlinewidth\":0,\"ticks\":\"\"}},\"colorscale\":{\"diverging\":[[0,\"#8e0152\"],[0.1,\"#c51b7d\"],[0.2,\"#de77ae\"],[0.3,\"#f1b6da\"],[0.4,\"#fde0ef\"],[0.5,\"#f7f7f7\"],[0.6,\"#e6f5d0\"],[0.7,\"#b8e186\"],[0.8,\"#7fbc41\"],[0.9,\"#4d9221\"],[1,\"#276419\"]],\"sequential\":[[0.0,\"#0d0887\"],[0.1111111111111111,\"#46039f\"],[0.2222222222222222,\"#7201a8\"],[0.3333333333333333,\"#9c179e\"],[0.4444444444444444,\"#bd3786\"],[0.5555555555555556,\"#d8576b\"],[0.6666666666666666,\"#ed7953\"],[0.7777777777777778,\"#fb9f3a\"],[0.8888888888888888,\"#fdca26\"],[1.0,\"#f0f921\"]],\"sequentialminus\":[[0.0,\"#0d0887\"],[0.1111111111111111,\"#46039f\"],[0.2222222222222222,\"#7201a8\"],[0.3333333333333333,\"#9c179e\"],[0.4444444444444444,\"#bd3786\"],[0.5555555555555556,\"#d8576b\"],[0.6666666666666666,\"#ed7953\"],[0.7777777777777778,\"#fb9f3a\"],[0.8888888888888888,\"#fdca26\"],[1.0,\"#f0f921\"]]},\"colorway\":[\"#636efa\",\"#EF553B\",\"#00cc96\",\"#ab63fa\",\"#FFA15A\",\"#19d3f3\",\"#FF6692\",\"#B6E880\",\"#FF97FF\",\"#FECB52\"],\"font\":{\"color\":\"#2a3f5f\"},\"geo\":{\"bgcolor\":\"white\",\"lakecolor\":\"white\",\"landcolor\":\"#E5ECF6\",\"showlakes\":true,\"showland\":true,\"subunitcolor\":\"white\"},\"hoverlabel\":{\"align\":\"left\"},\"hovermode\":\"closest\",\"mapbox\":{\"style\":\"light\"},\"paper_bgcolor\":\"white\",\"plot_bgcolor\":\"#E5ECF6\",\"polar\":{\"angularaxis\":{\"gridcolor\":\"white\",\"linecolor\":\"white\",\"ticks\":\"\"},\"bgcolor\":\"#E5ECF6\",\"radialaxis\":{\"gridcolor\":\"white\",\"linecolor\":\"white\",\"ticks\":\"\"}},\"scene\":{\"xaxis\":{\"backgroundcolor\":\"#E5ECF6\",\"gridcolor\":\"white\",\"gridwidth\":2,\"linecolor\":\"white\",\"showbackground\":true,\"ticks\":\"\",\"zerolinecolor\":\"white\"},\"yaxis\":{\"backgroundcolor\":\"#E5ECF6\",\"gridcolor\":\"white\",\"gridwidth\":2,\"linecolor\":\"white\",\"showbackground\":true,\"ticks\":\"\",\"zerolinecolor\":\"white\"},\"zaxis\":{\"backgroundcolor\":\"#E5ECF6\",\"gridcolor\":\"white\",\"gridwidth\":2,\"linecolor\":\"white\",\"showbackground\":true,\"ticks\":\"\",\"zerolinecolor\":\"white\"}},\"shapedefaults\":{\"line\":{\"color\":\"#2a3f5f\"}},\"ternary\":{\"aaxis\":{\"gridcolor\":\"white\",\"linecolor\":\"white\",\"ticks\":\"\"},\"baxis\":{\"gridcolor\":\"white\",\"linecolor\":\"white\",\"ticks\":\"\"},\"bgcolor\":\"#E5ECF6\",\"caxis\":{\"gridcolor\":\"white\",\"linecolor\":\"white\",\"ticks\":\"\"}},\"title\":{\"x\":0.05},\"xaxis\":{\"automargin\":true,\"gridcolor\":\"white\",\"linecolor\":\"white\",\"ticks\":\"\",\"title\":{\"standoff\":15},\"zerolinecolor\":\"white\",\"zerolinewidth\":2},\"yaxis\":{\"automargin\":true,\"gridcolor\":\"white\",\"linecolor\":\"white\",\"ticks\":\"\",\"title\":{\"standoff\":15},\"zerolinecolor\":\"white\",\"zerolinewidth\":2}}},\"xaxis\":{\"anchor\":\"y\",\"domain\":[0.0,1.0],\"title\":{\"text\":\"Year\"},\"showgrid\":false},\"yaxis\":{\"anchor\":\"x\",\"domain\":[0.0,1.0],\"title\":{\"text\":\"Gained Subscribers\"},\"showgrid\":false,\"categoryorder\":\"total ascending\",\"ticksuffix\":\" \",\"showline\":false},\"legend\":{\"tracegroupgap\":0,\"orientation\":\"h\",\"yanchor\":\"bottom\",\"y\":1,\"xanchor\":\"center\",\"x\":0.5},\"title\":{\"text\":\"Which Year higest gained subscribers\",\"font\":{\"size\":25,\"color\":\"#8a8d93\",\"family\":\"Lato, sans-serif\"}},\"barmode\":\"relative\",\"margin\":{\"t\":80,\"b\":0,\"l\":70,\"r\":40},\"font\":{\"color\":\"#8a8d93\"},\"hoverlabel\":{\"font\":{\"size\":13,\"family\":\"Lato, sans-serif\"},\"bgcolor\":\"black\"},\"hovermode\":\"y unified\",\"height\":400,\"plot_bgcolor\":\"#333\",\"paper_bgcolor\":\"#333\"},                        {\"responsive\": true}                    ).then(function(){\n",
       "                            \n",
       "var gd = document.getElementById('bb0c865d-87e8-4f72-ab38-88f66232e724');\n",
       "var x = new MutationObserver(function (mutations, observer) {{\n",
       "        var display = window.getComputedStyle(gd).display;\n",
       "        if (!display || display === 'none') {{\n",
       "            console.log([gd, 'removed!']);\n",
       "            Plotly.purge(gd);\n",
       "            observer.disconnect();\n",
       "        }}\n",
       "}});\n",
       "\n",
       "// Listen for the removal of the full notebook cells\n",
       "var notebookContainer = gd.closest('#notebook-container');\n",
       "if (notebookContainer) {{\n",
       "    x.observe(notebookContainer, {childList: true});\n",
       "}}\n",
       "\n",
       "// Listen for the clearing of the current output cell\n",
       "var outputEl = gd.closest('.output');\n",
       "if (outputEl) {{\n",
       "    x.observe(outputEl, {childList: true});\n",
       "}}\n",
       "\n",
       "                        })                };                });            </script>        </div>"
      ]
     },
     "metadata": {},
     "output_type": "display_data"
    }
   ],
   "source": [
    "gained=df2.groupby([\"Year\"])[\"Sub­scribers gained\"].sum().sort_values(ascending=False).reset_index()\n",
    "\n",
    "fig=px.bar(gained,x=\"Year\",y=\"Sub­scribers gained\",title=\"Which Year higest gained subscribers\",color_discrete_sequence=[\"maroon\"],text=\"Sub­scribers gained\")\n",
    "\n",
    "fig.update_xaxes(showgrid=False)\n",
    "\n",
    "fig.update_yaxes(showgrid=False, categoryorder='total ascending', ticksuffix=' ', showline=False)\n",
    "\n",
    "fig.update_traces(hovertemplate=None, marker=dict(line=dict(width=0)))\n",
    "\n",
    "fig.update_layout(margin=dict(t=80, b=0, l=70, r=40),hovermode=\"y unified\",\n",
    "                  xaxis_title='Year', yaxis_title=\"Gained Subscribers\", height=400,plot_bgcolor='#333', paper_bgcolor='#333',\n",
    "title_font=dict(size=25, color='#8a8d93', family=\"Lato, sans-serif\"),\n",
    "font=dict(color='#8a8d93'),\n",
    "                  legend=dict(orientation=\"h\", yanchor=\"bottom\", y=1, xanchor=\"center\", x=0.5),\n",
    "                  hoverlabel=dict(bgcolor=\"black\", font_size=13, font_family=\"Lato, sans-serif\"))\n",
    "                  \n",
    "\n",
    "fig.show()\n"
   ]
  },
  {
   "cell_type": "markdown",
   "id": "c089e435",
   "metadata": {
    "papermill": {
     "duration": 0.073175,
     "end_time": "2023-12-19T20:14:45.402277",
     "exception": false,
     "start_time": "2023-12-19T20:14:45.329102",
     "status": "completed"
    },
    "tags": []
   },
   "source": [
    "# Which Month is Most Views:"
   ]
  },
  {
   "cell_type": "code",
   "execution_count": 41,
   "id": "02a6d0ad",
   "metadata": {
    "execution": {
     "iopub.execute_input": "2023-12-19T20:14:45.550924Z",
     "iopub.status.busy": "2023-12-19T20:14:45.550358Z",
     "iopub.status.idle": "2023-12-19T20:14:45.619335Z",
     "shell.execute_reply": "2023-12-19T20:14:45.618884Z",
     "shell.execute_reply.started": "2022-03-20T04:17:06.644391Z"
    },
    "papermill": {
     "duration": 0.14527,
     "end_time": "2023-12-19T20:14:45.619445",
     "exception": false,
     "start_time": "2023-12-19T20:14:45.474175",
     "status": "completed"
    },
    "tags": []
   },
   "outputs": [
    {
     "data": {
      "text/html": [
       "<div>                            <div id=\"98524f5e-3362-4aea-96b3-4af13ad2bad9\" class=\"plotly-graph-div\" style=\"height:400px; width:100%;\"></div>            <script type=\"text/javascript\">                require([\"plotly\"], function(Plotly) {                    window.PLOTLYENV=window.PLOTLYENV || {};                                    if (document.getElementById(\"98524f5e-3362-4aea-96b3-4af13ad2bad9\")) {                    Plotly.newPlot(                        \"98524f5e-3362-4aea-96b3-4af13ad2bad9\",                        [{\"legendgroup\":\"\",\"marker\":{\"color\":\"blue\",\"symbol\":\"circle\",\"line\":{\"width\":0}},\"mode\":\"markers\",\"name\":\"\",\"orientation\":\"v\",\"showlegend\":false,\"x\":[\"May\",\"April\",\"December\",\"February\",\"July\",\"March\",\"January\",\"August\",\"November\",\"September\",\"June\",\"October\"],\"xaxis\":\"x\",\"y\":[1539416,672408,544119,542407,534029,480468,323209,283450,249167,153423,141162,101616],\"yaxis\":\"y\",\"type\":\"scatter\"}],                        {\"template\":{\"data\":{\"bar\":[{\"error_x\":{\"color\":\"#2a3f5f\"},\"error_y\":{\"color\":\"#2a3f5f\"},\"marker\":{\"line\":{\"color\":\"#E5ECF6\",\"width\":0.5},\"pattern\":{\"fillmode\":\"overlay\",\"size\":10,\"solidity\":0.2}},\"type\":\"bar\"}],\"barpolar\":[{\"marker\":{\"line\":{\"color\":\"#E5ECF6\",\"width\":0.5},\"pattern\":{\"fillmode\":\"overlay\",\"size\":10,\"solidity\":0.2}},\"type\":\"barpolar\"}],\"carpet\":[{\"aaxis\":{\"endlinecolor\":\"#2a3f5f\",\"gridcolor\":\"white\",\"linecolor\":\"white\",\"minorgridcolor\":\"white\",\"startlinecolor\":\"#2a3f5f\"},\"baxis\":{\"endlinecolor\":\"#2a3f5f\",\"gridcolor\":\"white\",\"linecolor\":\"white\",\"minorgridcolor\":\"white\",\"startlinecolor\":\"#2a3f5f\"},\"type\":\"carpet\"}],\"choropleth\":[{\"colorbar\":{\"outlinewidth\":0,\"ticks\":\"\"},\"type\":\"choropleth\"}],\"contour\":[{\"colorbar\":{\"outlinewidth\":0,\"ticks\":\"\"},\"colorscale\":[[0.0,\"#0d0887\"],[0.1111111111111111,\"#46039f\"],[0.2222222222222222,\"#7201a8\"],[0.3333333333333333,\"#9c179e\"],[0.4444444444444444,\"#bd3786\"],[0.5555555555555556,\"#d8576b\"],[0.6666666666666666,\"#ed7953\"],[0.7777777777777778,\"#fb9f3a\"],[0.8888888888888888,\"#fdca26\"],[1.0,\"#f0f921\"]],\"type\":\"contour\"}],\"contourcarpet\":[{\"colorbar\":{\"outlinewidth\":0,\"ticks\":\"\"},\"type\":\"contourcarpet\"}],\"heatmap\":[{\"colorbar\":{\"outlinewidth\":0,\"ticks\":\"\"},\"colorscale\":[[0.0,\"#0d0887\"],[0.1111111111111111,\"#46039f\"],[0.2222222222222222,\"#7201a8\"],[0.3333333333333333,\"#9c179e\"],[0.4444444444444444,\"#bd3786\"],[0.5555555555555556,\"#d8576b\"],[0.6666666666666666,\"#ed7953\"],[0.7777777777777778,\"#fb9f3a\"],[0.8888888888888888,\"#fdca26\"],[1.0,\"#f0f921\"]],\"type\":\"heatmap\"}],\"heatmapgl\":[{\"colorbar\":{\"outlinewidth\":0,\"ticks\":\"\"},\"colorscale\":[[0.0,\"#0d0887\"],[0.1111111111111111,\"#46039f\"],[0.2222222222222222,\"#7201a8\"],[0.3333333333333333,\"#9c179e\"],[0.4444444444444444,\"#bd3786\"],[0.5555555555555556,\"#d8576b\"],[0.6666666666666666,\"#ed7953\"],[0.7777777777777778,\"#fb9f3a\"],[0.8888888888888888,\"#fdca26\"],[1.0,\"#f0f921\"]],\"type\":\"heatmapgl\"}],\"histogram\":[{\"marker\":{\"pattern\":{\"fillmode\":\"overlay\",\"size\":10,\"solidity\":0.2}},\"type\":\"histogram\"}],\"histogram2d\":[{\"colorbar\":{\"outlinewidth\":0,\"ticks\":\"\"},\"colorscale\":[[0.0,\"#0d0887\"],[0.1111111111111111,\"#46039f\"],[0.2222222222222222,\"#7201a8\"],[0.3333333333333333,\"#9c179e\"],[0.4444444444444444,\"#bd3786\"],[0.5555555555555556,\"#d8576b\"],[0.6666666666666666,\"#ed7953\"],[0.7777777777777778,\"#fb9f3a\"],[0.8888888888888888,\"#fdca26\"],[1.0,\"#f0f921\"]],\"type\":\"histogram2d\"}],\"histogram2dcontour\":[{\"colorbar\":{\"outlinewidth\":0,\"ticks\":\"\"},\"colorscale\":[[0.0,\"#0d0887\"],[0.1111111111111111,\"#46039f\"],[0.2222222222222222,\"#7201a8\"],[0.3333333333333333,\"#9c179e\"],[0.4444444444444444,\"#bd3786\"],[0.5555555555555556,\"#d8576b\"],[0.6666666666666666,\"#ed7953\"],[0.7777777777777778,\"#fb9f3a\"],[0.8888888888888888,\"#fdca26\"],[1.0,\"#f0f921\"]],\"type\":\"histogram2dcontour\"}],\"mesh3d\":[{\"colorbar\":{\"outlinewidth\":0,\"ticks\":\"\"},\"type\":\"mesh3d\"}],\"parcoords\":[{\"line\":{\"colorbar\":{\"outlinewidth\":0,\"ticks\":\"\"}},\"type\":\"parcoords\"}],\"pie\":[{\"automargin\":true,\"type\":\"pie\"}],\"scatter\":[{\"marker\":{\"colorbar\":{\"outlinewidth\":0,\"ticks\":\"\"}},\"type\":\"scatter\"}],\"scatter3d\":[{\"line\":{\"colorbar\":{\"outlinewidth\":0,\"ticks\":\"\"}},\"marker\":{\"colorbar\":{\"outlinewidth\":0,\"ticks\":\"\"}},\"type\":\"scatter3d\"}],\"scattercarpet\":[{\"marker\":{\"colorbar\":{\"outlinewidth\":0,\"ticks\":\"\"}},\"type\":\"scattercarpet\"}],\"scattergeo\":[{\"marker\":{\"colorbar\":{\"outlinewidth\":0,\"ticks\":\"\"}},\"type\":\"scattergeo\"}],\"scattergl\":[{\"marker\":{\"colorbar\":{\"outlinewidth\":0,\"ticks\":\"\"}},\"type\":\"scattergl\"}],\"scattermapbox\":[{\"marker\":{\"colorbar\":{\"outlinewidth\":0,\"ticks\":\"\"}},\"type\":\"scattermapbox\"}],\"scatterpolar\":[{\"marker\":{\"colorbar\":{\"outlinewidth\":0,\"ticks\":\"\"}},\"type\":\"scatterpolar\"}],\"scatterpolargl\":[{\"marker\":{\"colorbar\":{\"outlinewidth\":0,\"ticks\":\"\"}},\"type\":\"scatterpolargl\"}],\"scatterternary\":[{\"marker\":{\"colorbar\":{\"outlinewidth\":0,\"ticks\":\"\"}},\"type\":\"scatterternary\"}],\"surface\":[{\"colorbar\":{\"outlinewidth\":0,\"ticks\":\"\"},\"colorscale\":[[0.0,\"#0d0887\"],[0.1111111111111111,\"#46039f\"],[0.2222222222222222,\"#7201a8\"],[0.3333333333333333,\"#9c179e\"],[0.4444444444444444,\"#bd3786\"],[0.5555555555555556,\"#d8576b\"],[0.6666666666666666,\"#ed7953\"],[0.7777777777777778,\"#fb9f3a\"],[0.8888888888888888,\"#fdca26\"],[1.0,\"#f0f921\"]],\"type\":\"surface\"}],\"table\":[{\"cells\":{\"fill\":{\"color\":\"#EBF0F8\"},\"line\":{\"color\":\"white\"}},\"header\":{\"fill\":{\"color\":\"#C8D4E3\"},\"line\":{\"color\":\"white\"}},\"type\":\"table\"}]},\"layout\":{\"annotationdefaults\":{\"arrowcolor\":\"#2a3f5f\",\"arrowhead\":0,\"arrowwidth\":1},\"autotypenumbers\":\"strict\",\"coloraxis\":{\"colorbar\":{\"outlinewidth\":0,\"ticks\":\"\"}},\"colorscale\":{\"diverging\":[[0,\"#8e0152\"],[0.1,\"#c51b7d\"],[0.2,\"#de77ae\"],[0.3,\"#f1b6da\"],[0.4,\"#fde0ef\"],[0.5,\"#f7f7f7\"],[0.6,\"#e6f5d0\"],[0.7,\"#b8e186\"],[0.8,\"#7fbc41\"],[0.9,\"#4d9221\"],[1,\"#276419\"]],\"sequential\":[[0.0,\"#0d0887\"],[0.1111111111111111,\"#46039f\"],[0.2222222222222222,\"#7201a8\"],[0.3333333333333333,\"#9c179e\"],[0.4444444444444444,\"#bd3786\"],[0.5555555555555556,\"#d8576b\"],[0.6666666666666666,\"#ed7953\"],[0.7777777777777778,\"#fb9f3a\"],[0.8888888888888888,\"#fdca26\"],[1.0,\"#f0f921\"]],\"sequentialminus\":[[0.0,\"#0d0887\"],[0.1111111111111111,\"#46039f\"],[0.2222222222222222,\"#7201a8\"],[0.3333333333333333,\"#9c179e\"],[0.4444444444444444,\"#bd3786\"],[0.5555555555555556,\"#d8576b\"],[0.6666666666666666,\"#ed7953\"],[0.7777777777777778,\"#fb9f3a\"],[0.8888888888888888,\"#fdca26\"],[1.0,\"#f0f921\"]]},\"colorway\":[\"#636efa\",\"#EF553B\",\"#00cc96\",\"#ab63fa\",\"#FFA15A\",\"#19d3f3\",\"#FF6692\",\"#B6E880\",\"#FF97FF\",\"#FECB52\"],\"font\":{\"color\":\"#2a3f5f\"},\"geo\":{\"bgcolor\":\"white\",\"lakecolor\":\"white\",\"landcolor\":\"#E5ECF6\",\"showlakes\":true,\"showland\":true,\"subunitcolor\":\"white\"},\"hoverlabel\":{\"align\":\"left\"},\"hovermode\":\"closest\",\"mapbox\":{\"style\":\"light\"},\"paper_bgcolor\":\"white\",\"plot_bgcolor\":\"#E5ECF6\",\"polar\":{\"angularaxis\":{\"gridcolor\":\"white\",\"linecolor\":\"white\",\"ticks\":\"\"},\"bgcolor\":\"#E5ECF6\",\"radialaxis\":{\"gridcolor\":\"white\",\"linecolor\":\"white\",\"ticks\":\"\"}},\"scene\":{\"xaxis\":{\"backgroundcolor\":\"#E5ECF6\",\"gridcolor\":\"white\",\"gridwidth\":2,\"linecolor\":\"white\",\"showbackground\":true,\"ticks\":\"\",\"zerolinecolor\":\"white\"},\"yaxis\":{\"backgroundcolor\":\"#E5ECF6\",\"gridcolor\":\"white\",\"gridwidth\":2,\"linecolor\":\"white\",\"showbackground\":true,\"ticks\":\"\",\"zerolinecolor\":\"white\"},\"zaxis\":{\"backgroundcolor\":\"#E5ECF6\",\"gridcolor\":\"white\",\"gridwidth\":2,\"linecolor\":\"white\",\"showbackground\":true,\"ticks\":\"\",\"zerolinecolor\":\"white\"}},\"shapedefaults\":{\"line\":{\"color\":\"#2a3f5f\"}},\"ternary\":{\"aaxis\":{\"gridcolor\":\"white\",\"linecolor\":\"white\",\"ticks\":\"\"},\"baxis\":{\"gridcolor\":\"white\",\"linecolor\":\"white\",\"ticks\":\"\"},\"bgcolor\":\"#E5ECF6\",\"caxis\":{\"gridcolor\":\"white\",\"linecolor\":\"white\",\"ticks\":\"\"}},\"title\":{\"x\":0.05},\"xaxis\":{\"automargin\":true,\"gridcolor\":\"white\",\"linecolor\":\"white\",\"ticks\":\"\",\"title\":{\"standoff\":15},\"zerolinecolor\":\"white\",\"zerolinewidth\":2},\"yaxis\":{\"automargin\":true,\"gridcolor\":\"white\",\"linecolor\":\"white\",\"ticks\":\"\",\"title\":{\"standoff\":15},\"zerolinecolor\":\"white\",\"zerolinewidth\":2}}},\"xaxis\":{\"anchor\":\"y\",\"domain\":[0.0,1.0],\"title\":{\"text\":\"Year\"},\"showgrid\":false},\"yaxis\":{\"anchor\":\"x\",\"domain\":[0.0,1.0],\"title\":{\"text\":\"Views\"},\"showgrid\":false,\"categoryorder\":\"total ascending\",\"ticksuffix\":\" \",\"showline\":false},\"legend\":{\"tracegroupgap\":0,\"orientation\":\"h\",\"yanchor\":\"bottom\",\"y\":1,\"xanchor\":\"center\",\"x\":0.5},\"title\":{\"text\":\"Which Month is higest Views\",\"font\":{\"size\":25,\"color\":\"#8a8d93\",\"family\":\"Lato, sans-serif\"}},\"margin\":{\"t\":80,\"b\":0,\"l\":70,\"r\":40},\"font\":{\"color\":\"#8a8d93\"},\"hoverlabel\":{\"font\":{\"size\":13,\"family\":\"Lato, sans-serif\"},\"bgcolor\":\"black\"},\"hovermode\":\"y unified\",\"height\":400,\"plot_bgcolor\":\"#333\",\"paper_bgcolor\":\"#333\"},                        {\"responsive\": true}                    ).then(function(){\n",
       "                            \n",
       "var gd = document.getElementById('98524f5e-3362-4aea-96b3-4af13ad2bad9');\n",
       "var x = new MutationObserver(function (mutations, observer) {{\n",
       "        var display = window.getComputedStyle(gd).display;\n",
       "        if (!display || display === 'none') {{\n",
       "            console.log([gd, 'removed!']);\n",
       "            Plotly.purge(gd);\n",
       "            observer.disconnect();\n",
       "        }}\n",
       "}});\n",
       "\n",
       "// Listen for the removal of the full notebook cells\n",
       "var notebookContainer = gd.closest('#notebook-container');\n",
       "if (notebookContainer) {{\n",
       "    x.observe(notebookContainer, {childList: true});\n",
       "}}\n",
       "\n",
       "// Listen for the clearing of the current output cell\n",
       "var outputEl = gd.closest('.output');\n",
       "if (outputEl) {{\n",
       "    x.observe(outputEl, {childList: true});\n",
       "}}\n",
       "\n",
       "                        })                };                });            </script>        </div>"
      ]
     },
     "metadata": {},
     "output_type": "display_data"
    }
   ],
   "source": [
    "month=df2.groupby([\"Month_name\"])[\"Views\"].sum().sort_values(ascending=False).reset_index()\n",
    "\n",
    "fig=px.scatter(month,x=\"Month_name\",y=\"Views\",title=\"Which Month is higest Views\",color_discrete_sequence=[\"blue\"])\n",
    "\n",
    "fig.update_xaxes(showgrid=False)\n",
    "\n",
    "fig.update_yaxes(showgrid=False, categoryorder='total ascending', ticksuffix=' ', showline=False)\n",
    "\n",
    "fig.update_traces(hovertemplate=None, marker=dict(line=dict(width=0)))\n",
    "\n",
    "fig.update_layout(margin=dict(t=80, b=0, l=70, r=40),hovermode=\"y unified\",\n",
    "                  xaxis_title='Year', yaxis_title=\"Views\", height=400,plot_bgcolor='#333', paper_bgcolor='#333',\n",
    "title_font=dict(size=25, color='#8a8d93', family=\"Lato, sans-serif\"),\n",
    "font=dict(color='#8a8d93'),\n",
    "                  legend=dict(orientation=\"h\", yanchor=\"bottom\", y=1, xanchor=\"center\", x=0.5),\n",
    "                  hoverlabel=dict(bgcolor=\"black\", font_size=13, font_family=\"Lato, sans-serif\"))\n",
    "                  \n",
    "\n",
    "fig.show()\n"
   ]
  },
  {
   "cell_type": "markdown",
   "id": "d5333b78",
   "metadata": {
    "papermill": {
     "duration": 0.07413,
     "end_time": "2023-12-19T20:14:45.769522",
     "exception": false,
     "start_time": "2023-12-19T20:14:45.695392",
     "status": "completed"
    },
    "tags": []
   },
   "source": [
    "# Estimated revenue(USD) Vs Years:"
   ]
  },
  {
   "cell_type": "code",
   "execution_count": 42,
   "id": "33c09419",
   "metadata": {
    "execution": {
     "iopub.execute_input": "2023-12-19T20:14:45.929611Z",
     "iopub.status.busy": "2023-12-19T20:14:45.928820Z",
     "iopub.status.idle": "2023-12-19T20:14:45.992976Z",
     "shell.execute_reply": "2023-12-19T20:14:45.992469Z",
     "shell.execute_reply.started": "2022-03-20T04:17:07.538656Z"
    },
    "papermill": {
     "duration": 0.149373,
     "end_time": "2023-12-19T20:14:45.993097",
     "exception": false,
     "start_time": "2023-12-19T20:14:45.843724",
     "status": "completed"
    },
    "tags": []
   },
   "outputs": [
    {
     "data": {
      "text/html": [
       "<div>                            <div id=\"06f21ac1-ecd2-48ea-a331-f8bb55f8089d\" class=\"plotly-graph-div\" style=\"height:400px; width:100%;\"></div>            <script type=\"text/javascript\">                require([\"plotly\"], function(Plotly) {                    window.PLOTLYENV=window.PLOTLYENV || {};                                    if (document.getElementById(\"06f21ac1-ecd2-48ea-a331-f8bb55f8089d\")) {                    Plotly.newPlot(                        \"06f21ac1-ecd2-48ea-a331-f8bb55f8089d\",                        [{\"alignmentgroup\":\"True\",\"legendgroup\":\"\",\"marker\":{\"color\":\"maroon\",\"pattern\":{\"shape\":\"\"},\"line\":{\"width\":0}},\"name\":\"\",\"offsetgroup\":\"\",\"orientation\":\"v\",\"showlegend\":false,\"textposition\":\"auto\",\"x\":[2020,2021,2019,2018,2022,2017],\"xaxis\":\"x\",\"y\":[21274.964,3997.443,3384.262,247.78199999999998,141.335,21.944],\"yaxis\":\"y\",\"type\":\"bar\"}],                        {\"template\":{\"data\":{\"bar\":[{\"error_x\":{\"color\":\"#2a3f5f\"},\"error_y\":{\"color\":\"#2a3f5f\"},\"marker\":{\"line\":{\"color\":\"#E5ECF6\",\"width\":0.5},\"pattern\":{\"fillmode\":\"overlay\",\"size\":10,\"solidity\":0.2}},\"type\":\"bar\"}],\"barpolar\":[{\"marker\":{\"line\":{\"color\":\"#E5ECF6\",\"width\":0.5},\"pattern\":{\"fillmode\":\"overlay\",\"size\":10,\"solidity\":0.2}},\"type\":\"barpolar\"}],\"carpet\":[{\"aaxis\":{\"endlinecolor\":\"#2a3f5f\",\"gridcolor\":\"white\",\"linecolor\":\"white\",\"minorgridcolor\":\"white\",\"startlinecolor\":\"#2a3f5f\"},\"baxis\":{\"endlinecolor\":\"#2a3f5f\",\"gridcolor\":\"white\",\"linecolor\":\"white\",\"minorgridcolor\":\"white\",\"startlinecolor\":\"#2a3f5f\"},\"type\":\"carpet\"}],\"choropleth\":[{\"colorbar\":{\"outlinewidth\":0,\"ticks\":\"\"},\"type\":\"choropleth\"}],\"contour\":[{\"colorbar\":{\"outlinewidth\":0,\"ticks\":\"\"},\"colorscale\":[[0.0,\"#0d0887\"],[0.1111111111111111,\"#46039f\"],[0.2222222222222222,\"#7201a8\"],[0.3333333333333333,\"#9c179e\"],[0.4444444444444444,\"#bd3786\"],[0.5555555555555556,\"#d8576b\"],[0.6666666666666666,\"#ed7953\"],[0.7777777777777778,\"#fb9f3a\"],[0.8888888888888888,\"#fdca26\"],[1.0,\"#f0f921\"]],\"type\":\"contour\"}],\"contourcarpet\":[{\"colorbar\":{\"outlinewidth\":0,\"ticks\":\"\"},\"type\":\"contourcarpet\"}],\"heatmap\":[{\"colorbar\":{\"outlinewidth\":0,\"ticks\":\"\"},\"colorscale\":[[0.0,\"#0d0887\"],[0.1111111111111111,\"#46039f\"],[0.2222222222222222,\"#7201a8\"],[0.3333333333333333,\"#9c179e\"],[0.4444444444444444,\"#bd3786\"],[0.5555555555555556,\"#d8576b\"],[0.6666666666666666,\"#ed7953\"],[0.7777777777777778,\"#fb9f3a\"],[0.8888888888888888,\"#fdca26\"],[1.0,\"#f0f921\"]],\"type\":\"heatmap\"}],\"heatmapgl\":[{\"colorbar\":{\"outlinewidth\":0,\"ticks\":\"\"},\"colorscale\":[[0.0,\"#0d0887\"],[0.1111111111111111,\"#46039f\"],[0.2222222222222222,\"#7201a8\"],[0.3333333333333333,\"#9c179e\"],[0.4444444444444444,\"#bd3786\"],[0.5555555555555556,\"#d8576b\"],[0.6666666666666666,\"#ed7953\"],[0.7777777777777778,\"#fb9f3a\"],[0.8888888888888888,\"#fdca26\"],[1.0,\"#f0f921\"]],\"type\":\"heatmapgl\"}],\"histogram\":[{\"marker\":{\"pattern\":{\"fillmode\":\"overlay\",\"size\":10,\"solidity\":0.2}},\"type\":\"histogram\"}],\"histogram2d\":[{\"colorbar\":{\"outlinewidth\":0,\"ticks\":\"\"},\"colorscale\":[[0.0,\"#0d0887\"],[0.1111111111111111,\"#46039f\"],[0.2222222222222222,\"#7201a8\"],[0.3333333333333333,\"#9c179e\"],[0.4444444444444444,\"#bd3786\"],[0.5555555555555556,\"#d8576b\"],[0.6666666666666666,\"#ed7953\"],[0.7777777777777778,\"#fb9f3a\"],[0.8888888888888888,\"#fdca26\"],[1.0,\"#f0f921\"]],\"type\":\"histogram2d\"}],\"histogram2dcontour\":[{\"colorbar\":{\"outlinewidth\":0,\"ticks\":\"\"},\"colorscale\":[[0.0,\"#0d0887\"],[0.1111111111111111,\"#46039f\"],[0.2222222222222222,\"#7201a8\"],[0.3333333333333333,\"#9c179e\"],[0.4444444444444444,\"#bd3786\"],[0.5555555555555556,\"#d8576b\"],[0.6666666666666666,\"#ed7953\"],[0.7777777777777778,\"#fb9f3a\"],[0.8888888888888888,\"#fdca26\"],[1.0,\"#f0f921\"]],\"type\":\"histogram2dcontour\"}],\"mesh3d\":[{\"colorbar\":{\"outlinewidth\":0,\"ticks\":\"\"},\"type\":\"mesh3d\"}],\"parcoords\":[{\"line\":{\"colorbar\":{\"outlinewidth\":0,\"ticks\":\"\"}},\"type\":\"parcoords\"}],\"pie\":[{\"automargin\":true,\"type\":\"pie\"}],\"scatter\":[{\"marker\":{\"colorbar\":{\"outlinewidth\":0,\"ticks\":\"\"}},\"type\":\"scatter\"}],\"scatter3d\":[{\"line\":{\"colorbar\":{\"outlinewidth\":0,\"ticks\":\"\"}},\"marker\":{\"colorbar\":{\"outlinewidth\":0,\"ticks\":\"\"}},\"type\":\"scatter3d\"}],\"scattercarpet\":[{\"marker\":{\"colorbar\":{\"outlinewidth\":0,\"ticks\":\"\"}},\"type\":\"scattercarpet\"}],\"scattergeo\":[{\"marker\":{\"colorbar\":{\"outlinewidth\":0,\"ticks\":\"\"}},\"type\":\"scattergeo\"}],\"scattergl\":[{\"marker\":{\"colorbar\":{\"outlinewidth\":0,\"ticks\":\"\"}},\"type\":\"scattergl\"}],\"scattermapbox\":[{\"marker\":{\"colorbar\":{\"outlinewidth\":0,\"ticks\":\"\"}},\"type\":\"scattermapbox\"}],\"scatterpolar\":[{\"marker\":{\"colorbar\":{\"outlinewidth\":0,\"ticks\":\"\"}},\"type\":\"scatterpolar\"}],\"scatterpolargl\":[{\"marker\":{\"colorbar\":{\"outlinewidth\":0,\"ticks\":\"\"}},\"type\":\"scatterpolargl\"}],\"scatterternary\":[{\"marker\":{\"colorbar\":{\"outlinewidth\":0,\"ticks\":\"\"}},\"type\":\"scatterternary\"}],\"surface\":[{\"colorbar\":{\"outlinewidth\":0,\"ticks\":\"\"},\"colorscale\":[[0.0,\"#0d0887\"],[0.1111111111111111,\"#46039f\"],[0.2222222222222222,\"#7201a8\"],[0.3333333333333333,\"#9c179e\"],[0.4444444444444444,\"#bd3786\"],[0.5555555555555556,\"#d8576b\"],[0.6666666666666666,\"#ed7953\"],[0.7777777777777778,\"#fb9f3a\"],[0.8888888888888888,\"#fdca26\"],[1.0,\"#f0f921\"]],\"type\":\"surface\"}],\"table\":[{\"cells\":{\"fill\":{\"color\":\"#EBF0F8\"},\"line\":{\"color\":\"white\"}},\"header\":{\"fill\":{\"color\":\"#C8D4E3\"},\"line\":{\"color\":\"white\"}},\"type\":\"table\"}]},\"layout\":{\"annotationdefaults\":{\"arrowcolor\":\"#2a3f5f\",\"arrowhead\":0,\"arrowwidth\":1},\"autotypenumbers\":\"strict\",\"coloraxis\":{\"colorbar\":{\"outlinewidth\":0,\"ticks\":\"\"}},\"colorscale\":{\"diverging\":[[0,\"#8e0152\"],[0.1,\"#c51b7d\"],[0.2,\"#de77ae\"],[0.3,\"#f1b6da\"],[0.4,\"#fde0ef\"],[0.5,\"#f7f7f7\"],[0.6,\"#e6f5d0\"],[0.7,\"#b8e186\"],[0.8,\"#7fbc41\"],[0.9,\"#4d9221\"],[1,\"#276419\"]],\"sequential\":[[0.0,\"#0d0887\"],[0.1111111111111111,\"#46039f\"],[0.2222222222222222,\"#7201a8\"],[0.3333333333333333,\"#9c179e\"],[0.4444444444444444,\"#bd3786\"],[0.5555555555555556,\"#d8576b\"],[0.6666666666666666,\"#ed7953\"],[0.7777777777777778,\"#fb9f3a\"],[0.8888888888888888,\"#fdca26\"],[1.0,\"#f0f921\"]],\"sequentialminus\":[[0.0,\"#0d0887\"],[0.1111111111111111,\"#46039f\"],[0.2222222222222222,\"#7201a8\"],[0.3333333333333333,\"#9c179e\"],[0.4444444444444444,\"#bd3786\"],[0.5555555555555556,\"#d8576b\"],[0.6666666666666666,\"#ed7953\"],[0.7777777777777778,\"#fb9f3a\"],[0.8888888888888888,\"#fdca26\"],[1.0,\"#f0f921\"]]},\"colorway\":[\"#636efa\",\"#EF553B\",\"#00cc96\",\"#ab63fa\",\"#FFA15A\",\"#19d3f3\",\"#FF6692\",\"#B6E880\",\"#FF97FF\",\"#FECB52\"],\"font\":{\"color\":\"#2a3f5f\"},\"geo\":{\"bgcolor\":\"white\",\"lakecolor\":\"white\",\"landcolor\":\"#E5ECF6\",\"showlakes\":true,\"showland\":true,\"subunitcolor\":\"white\"},\"hoverlabel\":{\"align\":\"left\"},\"hovermode\":\"closest\",\"mapbox\":{\"style\":\"light\"},\"paper_bgcolor\":\"white\",\"plot_bgcolor\":\"#E5ECF6\",\"polar\":{\"angularaxis\":{\"gridcolor\":\"white\",\"linecolor\":\"white\",\"ticks\":\"\"},\"bgcolor\":\"#E5ECF6\",\"radialaxis\":{\"gridcolor\":\"white\",\"linecolor\":\"white\",\"ticks\":\"\"}},\"scene\":{\"xaxis\":{\"backgroundcolor\":\"#E5ECF6\",\"gridcolor\":\"white\",\"gridwidth\":2,\"linecolor\":\"white\",\"showbackground\":true,\"ticks\":\"\",\"zerolinecolor\":\"white\"},\"yaxis\":{\"backgroundcolor\":\"#E5ECF6\",\"gridcolor\":\"white\",\"gridwidth\":2,\"linecolor\":\"white\",\"showbackground\":true,\"ticks\":\"\",\"zerolinecolor\":\"white\"},\"zaxis\":{\"backgroundcolor\":\"#E5ECF6\",\"gridcolor\":\"white\",\"gridwidth\":2,\"linecolor\":\"white\",\"showbackground\":true,\"ticks\":\"\",\"zerolinecolor\":\"white\"}},\"shapedefaults\":{\"line\":{\"color\":\"#2a3f5f\"}},\"ternary\":{\"aaxis\":{\"gridcolor\":\"white\",\"linecolor\":\"white\",\"ticks\":\"\"},\"baxis\":{\"gridcolor\":\"white\",\"linecolor\":\"white\",\"ticks\":\"\"},\"bgcolor\":\"#E5ECF6\",\"caxis\":{\"gridcolor\":\"white\",\"linecolor\":\"white\",\"ticks\":\"\"}},\"title\":{\"x\":0.05},\"xaxis\":{\"automargin\":true,\"gridcolor\":\"white\",\"linecolor\":\"white\",\"ticks\":\"\",\"title\":{\"standoff\":15},\"zerolinecolor\":\"white\",\"zerolinewidth\":2},\"yaxis\":{\"automargin\":true,\"gridcolor\":\"white\",\"linecolor\":\"white\",\"ticks\":\"\",\"title\":{\"standoff\":15},\"zerolinecolor\":\"white\",\"zerolinewidth\":2}}},\"xaxis\":{\"anchor\":\"y\",\"domain\":[0.0,1.0],\"title\":{\"text\":\" \"},\"showgrid\":false},\"yaxis\":{\"anchor\":\"x\",\"domain\":[0.0,1.0],\"title\":{\"text\":\" \"},\"showgrid\":false,\"categoryorder\":\"total ascending\",\"ticksuffix\":\" \",\"showline\":false},\"legend\":{\"tracegroupgap\":0,\"orientation\":\"h\",\"yanchor\":\"bottom\",\"y\":1,\"xanchor\":\"center\",\"x\":0.5},\"title\":{\"text\":\"Your estimated revenue(USD) according to Year\",\"font\":{\"size\":25,\"color\":\"#8a8d93\",\"family\":\"Lato, sans-serif\"}},\"barmode\":\"relative\",\"margin\":{\"t\":80,\"b\":0,\"l\":70,\"r\":40},\"font\":{\"color\":\"#8a8d93\"},\"hoverlabel\":{\"font\":{\"size\":13,\"family\":\"Lato, sans-serif\"},\"bgcolor\":\"black\"},\"hovermode\":\"y unified\",\"height\":400,\"plot_bgcolor\":\"#333\",\"paper_bgcolor\":\"#333\"},                        {\"responsive\": true}                    ).then(function(){\n",
       "                            \n",
       "var gd = document.getElementById('06f21ac1-ecd2-48ea-a331-f8bb55f8089d');\n",
       "var x = new MutationObserver(function (mutations, observer) {{\n",
       "        var display = window.getComputedStyle(gd).display;\n",
       "        if (!display || display === 'none') {{\n",
       "            console.log([gd, 'removed!']);\n",
       "            Plotly.purge(gd);\n",
       "            observer.disconnect();\n",
       "        }}\n",
       "}});\n",
       "\n",
       "// Listen for the removal of the full notebook cells\n",
       "var notebookContainer = gd.closest('#notebook-container');\n",
       "if (notebookContainer) {{\n",
       "    x.observe(notebookContainer, {childList: true});\n",
       "}}\n",
       "\n",
       "// Listen for the clearing of the current output cell\n",
       "var outputEl = gd.closest('.output');\n",
       "if (outputEl) {{\n",
       "    x.observe(outputEl, {childList: true});\n",
       "}}\n",
       "\n",
       "                        })                };                });            </script>        </div>"
      ]
     },
     "metadata": {},
     "output_type": "display_data"
    }
   ],
   "source": [
    "revenue=df2.groupby([\"Year\"])[\"Your es­tim­ated rev­en­ue (USD)\"].sum().sort_values(ascending=False).reset_index()\n",
    "\n",
    "fig=px.bar(revenue,x=\"Year\",y=\"Your es­tim­ated rev­en­ue (USD)\",title=\"Your estimated revenue(USD) according to Year\",color_discrete_sequence=['maroon'])\n",
    "\n",
    "fig.update_xaxes(showgrid=False)\n",
    "\n",
    "fig.update_yaxes(showgrid=False, categoryorder='total ascending', ticksuffix=' ', showline=False)\n",
    "\n",
    "fig.update_traces(hovertemplate=None, marker=dict(line=dict(width=0)))\n",
    "\n",
    "fig.update_layout(margin=dict(t=80, b=0, l=70, r=40),hovermode=\"y unified\",\n",
    "                  xaxis_title=' ', yaxis_title=\" \", height=400,plot_bgcolor='#333', paper_bgcolor='#333',\n",
    "title_font=dict(size=25, color='#8a8d93', family=\"Lato, sans-serif\"),\n",
    "font=dict(color='#8a8d93'),\n",
    "                  legend=dict(orientation=\"h\", yanchor=\"bottom\", y=1, xanchor=\"center\", x=0.5),\n",
    "                  hoverlabel=dict(bgcolor=\"black\", font_size=13, font_family=\"Lato, sans-serif\"))\n",
    "                  \n"
   ]
  },
  {
   "cell_type": "markdown",
   "id": "a8f6260d",
   "metadata": {
    "papermill": {
     "duration": 0.073075,
     "end_time": "2023-12-19T20:14:46.140407",
     "exception": false,
     "start_time": "2023-12-19T20:14:46.067332",
     "status": "completed"
    },
    "tags": []
   },
   "source": [
    "# Let's Show Only 2021 Information:"
   ]
  },
  {
   "cell_type": "markdown",
   "id": "f02fa048",
   "metadata": {
    "papermill": {
     "duration": 0.072811,
     "end_time": "2023-12-19T20:14:46.289400",
     "exception": false,
     "start_time": "2023-12-19T20:14:46.216589",
     "status": "completed"
    },
    "tags": []
   },
   "source": [
    "# Show the Which Month in 2021 is Most Views :"
   ]
  },
  {
   "cell_type": "code",
   "execution_count": 43,
   "id": "bc984cae",
   "metadata": {
    "execution": {
     "iopub.execute_input": "2023-12-19T20:14:46.513321Z",
     "iopub.status.busy": "2023-12-19T20:14:46.492402Z",
     "iopub.status.idle": "2023-12-19T20:14:46.520141Z",
     "shell.execute_reply": "2023-12-19T20:14:46.521176Z",
     "shell.execute_reply.started": "2022-03-20T04:17:08.852943Z"
    },
    "papermill": {
     "duration": 0.157801,
     "end_time": "2023-12-19T20:14:46.521382",
     "exception": false,
     "start_time": "2023-12-19T20:14:46.363581",
     "status": "completed"
    },
    "tags": []
   },
   "outputs": [
    {
     "data": {
      "text/html": [
       "<div>                            <div id=\"15f68aaa-32c7-476e-a14a-409eb245ba05\" class=\"plotly-graph-div\" style=\"height:400px; width:100%;\"></div>            <script type=\"text/javascript\">                require([\"plotly\"], function(Plotly) {                    window.PLOTLYENV=window.PLOTLYENV || {};                                    if (document.getElementById(\"15f68aaa-32c7-476e-a14a-409eb245ba05\")) {                    Plotly.newPlot(                        \"15f68aaa-32c7-476e-a14a-409eb245ba05\",                        [{\"legendgroup\":\"\",\"marker\":{\"color\":\"maroon\",\"symbol\":\"circle\",\"line\":{\"width\":0}},\"mode\":\"markers\",\"name\":\"\",\"orientation\":\"v\",\"showlegend\":false,\"x\":[\"April\",\"February\",\"December\",\"November\",\"January\",\"May\",\"July\",\"March\",\"June\",\"August\",\"October\"],\"xaxis\":\"x\",\"y\":[229685,109172,104350,96595,62045,48357,43465,36678,30704,30471,20552],\"yaxis\":\"y\",\"type\":\"scatter\"}],                        {\"template\":{\"data\":{\"bar\":[{\"error_x\":{\"color\":\"#2a3f5f\"},\"error_y\":{\"color\":\"#2a3f5f\"},\"marker\":{\"line\":{\"color\":\"#E5ECF6\",\"width\":0.5},\"pattern\":{\"fillmode\":\"overlay\",\"size\":10,\"solidity\":0.2}},\"type\":\"bar\"}],\"barpolar\":[{\"marker\":{\"line\":{\"color\":\"#E5ECF6\",\"width\":0.5},\"pattern\":{\"fillmode\":\"overlay\",\"size\":10,\"solidity\":0.2}},\"type\":\"barpolar\"}],\"carpet\":[{\"aaxis\":{\"endlinecolor\":\"#2a3f5f\",\"gridcolor\":\"white\",\"linecolor\":\"white\",\"minorgridcolor\":\"white\",\"startlinecolor\":\"#2a3f5f\"},\"baxis\":{\"endlinecolor\":\"#2a3f5f\",\"gridcolor\":\"white\",\"linecolor\":\"white\",\"minorgridcolor\":\"white\",\"startlinecolor\":\"#2a3f5f\"},\"type\":\"carpet\"}],\"choropleth\":[{\"colorbar\":{\"outlinewidth\":0,\"ticks\":\"\"},\"type\":\"choropleth\"}],\"contour\":[{\"colorbar\":{\"outlinewidth\":0,\"ticks\":\"\"},\"colorscale\":[[0.0,\"#0d0887\"],[0.1111111111111111,\"#46039f\"],[0.2222222222222222,\"#7201a8\"],[0.3333333333333333,\"#9c179e\"],[0.4444444444444444,\"#bd3786\"],[0.5555555555555556,\"#d8576b\"],[0.6666666666666666,\"#ed7953\"],[0.7777777777777778,\"#fb9f3a\"],[0.8888888888888888,\"#fdca26\"],[1.0,\"#f0f921\"]],\"type\":\"contour\"}],\"contourcarpet\":[{\"colorbar\":{\"outlinewidth\":0,\"ticks\":\"\"},\"type\":\"contourcarpet\"}],\"heatmap\":[{\"colorbar\":{\"outlinewidth\":0,\"ticks\":\"\"},\"colorscale\":[[0.0,\"#0d0887\"],[0.1111111111111111,\"#46039f\"],[0.2222222222222222,\"#7201a8\"],[0.3333333333333333,\"#9c179e\"],[0.4444444444444444,\"#bd3786\"],[0.5555555555555556,\"#d8576b\"],[0.6666666666666666,\"#ed7953\"],[0.7777777777777778,\"#fb9f3a\"],[0.8888888888888888,\"#fdca26\"],[1.0,\"#f0f921\"]],\"type\":\"heatmap\"}],\"heatmapgl\":[{\"colorbar\":{\"outlinewidth\":0,\"ticks\":\"\"},\"colorscale\":[[0.0,\"#0d0887\"],[0.1111111111111111,\"#46039f\"],[0.2222222222222222,\"#7201a8\"],[0.3333333333333333,\"#9c179e\"],[0.4444444444444444,\"#bd3786\"],[0.5555555555555556,\"#d8576b\"],[0.6666666666666666,\"#ed7953\"],[0.7777777777777778,\"#fb9f3a\"],[0.8888888888888888,\"#fdca26\"],[1.0,\"#f0f921\"]],\"type\":\"heatmapgl\"}],\"histogram\":[{\"marker\":{\"pattern\":{\"fillmode\":\"overlay\",\"size\":10,\"solidity\":0.2}},\"type\":\"histogram\"}],\"histogram2d\":[{\"colorbar\":{\"outlinewidth\":0,\"ticks\":\"\"},\"colorscale\":[[0.0,\"#0d0887\"],[0.1111111111111111,\"#46039f\"],[0.2222222222222222,\"#7201a8\"],[0.3333333333333333,\"#9c179e\"],[0.4444444444444444,\"#bd3786\"],[0.5555555555555556,\"#d8576b\"],[0.6666666666666666,\"#ed7953\"],[0.7777777777777778,\"#fb9f3a\"],[0.8888888888888888,\"#fdca26\"],[1.0,\"#f0f921\"]],\"type\":\"histogram2d\"}],\"histogram2dcontour\":[{\"colorbar\":{\"outlinewidth\":0,\"ticks\":\"\"},\"colorscale\":[[0.0,\"#0d0887\"],[0.1111111111111111,\"#46039f\"],[0.2222222222222222,\"#7201a8\"],[0.3333333333333333,\"#9c179e\"],[0.4444444444444444,\"#bd3786\"],[0.5555555555555556,\"#d8576b\"],[0.6666666666666666,\"#ed7953\"],[0.7777777777777778,\"#fb9f3a\"],[0.8888888888888888,\"#fdca26\"],[1.0,\"#f0f921\"]],\"type\":\"histogram2dcontour\"}],\"mesh3d\":[{\"colorbar\":{\"outlinewidth\":0,\"ticks\":\"\"},\"type\":\"mesh3d\"}],\"parcoords\":[{\"line\":{\"colorbar\":{\"outlinewidth\":0,\"ticks\":\"\"}},\"type\":\"parcoords\"}],\"pie\":[{\"automargin\":true,\"type\":\"pie\"}],\"scatter\":[{\"marker\":{\"colorbar\":{\"outlinewidth\":0,\"ticks\":\"\"}},\"type\":\"scatter\"}],\"scatter3d\":[{\"line\":{\"colorbar\":{\"outlinewidth\":0,\"ticks\":\"\"}},\"marker\":{\"colorbar\":{\"outlinewidth\":0,\"ticks\":\"\"}},\"type\":\"scatter3d\"}],\"scattercarpet\":[{\"marker\":{\"colorbar\":{\"outlinewidth\":0,\"ticks\":\"\"}},\"type\":\"scattercarpet\"}],\"scattergeo\":[{\"marker\":{\"colorbar\":{\"outlinewidth\":0,\"ticks\":\"\"}},\"type\":\"scattergeo\"}],\"scattergl\":[{\"marker\":{\"colorbar\":{\"outlinewidth\":0,\"ticks\":\"\"}},\"type\":\"scattergl\"}],\"scattermapbox\":[{\"marker\":{\"colorbar\":{\"outlinewidth\":0,\"ticks\":\"\"}},\"type\":\"scattermapbox\"}],\"scatterpolar\":[{\"marker\":{\"colorbar\":{\"outlinewidth\":0,\"ticks\":\"\"}},\"type\":\"scatterpolar\"}],\"scatterpolargl\":[{\"marker\":{\"colorbar\":{\"outlinewidth\":0,\"ticks\":\"\"}},\"type\":\"scatterpolargl\"}],\"scatterternary\":[{\"marker\":{\"colorbar\":{\"outlinewidth\":0,\"ticks\":\"\"}},\"type\":\"scatterternary\"}],\"surface\":[{\"colorbar\":{\"outlinewidth\":0,\"ticks\":\"\"},\"colorscale\":[[0.0,\"#0d0887\"],[0.1111111111111111,\"#46039f\"],[0.2222222222222222,\"#7201a8\"],[0.3333333333333333,\"#9c179e\"],[0.4444444444444444,\"#bd3786\"],[0.5555555555555556,\"#d8576b\"],[0.6666666666666666,\"#ed7953\"],[0.7777777777777778,\"#fb9f3a\"],[0.8888888888888888,\"#fdca26\"],[1.0,\"#f0f921\"]],\"type\":\"surface\"}],\"table\":[{\"cells\":{\"fill\":{\"color\":\"#EBF0F8\"},\"line\":{\"color\":\"white\"}},\"header\":{\"fill\":{\"color\":\"#C8D4E3\"},\"line\":{\"color\":\"white\"}},\"type\":\"table\"}]},\"layout\":{\"annotationdefaults\":{\"arrowcolor\":\"#2a3f5f\",\"arrowhead\":0,\"arrowwidth\":1},\"autotypenumbers\":\"strict\",\"coloraxis\":{\"colorbar\":{\"outlinewidth\":0,\"ticks\":\"\"}},\"colorscale\":{\"diverging\":[[0,\"#8e0152\"],[0.1,\"#c51b7d\"],[0.2,\"#de77ae\"],[0.3,\"#f1b6da\"],[0.4,\"#fde0ef\"],[0.5,\"#f7f7f7\"],[0.6,\"#e6f5d0\"],[0.7,\"#b8e186\"],[0.8,\"#7fbc41\"],[0.9,\"#4d9221\"],[1,\"#276419\"]],\"sequential\":[[0.0,\"#0d0887\"],[0.1111111111111111,\"#46039f\"],[0.2222222222222222,\"#7201a8\"],[0.3333333333333333,\"#9c179e\"],[0.4444444444444444,\"#bd3786\"],[0.5555555555555556,\"#d8576b\"],[0.6666666666666666,\"#ed7953\"],[0.7777777777777778,\"#fb9f3a\"],[0.8888888888888888,\"#fdca26\"],[1.0,\"#f0f921\"]],\"sequentialminus\":[[0.0,\"#0d0887\"],[0.1111111111111111,\"#46039f\"],[0.2222222222222222,\"#7201a8\"],[0.3333333333333333,\"#9c179e\"],[0.4444444444444444,\"#bd3786\"],[0.5555555555555556,\"#d8576b\"],[0.6666666666666666,\"#ed7953\"],[0.7777777777777778,\"#fb9f3a\"],[0.8888888888888888,\"#fdca26\"],[1.0,\"#f0f921\"]]},\"colorway\":[\"#636efa\",\"#EF553B\",\"#00cc96\",\"#ab63fa\",\"#FFA15A\",\"#19d3f3\",\"#FF6692\",\"#B6E880\",\"#FF97FF\",\"#FECB52\"],\"font\":{\"color\":\"#2a3f5f\"},\"geo\":{\"bgcolor\":\"white\",\"lakecolor\":\"white\",\"landcolor\":\"#E5ECF6\",\"showlakes\":true,\"showland\":true,\"subunitcolor\":\"white\"},\"hoverlabel\":{\"align\":\"left\"},\"hovermode\":\"closest\",\"mapbox\":{\"style\":\"light\"},\"paper_bgcolor\":\"white\",\"plot_bgcolor\":\"#E5ECF6\",\"polar\":{\"angularaxis\":{\"gridcolor\":\"white\",\"linecolor\":\"white\",\"ticks\":\"\"},\"bgcolor\":\"#E5ECF6\",\"radialaxis\":{\"gridcolor\":\"white\",\"linecolor\":\"white\",\"ticks\":\"\"}},\"scene\":{\"xaxis\":{\"backgroundcolor\":\"#E5ECF6\",\"gridcolor\":\"white\",\"gridwidth\":2,\"linecolor\":\"white\",\"showbackground\":true,\"ticks\":\"\",\"zerolinecolor\":\"white\"},\"yaxis\":{\"backgroundcolor\":\"#E5ECF6\",\"gridcolor\":\"white\",\"gridwidth\":2,\"linecolor\":\"white\",\"showbackground\":true,\"ticks\":\"\",\"zerolinecolor\":\"white\"},\"zaxis\":{\"backgroundcolor\":\"#E5ECF6\",\"gridcolor\":\"white\",\"gridwidth\":2,\"linecolor\":\"white\",\"showbackground\":true,\"ticks\":\"\",\"zerolinecolor\":\"white\"}},\"shapedefaults\":{\"line\":{\"color\":\"#2a3f5f\"}},\"ternary\":{\"aaxis\":{\"gridcolor\":\"white\",\"linecolor\":\"white\",\"ticks\":\"\"},\"baxis\":{\"gridcolor\":\"white\",\"linecolor\":\"white\",\"ticks\":\"\"},\"bgcolor\":\"#E5ECF6\",\"caxis\":{\"gridcolor\":\"white\",\"linecolor\":\"white\",\"ticks\":\"\"}},\"title\":{\"x\":0.05},\"xaxis\":{\"automargin\":true,\"gridcolor\":\"white\",\"linecolor\":\"white\",\"ticks\":\"\",\"title\":{\"standoff\":15},\"zerolinecolor\":\"white\",\"zerolinewidth\":2},\"yaxis\":{\"automargin\":true,\"gridcolor\":\"white\",\"linecolor\":\"white\",\"ticks\":\"\",\"title\":{\"standoff\":15},\"zerolinecolor\":\"white\",\"zerolinewidth\":2}}},\"xaxis\":{\"anchor\":\"y\",\"domain\":[0.0,1.0],\"title\":{\"text\":\"Year\"},\"showgrid\":false},\"yaxis\":{\"anchor\":\"x\",\"domain\":[0.0,1.0],\"title\":{\"text\":\"Views\"},\"showgrid\":false,\"categoryorder\":\"total ascending\",\"ticksuffix\":\" \",\"showline\":false},\"legend\":{\"tracegroupgap\":0,\"orientation\":\"h\",\"yanchor\":\"bottom\",\"y\":1,\"xanchor\":\"center\",\"x\":0.5},\"title\":{\"text\":\"Which Month in 2021 is higest Views\",\"font\":{\"size\":25,\"color\":\"#8a8d93\",\"family\":\"Lato, sans-serif\"}},\"margin\":{\"t\":80,\"b\":0,\"l\":70,\"r\":40},\"font\":{\"color\":\"#8a8d93\"},\"hoverlabel\":{\"font\":{\"size\":13,\"family\":\"Lato, sans-serif\"},\"bgcolor\":\"black\"},\"hovermode\":\"y unified\",\"height\":400,\"plot_bgcolor\":\"#333\",\"paper_bgcolor\":\"#333\"},                        {\"responsive\": true}                    ).then(function(){\n",
       "                            \n",
       "var gd = document.getElementById('15f68aaa-32c7-476e-a14a-409eb245ba05');\n",
       "var x = new MutationObserver(function (mutations, observer) {{\n",
       "        var display = window.getComputedStyle(gd).display;\n",
       "        if (!display || display === 'none') {{\n",
       "            console.log([gd, 'removed!']);\n",
       "            Plotly.purge(gd);\n",
       "            observer.disconnect();\n",
       "        }}\n",
       "}});\n",
       "\n",
       "// Listen for the removal of the full notebook cells\n",
       "var notebookContainer = gd.closest('#notebook-container');\n",
       "if (notebookContainer) {{\n",
       "    x.observe(notebookContainer, {childList: true});\n",
       "}}\n",
       "\n",
       "// Listen for the clearing of the current output cell\n",
       "var outputEl = gd.closest('.output');\n",
       "if (outputEl) {{\n",
       "    x.observe(outputEl, {childList: true});\n",
       "}}\n",
       "\n",
       "                        })                };                });            </script>        </div>"
      ]
     },
     "metadata": {},
     "output_type": "display_data"
    }
   ],
   "source": [
    "year21=df2[df2[\"Year\"]==2021]\n",
    "month_2=year21.groupby([\"Month_name\"])[\"Views\"].sum().sort_values(ascending=False).reset_index()\n",
    "\n",
    "fig=px.scatter(month_2,x=\"Month_name\",y=\"Views\",title=\"Which Month in 2021 is higest Views\",color_discrete_sequence=[\"maroon\"])\n",
    "\n",
    "fig.update_xaxes(showgrid=False)\n",
    "\n",
    "fig.update_yaxes(showgrid=False, categoryorder='total ascending', ticksuffix=' ', showline=False)\n",
    "\n",
    "fig.update_traces(hovertemplate=None, marker=dict(line=dict(width=0)))\n",
    "\n",
    "fig.update_layout(margin=dict(t=80, b=0, l=70, r=40),hovermode=\"y unified\",\n",
    "                  xaxis_title='Year', yaxis_title=\"Views\", height=400,plot_bgcolor='#333', paper_bgcolor='#333',\n",
    "title_font=dict(size=25, color='#8a8d93', family=\"Lato, sans-serif\"),\n",
    "font=dict(color='#8a8d93'),\n",
    "                  legend=dict(orientation=\"h\", yanchor=\"bottom\", y=1, xanchor=\"center\", x=0.5),\n",
    "                  hoverlabel=dict(bgcolor=\"black\", font_size=13, font_family=\"Lato, sans-serif\"))\n",
    "                  \n",
    "\n",
    "fig.show()\n"
   ]
  },
  {
   "cell_type": "markdown",
   "id": "a263f11e",
   "metadata": {
    "papermill": {
     "duration": 0.073367,
     "end_time": "2023-12-19T20:14:46.669495",
     "exception": false,
     "start_time": "2023-12-19T20:14:46.596128",
     "status": "completed"
    },
    "tags": []
   },
   "source": [
    "# Show the Which Month in 2021 is Most Sub­scribers"
   ]
  },
  {
   "cell_type": "code",
   "execution_count": 44,
   "id": "0cd6b05c",
   "metadata": {
    "execution": {
     "iopub.execute_input": "2023-12-19T20:14:46.820854Z",
     "iopub.status.busy": "2023-12-19T20:14:46.820084Z",
     "iopub.status.idle": "2023-12-19T20:14:46.900211Z",
     "shell.execute_reply": "2023-12-19T20:14:46.900609Z",
     "shell.execute_reply.started": "2022-03-20T04:17:09.744008Z"
    },
    "papermill": {
     "duration": 0.158341,
     "end_time": "2023-12-19T20:14:46.900750",
     "exception": false,
     "start_time": "2023-12-19T20:14:46.742409",
     "status": "completed"
    },
    "tags": []
   },
   "outputs": [
    {
     "data": {
      "text/html": [
       "<div>                            <div id=\"18b0e926-91ee-4097-ab30-24e362a2b332\" class=\"plotly-graph-div\" style=\"height:400px; width:100%;\"></div>            <script type=\"text/javascript\">                require([\"plotly\"], function(Plotly) {                    window.PLOTLYENV=window.PLOTLYENV || {};                                    if (document.getElementById(\"18b0e926-91ee-4097-ab30-24e362a2b332\")) {                    Plotly.newPlot(                        \"18b0e926-91ee-4097-ab30-24e362a2b332\",                        [{\"legendgroup\":\"\",\"line\":{\"color\":\"maroon\",\"dash\":\"solid\"},\"marker\":{\"symbol\":\"circle\",\"line\":{\"width\":0}},\"mode\":\"lines+text+markers\",\"name\":\"\",\"orientation\":\"v\",\"showlegend\":false,\"text\":[4198.0,2642.0,1236.0,847.0,591.0,441.0,382.0,378.0,144.0,92.0,81.0],\"x\":[\"April\",\"December\",\"November\",\"February\",\"January\",\"March\",\"July\",\"May\",\"June\",\"October\",\"August\"],\"xaxis\":\"x\",\"y\":[4198,2642,1236,847,591,441,382,378,144,92,81],\"yaxis\":\"y\",\"type\":\"scatter\"}],                        {\"template\":{\"data\":{\"bar\":[{\"error_x\":{\"color\":\"#2a3f5f\"},\"error_y\":{\"color\":\"#2a3f5f\"},\"marker\":{\"line\":{\"color\":\"#E5ECF6\",\"width\":0.5},\"pattern\":{\"fillmode\":\"overlay\",\"size\":10,\"solidity\":0.2}},\"type\":\"bar\"}],\"barpolar\":[{\"marker\":{\"line\":{\"color\":\"#E5ECF6\",\"width\":0.5},\"pattern\":{\"fillmode\":\"overlay\",\"size\":10,\"solidity\":0.2}},\"type\":\"barpolar\"}],\"carpet\":[{\"aaxis\":{\"endlinecolor\":\"#2a3f5f\",\"gridcolor\":\"white\",\"linecolor\":\"white\",\"minorgridcolor\":\"white\",\"startlinecolor\":\"#2a3f5f\"},\"baxis\":{\"endlinecolor\":\"#2a3f5f\",\"gridcolor\":\"white\",\"linecolor\":\"white\",\"minorgridcolor\":\"white\",\"startlinecolor\":\"#2a3f5f\"},\"type\":\"carpet\"}],\"choropleth\":[{\"colorbar\":{\"outlinewidth\":0,\"ticks\":\"\"},\"type\":\"choropleth\"}],\"contour\":[{\"colorbar\":{\"outlinewidth\":0,\"ticks\":\"\"},\"colorscale\":[[0.0,\"#0d0887\"],[0.1111111111111111,\"#46039f\"],[0.2222222222222222,\"#7201a8\"],[0.3333333333333333,\"#9c179e\"],[0.4444444444444444,\"#bd3786\"],[0.5555555555555556,\"#d8576b\"],[0.6666666666666666,\"#ed7953\"],[0.7777777777777778,\"#fb9f3a\"],[0.8888888888888888,\"#fdca26\"],[1.0,\"#f0f921\"]],\"type\":\"contour\"}],\"contourcarpet\":[{\"colorbar\":{\"outlinewidth\":0,\"ticks\":\"\"},\"type\":\"contourcarpet\"}],\"heatmap\":[{\"colorbar\":{\"outlinewidth\":0,\"ticks\":\"\"},\"colorscale\":[[0.0,\"#0d0887\"],[0.1111111111111111,\"#46039f\"],[0.2222222222222222,\"#7201a8\"],[0.3333333333333333,\"#9c179e\"],[0.4444444444444444,\"#bd3786\"],[0.5555555555555556,\"#d8576b\"],[0.6666666666666666,\"#ed7953\"],[0.7777777777777778,\"#fb9f3a\"],[0.8888888888888888,\"#fdca26\"],[1.0,\"#f0f921\"]],\"type\":\"heatmap\"}],\"heatmapgl\":[{\"colorbar\":{\"outlinewidth\":0,\"ticks\":\"\"},\"colorscale\":[[0.0,\"#0d0887\"],[0.1111111111111111,\"#46039f\"],[0.2222222222222222,\"#7201a8\"],[0.3333333333333333,\"#9c179e\"],[0.4444444444444444,\"#bd3786\"],[0.5555555555555556,\"#d8576b\"],[0.6666666666666666,\"#ed7953\"],[0.7777777777777778,\"#fb9f3a\"],[0.8888888888888888,\"#fdca26\"],[1.0,\"#f0f921\"]],\"type\":\"heatmapgl\"}],\"histogram\":[{\"marker\":{\"pattern\":{\"fillmode\":\"overlay\",\"size\":10,\"solidity\":0.2}},\"type\":\"histogram\"}],\"histogram2d\":[{\"colorbar\":{\"outlinewidth\":0,\"ticks\":\"\"},\"colorscale\":[[0.0,\"#0d0887\"],[0.1111111111111111,\"#46039f\"],[0.2222222222222222,\"#7201a8\"],[0.3333333333333333,\"#9c179e\"],[0.4444444444444444,\"#bd3786\"],[0.5555555555555556,\"#d8576b\"],[0.6666666666666666,\"#ed7953\"],[0.7777777777777778,\"#fb9f3a\"],[0.8888888888888888,\"#fdca26\"],[1.0,\"#f0f921\"]],\"type\":\"histogram2d\"}],\"histogram2dcontour\":[{\"colorbar\":{\"outlinewidth\":0,\"ticks\":\"\"},\"colorscale\":[[0.0,\"#0d0887\"],[0.1111111111111111,\"#46039f\"],[0.2222222222222222,\"#7201a8\"],[0.3333333333333333,\"#9c179e\"],[0.4444444444444444,\"#bd3786\"],[0.5555555555555556,\"#d8576b\"],[0.6666666666666666,\"#ed7953\"],[0.7777777777777778,\"#fb9f3a\"],[0.8888888888888888,\"#fdca26\"],[1.0,\"#f0f921\"]],\"type\":\"histogram2dcontour\"}],\"mesh3d\":[{\"colorbar\":{\"outlinewidth\":0,\"ticks\":\"\"},\"type\":\"mesh3d\"}],\"parcoords\":[{\"line\":{\"colorbar\":{\"outlinewidth\":0,\"ticks\":\"\"}},\"type\":\"parcoords\"}],\"pie\":[{\"automargin\":true,\"type\":\"pie\"}],\"scatter\":[{\"marker\":{\"colorbar\":{\"outlinewidth\":0,\"ticks\":\"\"}},\"type\":\"scatter\"}],\"scatter3d\":[{\"line\":{\"colorbar\":{\"outlinewidth\":0,\"ticks\":\"\"}},\"marker\":{\"colorbar\":{\"outlinewidth\":0,\"ticks\":\"\"}},\"type\":\"scatter3d\"}],\"scattercarpet\":[{\"marker\":{\"colorbar\":{\"outlinewidth\":0,\"ticks\":\"\"}},\"type\":\"scattercarpet\"}],\"scattergeo\":[{\"marker\":{\"colorbar\":{\"outlinewidth\":0,\"ticks\":\"\"}},\"type\":\"scattergeo\"}],\"scattergl\":[{\"marker\":{\"colorbar\":{\"outlinewidth\":0,\"ticks\":\"\"}},\"type\":\"scattergl\"}],\"scattermapbox\":[{\"marker\":{\"colorbar\":{\"outlinewidth\":0,\"ticks\":\"\"}},\"type\":\"scattermapbox\"}],\"scatterpolar\":[{\"marker\":{\"colorbar\":{\"outlinewidth\":0,\"ticks\":\"\"}},\"type\":\"scatterpolar\"}],\"scatterpolargl\":[{\"marker\":{\"colorbar\":{\"outlinewidth\":0,\"ticks\":\"\"}},\"type\":\"scatterpolargl\"}],\"scatterternary\":[{\"marker\":{\"colorbar\":{\"outlinewidth\":0,\"ticks\":\"\"}},\"type\":\"scatterternary\"}],\"surface\":[{\"colorbar\":{\"outlinewidth\":0,\"ticks\":\"\"},\"colorscale\":[[0.0,\"#0d0887\"],[0.1111111111111111,\"#46039f\"],[0.2222222222222222,\"#7201a8\"],[0.3333333333333333,\"#9c179e\"],[0.4444444444444444,\"#bd3786\"],[0.5555555555555556,\"#d8576b\"],[0.6666666666666666,\"#ed7953\"],[0.7777777777777778,\"#fb9f3a\"],[0.8888888888888888,\"#fdca26\"],[1.0,\"#f0f921\"]],\"type\":\"surface\"}],\"table\":[{\"cells\":{\"fill\":{\"color\":\"#EBF0F8\"},\"line\":{\"color\":\"white\"}},\"header\":{\"fill\":{\"color\":\"#C8D4E3\"},\"line\":{\"color\":\"white\"}},\"type\":\"table\"}]},\"layout\":{\"annotationdefaults\":{\"arrowcolor\":\"#2a3f5f\",\"arrowhead\":0,\"arrowwidth\":1},\"autotypenumbers\":\"strict\",\"coloraxis\":{\"colorbar\":{\"outlinewidth\":0,\"ticks\":\"\"}},\"colorscale\":{\"diverging\":[[0,\"#8e0152\"],[0.1,\"#c51b7d\"],[0.2,\"#de77ae\"],[0.3,\"#f1b6da\"],[0.4,\"#fde0ef\"],[0.5,\"#f7f7f7\"],[0.6,\"#e6f5d0\"],[0.7,\"#b8e186\"],[0.8,\"#7fbc41\"],[0.9,\"#4d9221\"],[1,\"#276419\"]],\"sequential\":[[0.0,\"#0d0887\"],[0.1111111111111111,\"#46039f\"],[0.2222222222222222,\"#7201a8\"],[0.3333333333333333,\"#9c179e\"],[0.4444444444444444,\"#bd3786\"],[0.5555555555555556,\"#d8576b\"],[0.6666666666666666,\"#ed7953\"],[0.7777777777777778,\"#fb9f3a\"],[0.8888888888888888,\"#fdca26\"],[1.0,\"#f0f921\"]],\"sequentialminus\":[[0.0,\"#0d0887\"],[0.1111111111111111,\"#46039f\"],[0.2222222222222222,\"#7201a8\"],[0.3333333333333333,\"#9c179e\"],[0.4444444444444444,\"#bd3786\"],[0.5555555555555556,\"#d8576b\"],[0.6666666666666666,\"#ed7953\"],[0.7777777777777778,\"#fb9f3a\"],[0.8888888888888888,\"#fdca26\"],[1.0,\"#f0f921\"]]},\"colorway\":[\"#636efa\",\"#EF553B\",\"#00cc96\",\"#ab63fa\",\"#FFA15A\",\"#19d3f3\",\"#FF6692\",\"#B6E880\",\"#FF97FF\",\"#FECB52\"],\"font\":{\"color\":\"#2a3f5f\"},\"geo\":{\"bgcolor\":\"white\",\"lakecolor\":\"white\",\"landcolor\":\"#E5ECF6\",\"showlakes\":true,\"showland\":true,\"subunitcolor\":\"white\"},\"hoverlabel\":{\"align\":\"left\"},\"hovermode\":\"closest\",\"mapbox\":{\"style\":\"light\"},\"paper_bgcolor\":\"white\",\"plot_bgcolor\":\"#E5ECF6\",\"polar\":{\"angularaxis\":{\"gridcolor\":\"white\",\"linecolor\":\"white\",\"ticks\":\"\"},\"bgcolor\":\"#E5ECF6\",\"radialaxis\":{\"gridcolor\":\"white\",\"linecolor\":\"white\",\"ticks\":\"\"}},\"scene\":{\"xaxis\":{\"backgroundcolor\":\"#E5ECF6\",\"gridcolor\":\"white\",\"gridwidth\":2,\"linecolor\":\"white\",\"showbackground\":true,\"ticks\":\"\",\"zerolinecolor\":\"white\"},\"yaxis\":{\"backgroundcolor\":\"#E5ECF6\",\"gridcolor\":\"white\",\"gridwidth\":2,\"linecolor\":\"white\",\"showbackground\":true,\"ticks\":\"\",\"zerolinecolor\":\"white\"},\"zaxis\":{\"backgroundcolor\":\"#E5ECF6\",\"gridcolor\":\"white\",\"gridwidth\":2,\"linecolor\":\"white\",\"showbackground\":true,\"ticks\":\"\",\"zerolinecolor\":\"white\"}},\"shapedefaults\":{\"line\":{\"color\":\"#2a3f5f\"}},\"ternary\":{\"aaxis\":{\"gridcolor\":\"white\",\"linecolor\":\"white\",\"ticks\":\"\"},\"baxis\":{\"gridcolor\":\"white\",\"linecolor\":\"white\",\"ticks\":\"\"},\"bgcolor\":\"#E5ECF6\",\"caxis\":{\"gridcolor\":\"white\",\"linecolor\":\"white\",\"ticks\":\"\"}},\"title\":{\"x\":0.05},\"xaxis\":{\"automargin\":true,\"gridcolor\":\"white\",\"linecolor\":\"white\",\"ticks\":\"\",\"title\":{\"standoff\":15},\"zerolinecolor\":\"white\",\"zerolinewidth\":2},\"yaxis\":{\"automargin\":true,\"gridcolor\":\"white\",\"linecolor\":\"white\",\"ticks\":\"\",\"title\":{\"standoff\":15},\"zerolinecolor\":\"white\",\"zerolinewidth\":2}}},\"xaxis\":{\"anchor\":\"y\",\"domain\":[0.0,1.0],\"title\":{\"text\":\"Year\"},\"showgrid\":false},\"yaxis\":{\"anchor\":\"x\",\"domain\":[0.0,1.0],\"title\":{\"text\":\"Subscribers\"},\"showgrid\":false,\"categoryorder\":\"total ascending\",\"ticksuffix\":\" \",\"showline\":false},\"legend\":{\"tracegroupgap\":0,\"orientation\":\"h\",\"yanchor\":\"bottom\",\"y\":1,\"xanchor\":\"center\",\"x\":0.5},\"title\":{\"text\":\"Which Month in 2021 is higest Subscribers\",\"font\":{\"size\":25,\"color\":\"#8a8d93\",\"family\":\"Lato, sans-serif\"}},\"margin\":{\"t\":80,\"b\":0,\"l\":70,\"r\":40},\"font\":{\"color\":\"#8a8d93\"},\"hoverlabel\":{\"font\":{\"size\":13,\"family\":\"Lato, sans-serif\"},\"bgcolor\":\"black\"},\"hovermode\":\"y unified\",\"height\":400,\"plot_bgcolor\":\"#333\",\"paper_bgcolor\":\"#333\"},                        {\"responsive\": true}                    ).then(function(){\n",
       "                            \n",
       "var gd = document.getElementById('18b0e926-91ee-4097-ab30-24e362a2b332');\n",
       "var x = new MutationObserver(function (mutations, observer) {{\n",
       "        var display = window.getComputedStyle(gd).display;\n",
       "        if (!display || display === 'none') {{\n",
       "            console.log([gd, 'removed!']);\n",
       "            Plotly.purge(gd);\n",
       "            observer.disconnect();\n",
       "        }}\n",
       "}});\n",
       "\n",
       "// Listen for the removal of the full notebook cells\n",
       "var notebookContainer = gd.closest('#notebook-container');\n",
       "if (notebookContainer) {{\n",
       "    x.observe(notebookContainer, {childList: true});\n",
       "}}\n",
       "\n",
       "// Listen for the clearing of the current output cell\n",
       "var outputEl = gd.closest('.output');\n",
       "if (outputEl) {{\n",
       "    x.observe(outputEl, {childList: true});\n",
       "}}\n",
       "\n",
       "                        })                };                });            </script>        </div>"
      ]
     },
     "metadata": {},
     "output_type": "display_data"
    }
   ],
   "source": [
    "sub_month=year21.groupby([\"Month_name\"])[\"Sub­scribers\"].sum().sort_values(ascending=False).reset_index()\n",
    "\n",
    "fig=px.line(sub_month,x=\"Month_name\",y=\"Sub­scribers\",title=\"Which Month in 2021 is higest Subscribers\",color_discrete_sequence=[\"maroon\"],text=\"Sub­scribers\")\n",
    "\n",
    "fig.update_xaxes(showgrid=False)\n",
    "\n",
    "fig.update_yaxes(showgrid=False, categoryorder='total ascending', ticksuffix=' ', showline=False)\n",
    "\n",
    "fig.update_traces(hovertemplate=None, marker=dict(line=dict(width=0)))\n",
    "\n",
    "fig.update_layout(margin=dict(t=80, b=0, l=70, r=40),hovermode=\"y unified\",\n",
    "                  xaxis_title='Year', yaxis_title=\"Subscribers\", height=400,plot_bgcolor='#333', paper_bgcolor='#333',\n",
    "title_font=dict(size=25, color='#8a8d93', family=\"Lato, sans-serif\"),\n",
    "font=dict(color='#8a8d93'),\n",
    "                  legend=dict(orientation=\"h\", yanchor=\"bottom\", y=1, xanchor=\"center\", x=0.5),\n",
    "                  hoverlabel=dict(bgcolor=\"black\", font_size=13, font_family=\"Lato, sans-serif\"))\n",
    "                  \n",
    "\n",
    "fig.show()\n"
   ]
  },
  {
   "cell_type": "markdown",
   "id": "76be91b0",
   "metadata": {
    "papermill": {
     "duration": 0.075742,
     "end_time": "2023-12-19T20:14:47.052095",
     "exception": false,
     "start_time": "2023-12-19T20:14:46.976353",
     "status": "completed"
    },
    "tags": []
   },
   "source": [
    "# Show the Which Month in 2021 is Most shares"
   ]
  },
  {
   "cell_type": "code",
   "execution_count": 45,
   "id": "8ba1dbd0",
   "metadata": {
    "execution": {
     "iopub.execute_input": "2023-12-19T20:14:47.206759Z",
     "iopub.status.busy": "2023-12-19T20:14:47.206127Z",
     "iopub.status.idle": "2023-12-19T20:14:47.278007Z",
     "shell.execute_reply": "2023-12-19T20:14:47.277458Z",
     "shell.execute_reply.started": "2022-03-20T04:17:10.610958Z"
    },
    "papermill": {
     "duration": 0.150386,
     "end_time": "2023-12-19T20:14:47.278126",
     "exception": false,
     "start_time": "2023-12-19T20:14:47.127740",
     "status": "completed"
    },
    "tags": []
   },
   "outputs": [
    {
     "data": {
      "text/html": [
       "<div>                            <div id=\"96934371-cbc7-4893-b469-d059c1a27222\" class=\"plotly-graph-div\" style=\"height:400px; width:100%;\"></div>            <script type=\"text/javascript\">                require([\"plotly\"], function(Plotly) {                    window.PLOTLYENV=window.PLOTLYENV || {};                                    if (document.getElementById(\"96934371-cbc7-4893-b469-d059c1a27222\")) {                    Plotly.newPlot(                        \"96934371-cbc7-4893-b469-d059c1a27222\",                        [{\"alignmentgroup\":\"True\",\"legendgroup\":\"\",\"marker\":{\"color\":\"maroon\",\"pattern\":{\"shape\":\"\"},\"line\":{\"width\":0}},\"name\":\"\",\"offsetgroup\":\"\",\"orientation\":\"v\",\"showlegend\":false,\"text\":[1135.0,840.0,676.0,380.0,343.0,252.0,233.0,156.0,140.0,140.0,89.0],\"textposition\":\"auto\",\"x\":[\"December\",\"April\",\"November\",\"July\",\"January\",\"May\",\"February\",\"March\",\"June\",\"October\",\"August\"],\"xaxis\":\"x\",\"y\":[1135,840,676,380,343,252,233,156,140,140,89],\"yaxis\":\"y\",\"type\":\"bar\"}],                        {\"template\":{\"data\":{\"bar\":[{\"error_x\":{\"color\":\"#2a3f5f\"},\"error_y\":{\"color\":\"#2a3f5f\"},\"marker\":{\"line\":{\"color\":\"#E5ECF6\",\"width\":0.5},\"pattern\":{\"fillmode\":\"overlay\",\"size\":10,\"solidity\":0.2}},\"type\":\"bar\"}],\"barpolar\":[{\"marker\":{\"line\":{\"color\":\"#E5ECF6\",\"width\":0.5},\"pattern\":{\"fillmode\":\"overlay\",\"size\":10,\"solidity\":0.2}},\"type\":\"barpolar\"}],\"carpet\":[{\"aaxis\":{\"endlinecolor\":\"#2a3f5f\",\"gridcolor\":\"white\",\"linecolor\":\"white\",\"minorgridcolor\":\"white\",\"startlinecolor\":\"#2a3f5f\"},\"baxis\":{\"endlinecolor\":\"#2a3f5f\",\"gridcolor\":\"white\",\"linecolor\":\"white\",\"minorgridcolor\":\"white\",\"startlinecolor\":\"#2a3f5f\"},\"type\":\"carpet\"}],\"choropleth\":[{\"colorbar\":{\"outlinewidth\":0,\"ticks\":\"\"},\"type\":\"choropleth\"}],\"contour\":[{\"colorbar\":{\"outlinewidth\":0,\"ticks\":\"\"},\"colorscale\":[[0.0,\"#0d0887\"],[0.1111111111111111,\"#46039f\"],[0.2222222222222222,\"#7201a8\"],[0.3333333333333333,\"#9c179e\"],[0.4444444444444444,\"#bd3786\"],[0.5555555555555556,\"#d8576b\"],[0.6666666666666666,\"#ed7953\"],[0.7777777777777778,\"#fb9f3a\"],[0.8888888888888888,\"#fdca26\"],[1.0,\"#f0f921\"]],\"type\":\"contour\"}],\"contourcarpet\":[{\"colorbar\":{\"outlinewidth\":0,\"ticks\":\"\"},\"type\":\"contourcarpet\"}],\"heatmap\":[{\"colorbar\":{\"outlinewidth\":0,\"ticks\":\"\"},\"colorscale\":[[0.0,\"#0d0887\"],[0.1111111111111111,\"#46039f\"],[0.2222222222222222,\"#7201a8\"],[0.3333333333333333,\"#9c179e\"],[0.4444444444444444,\"#bd3786\"],[0.5555555555555556,\"#d8576b\"],[0.6666666666666666,\"#ed7953\"],[0.7777777777777778,\"#fb9f3a\"],[0.8888888888888888,\"#fdca26\"],[1.0,\"#f0f921\"]],\"type\":\"heatmap\"}],\"heatmapgl\":[{\"colorbar\":{\"outlinewidth\":0,\"ticks\":\"\"},\"colorscale\":[[0.0,\"#0d0887\"],[0.1111111111111111,\"#46039f\"],[0.2222222222222222,\"#7201a8\"],[0.3333333333333333,\"#9c179e\"],[0.4444444444444444,\"#bd3786\"],[0.5555555555555556,\"#d8576b\"],[0.6666666666666666,\"#ed7953\"],[0.7777777777777778,\"#fb9f3a\"],[0.8888888888888888,\"#fdca26\"],[1.0,\"#f0f921\"]],\"type\":\"heatmapgl\"}],\"histogram\":[{\"marker\":{\"pattern\":{\"fillmode\":\"overlay\",\"size\":10,\"solidity\":0.2}},\"type\":\"histogram\"}],\"histogram2d\":[{\"colorbar\":{\"outlinewidth\":0,\"ticks\":\"\"},\"colorscale\":[[0.0,\"#0d0887\"],[0.1111111111111111,\"#46039f\"],[0.2222222222222222,\"#7201a8\"],[0.3333333333333333,\"#9c179e\"],[0.4444444444444444,\"#bd3786\"],[0.5555555555555556,\"#d8576b\"],[0.6666666666666666,\"#ed7953\"],[0.7777777777777778,\"#fb9f3a\"],[0.8888888888888888,\"#fdca26\"],[1.0,\"#f0f921\"]],\"type\":\"histogram2d\"}],\"histogram2dcontour\":[{\"colorbar\":{\"outlinewidth\":0,\"ticks\":\"\"},\"colorscale\":[[0.0,\"#0d0887\"],[0.1111111111111111,\"#46039f\"],[0.2222222222222222,\"#7201a8\"],[0.3333333333333333,\"#9c179e\"],[0.4444444444444444,\"#bd3786\"],[0.5555555555555556,\"#d8576b\"],[0.6666666666666666,\"#ed7953\"],[0.7777777777777778,\"#fb9f3a\"],[0.8888888888888888,\"#fdca26\"],[1.0,\"#f0f921\"]],\"type\":\"histogram2dcontour\"}],\"mesh3d\":[{\"colorbar\":{\"outlinewidth\":0,\"ticks\":\"\"},\"type\":\"mesh3d\"}],\"parcoords\":[{\"line\":{\"colorbar\":{\"outlinewidth\":0,\"ticks\":\"\"}},\"type\":\"parcoords\"}],\"pie\":[{\"automargin\":true,\"type\":\"pie\"}],\"scatter\":[{\"marker\":{\"colorbar\":{\"outlinewidth\":0,\"ticks\":\"\"}},\"type\":\"scatter\"}],\"scatter3d\":[{\"line\":{\"colorbar\":{\"outlinewidth\":0,\"ticks\":\"\"}},\"marker\":{\"colorbar\":{\"outlinewidth\":0,\"ticks\":\"\"}},\"type\":\"scatter3d\"}],\"scattercarpet\":[{\"marker\":{\"colorbar\":{\"outlinewidth\":0,\"ticks\":\"\"}},\"type\":\"scattercarpet\"}],\"scattergeo\":[{\"marker\":{\"colorbar\":{\"outlinewidth\":0,\"ticks\":\"\"}},\"type\":\"scattergeo\"}],\"scattergl\":[{\"marker\":{\"colorbar\":{\"outlinewidth\":0,\"ticks\":\"\"}},\"type\":\"scattergl\"}],\"scattermapbox\":[{\"marker\":{\"colorbar\":{\"outlinewidth\":0,\"ticks\":\"\"}},\"type\":\"scattermapbox\"}],\"scatterpolar\":[{\"marker\":{\"colorbar\":{\"outlinewidth\":0,\"ticks\":\"\"}},\"type\":\"scatterpolar\"}],\"scatterpolargl\":[{\"marker\":{\"colorbar\":{\"outlinewidth\":0,\"ticks\":\"\"}},\"type\":\"scatterpolargl\"}],\"scatterternary\":[{\"marker\":{\"colorbar\":{\"outlinewidth\":0,\"ticks\":\"\"}},\"type\":\"scatterternary\"}],\"surface\":[{\"colorbar\":{\"outlinewidth\":0,\"ticks\":\"\"},\"colorscale\":[[0.0,\"#0d0887\"],[0.1111111111111111,\"#46039f\"],[0.2222222222222222,\"#7201a8\"],[0.3333333333333333,\"#9c179e\"],[0.4444444444444444,\"#bd3786\"],[0.5555555555555556,\"#d8576b\"],[0.6666666666666666,\"#ed7953\"],[0.7777777777777778,\"#fb9f3a\"],[0.8888888888888888,\"#fdca26\"],[1.0,\"#f0f921\"]],\"type\":\"surface\"}],\"table\":[{\"cells\":{\"fill\":{\"color\":\"#EBF0F8\"},\"line\":{\"color\":\"white\"}},\"header\":{\"fill\":{\"color\":\"#C8D4E3\"},\"line\":{\"color\":\"white\"}},\"type\":\"table\"}]},\"layout\":{\"annotationdefaults\":{\"arrowcolor\":\"#2a3f5f\",\"arrowhead\":0,\"arrowwidth\":1},\"autotypenumbers\":\"strict\",\"coloraxis\":{\"colorbar\":{\"outlinewidth\":0,\"ticks\":\"\"}},\"colorscale\":{\"diverging\":[[0,\"#8e0152\"],[0.1,\"#c51b7d\"],[0.2,\"#de77ae\"],[0.3,\"#f1b6da\"],[0.4,\"#fde0ef\"],[0.5,\"#f7f7f7\"],[0.6,\"#e6f5d0\"],[0.7,\"#b8e186\"],[0.8,\"#7fbc41\"],[0.9,\"#4d9221\"],[1,\"#276419\"]],\"sequential\":[[0.0,\"#0d0887\"],[0.1111111111111111,\"#46039f\"],[0.2222222222222222,\"#7201a8\"],[0.3333333333333333,\"#9c179e\"],[0.4444444444444444,\"#bd3786\"],[0.5555555555555556,\"#d8576b\"],[0.6666666666666666,\"#ed7953\"],[0.7777777777777778,\"#fb9f3a\"],[0.8888888888888888,\"#fdca26\"],[1.0,\"#f0f921\"]],\"sequentialminus\":[[0.0,\"#0d0887\"],[0.1111111111111111,\"#46039f\"],[0.2222222222222222,\"#7201a8\"],[0.3333333333333333,\"#9c179e\"],[0.4444444444444444,\"#bd3786\"],[0.5555555555555556,\"#d8576b\"],[0.6666666666666666,\"#ed7953\"],[0.7777777777777778,\"#fb9f3a\"],[0.8888888888888888,\"#fdca26\"],[1.0,\"#f0f921\"]]},\"colorway\":[\"#636efa\",\"#EF553B\",\"#00cc96\",\"#ab63fa\",\"#FFA15A\",\"#19d3f3\",\"#FF6692\",\"#B6E880\",\"#FF97FF\",\"#FECB52\"],\"font\":{\"color\":\"#2a3f5f\"},\"geo\":{\"bgcolor\":\"white\",\"lakecolor\":\"white\",\"landcolor\":\"#E5ECF6\",\"showlakes\":true,\"showland\":true,\"subunitcolor\":\"white\"},\"hoverlabel\":{\"align\":\"left\"},\"hovermode\":\"closest\",\"mapbox\":{\"style\":\"light\"},\"paper_bgcolor\":\"white\",\"plot_bgcolor\":\"#E5ECF6\",\"polar\":{\"angularaxis\":{\"gridcolor\":\"white\",\"linecolor\":\"white\",\"ticks\":\"\"},\"bgcolor\":\"#E5ECF6\",\"radialaxis\":{\"gridcolor\":\"white\",\"linecolor\":\"white\",\"ticks\":\"\"}},\"scene\":{\"xaxis\":{\"backgroundcolor\":\"#E5ECF6\",\"gridcolor\":\"white\",\"gridwidth\":2,\"linecolor\":\"white\",\"showbackground\":true,\"ticks\":\"\",\"zerolinecolor\":\"white\"},\"yaxis\":{\"backgroundcolor\":\"#E5ECF6\",\"gridcolor\":\"white\",\"gridwidth\":2,\"linecolor\":\"white\",\"showbackground\":true,\"ticks\":\"\",\"zerolinecolor\":\"white\"},\"zaxis\":{\"backgroundcolor\":\"#E5ECF6\",\"gridcolor\":\"white\",\"gridwidth\":2,\"linecolor\":\"white\",\"showbackground\":true,\"ticks\":\"\",\"zerolinecolor\":\"white\"}},\"shapedefaults\":{\"line\":{\"color\":\"#2a3f5f\"}},\"ternary\":{\"aaxis\":{\"gridcolor\":\"white\",\"linecolor\":\"white\",\"ticks\":\"\"},\"baxis\":{\"gridcolor\":\"white\",\"linecolor\":\"white\",\"ticks\":\"\"},\"bgcolor\":\"#E5ECF6\",\"caxis\":{\"gridcolor\":\"white\",\"linecolor\":\"white\",\"ticks\":\"\"}},\"title\":{\"x\":0.05},\"xaxis\":{\"automargin\":true,\"gridcolor\":\"white\",\"linecolor\":\"white\",\"ticks\":\"\",\"title\":{\"standoff\":15},\"zerolinecolor\":\"white\",\"zerolinewidth\":2},\"yaxis\":{\"automargin\":true,\"gridcolor\":\"white\",\"linecolor\":\"white\",\"ticks\":\"\",\"title\":{\"standoff\":15},\"zerolinecolor\":\"white\",\"zerolinewidth\":2}}},\"xaxis\":{\"anchor\":\"y\",\"domain\":[0.0,1.0],\"title\":{\"text\":\"Year\"},\"showgrid\":false},\"yaxis\":{\"anchor\":\"x\",\"domain\":[0.0,1.0],\"title\":{\"text\":\"Subscribers\"},\"showgrid\":false,\"categoryorder\":\"total ascending\",\"ticksuffix\":\" \",\"showline\":false},\"legend\":{\"tracegroupgap\":0,\"orientation\":\"h\",\"yanchor\":\"bottom\",\"y\":1,\"xanchor\":\"center\",\"x\":0.5},\"title\":{\"text\":\"Which Month is the most Shares in 2021\",\"font\":{\"size\":25,\"color\":\"#8a8d93\",\"family\":\"Lato, sans-serif\"}},\"barmode\":\"relative\",\"margin\":{\"t\":80,\"b\":0,\"l\":70,\"r\":40},\"font\":{\"color\":\"#8a8d93\"},\"hoverlabel\":{\"font\":{\"size\":13,\"family\":\"Lato, sans-serif\"},\"bgcolor\":\"black\"},\"hovermode\":\"y unified\",\"height\":400,\"plot_bgcolor\":\"#333\",\"paper_bgcolor\":\"#333\"},                        {\"responsive\": true}                    ).then(function(){\n",
       "                            \n",
       "var gd = document.getElementById('96934371-cbc7-4893-b469-d059c1a27222');\n",
       "var x = new MutationObserver(function (mutations, observer) {{\n",
       "        var display = window.getComputedStyle(gd).display;\n",
       "        if (!display || display === 'none') {{\n",
       "            console.log([gd, 'removed!']);\n",
       "            Plotly.purge(gd);\n",
       "            observer.disconnect();\n",
       "        }}\n",
       "}});\n",
       "\n",
       "// Listen for the removal of the full notebook cells\n",
       "var notebookContainer = gd.closest('#notebook-container');\n",
       "if (notebookContainer) {{\n",
       "    x.observe(notebookContainer, {childList: true});\n",
       "}}\n",
       "\n",
       "// Listen for the clearing of the current output cell\n",
       "var outputEl = gd.closest('.output');\n",
       "if (outputEl) {{\n",
       "    x.observe(outputEl, {childList: true});\n",
       "}}\n",
       "\n",
       "                        })                };                });            </script>        </div>"
      ]
     },
     "metadata": {},
     "output_type": "display_data"
    }
   ],
   "source": [
    "share21=year21.groupby([\"Month_name\"])[\"Shares\"].sum().sort_values(ascending=False).reset_index()\n",
    "fig=px.bar(share21,x=\"Month_name\",y=\"Shares\",title=\"Which Month is the most Shares in 2021\",color_discrete_sequence=[\"maroon\"],text=\"Shares\")\n",
    "\n",
    "fig.update_xaxes(showgrid=False)\n",
    "\n",
    "fig.update_yaxes(showgrid=False, categoryorder='total ascending', ticksuffix=' ', showline=False)\n",
    "\n",
    "fig.update_traces(hovertemplate=None, marker=dict(line=dict(width=0)))\n",
    "\n",
    "fig.update_layout(margin=dict(t=80, b=0, l=70, r=40),hovermode=\"y unified\",\n",
    "                  xaxis_title='Year', yaxis_title=\"Subscribers\", height=400,plot_bgcolor='#333', paper_bgcolor='#333',\n",
    "title_font=dict(size=25, color='#8a8d93', family=\"Lato, sans-serif\"),\n",
    "font=dict(color='#8a8d93'),\n",
    "                  legend=dict(orientation=\"h\", yanchor=\"bottom\", y=1, xanchor=\"center\", x=0.5),\n",
    "                  hoverlabel=dict(bgcolor=\"black\", font_size=13, font_family=\"Lato, sans-serif\"))\n",
    "                  \n",
    "\n",
    "\n",
    "                                                                                                                     "
   ]
  },
  {
   "cell_type": "markdown",
   "id": "a7a62b52",
   "metadata": {
    "papermill": {
     "duration": 0.076426,
     "end_time": "2023-12-19T20:14:47.430526",
     "exception": false,
     "start_time": "2023-12-19T20:14:47.354100",
     "status": "completed"
    },
    "tags": []
   },
   "source": [
    "# I hope you guys liked my work,please upvote me & Thanks Kee Jee   "
   ]
  },
  {
   "cell_type": "code",
   "execution_count": null,
   "id": "d37111d1",
   "metadata": {
    "papermill": {
     "duration": 0.077717,
     "end_time": "2023-12-19T20:14:47.585503",
     "exception": false,
     "start_time": "2023-12-19T20:14:47.507786",
     "status": "completed"
    },
    "tags": []
   },
   "outputs": [],
   "source": []
  }
 ],
 "metadata": {
  "kaggle": {
   "accelerator": "none",
   "dataSources": [
    {
     "datasetId": 1883326,
     "sourceId": 3078823,
     "sourceType": "datasetVersion"
    }
   ],
   "dockerImageVersionId": 30176,
   "isGpuEnabled": false,
   "isInternetEnabled": true,
   "language": "python",
   "sourceType": "notebook"
  },
  "kernelspec": {
   "display_name": "Python 3",
   "language": "python",
   "name": "python3"
  },
  "language_info": {
   "codemirror_mode": {
    "name": "ipython",
    "version": 3
   },
   "file_extension": ".py",
   "mimetype": "text/x-python",
   "name": "python",
   "nbconvert_exporter": "python",
   "pygments_lexer": "ipython3",
   "version": "3.7.12"
  },
  "papermill": {
   "default_parameters": {},
   "duration": 34.451734,
   "end_time": "2023-12-19T20:14:48.472866",
   "environment_variables": {},
   "exception": null,
   "input_path": "__notebook__.ipynb",
   "output_path": "__notebook__.ipynb",
   "parameters": {},
   "start_time": "2023-12-19T20:14:14.021132",
   "version": "2.3.3"
  }
 },
 "nbformat": 4,
 "nbformat_minor": 5
}
